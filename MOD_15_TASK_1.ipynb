{
 "cells": [
  {
   "cell_type": "code",
   "execution_count": 30,
   "metadata": {},
   "outputs": [],
   "source": [
    "# manipulacja danymi\n",
    "import numpy as np\n",
    "import pandas as pd\n",
    "\n",
    "# wizualizacja\n",
    "import matplotlib.pyplot as plt\n",
    "import seaborn as sns\n",
    "\n",
    "# podział danych na zbiory treningowe/walidacyjne/testowe\n",
    "from sklearn.model_selection import train_test_split, GridSearchCV\n",
    "\n",
    "# budowa Pipeline\n",
    "from sklearn.pipeline import FeatureUnion, Pipeline\n",
    "from sklearn.base import BaseEstimator, TransformerMixin\n",
    "from sklearn.compose import ColumnTransformer\n",
    "\n",
    "# Preprocessing\n",
    "from sklearn.impute import SimpleImputer\n",
    "from sklearn.preprocessing import OneHotEncoder, StandardScaler, PolynomialFeatures, PowerTransformer\n",
    "\n",
    "# redukcja wymiarowości\n",
    "from sklearn.decomposition import PCA\n",
    "\n",
    "# model\n",
    "from sklearn.linear_model import LogisticRegression\n",
    "from sklearn.ensemble import AdaBoostClassifier\n",
    "from sklearn.tree import DecisionTreeClassifier\n",
    "\n",
    "# ewaluacja\n",
    "from sklearn.metrics import classification_report, confusion_matrix, roc_curve, f1_score, roc_auc_score"
   ]
  },
  {
   "cell_type": "markdown",
   "metadata": {},
   "source": [
    "It's gonna be PENGUINGS againn, google 'penguings Cumberbatch' and have fun:))"
   ]
  },
  {
   "cell_type": "code",
   "execution_count": 31,
   "metadata": {},
   "outputs": [
    {
     "data": {
      "text/html": [
       "<div>\n",
       "<style scoped>\n",
       "    .dataframe tbody tr th:only-of-type {\n",
       "        vertical-align: middle;\n",
       "    }\n",
       "\n",
       "    .dataframe tbody tr th {\n",
       "        vertical-align: top;\n",
       "    }\n",
       "\n",
       "    .dataframe thead th {\n",
       "        text-align: right;\n",
       "    }\n",
       "</style>\n",
       "<table border=\"1\" class=\"dataframe\">\n",
       "  <thead>\n",
       "    <tr style=\"text-align: right;\">\n",
       "      <th></th>\n",
       "      <th>CulmenLength</th>\n",
       "      <th>CulmenDepth</th>\n",
       "      <th>FlipperLength</th>\n",
       "      <th>BodyMass</th>\n",
       "      <th>Species</th>\n",
       "    </tr>\n",
       "  </thead>\n",
       "  <tbody>\n",
       "    <tr>\n",
       "      <th>0</th>\n",
       "      <td>39.1</td>\n",
       "      <td>18.7</td>\n",
       "      <td>181.0</td>\n",
       "      <td>3750.0</td>\n",
       "      <td>0</td>\n",
       "    </tr>\n",
       "    <tr>\n",
       "      <th>1</th>\n",
       "      <td>39.5</td>\n",
       "      <td>17.4</td>\n",
       "      <td>186.0</td>\n",
       "      <td>3800.0</td>\n",
       "      <td>0</td>\n",
       "    </tr>\n",
       "    <tr>\n",
       "      <th>2</th>\n",
       "      <td>40.3</td>\n",
       "      <td>18.0</td>\n",
       "      <td>195.0</td>\n",
       "      <td>3250.0</td>\n",
       "      <td>0</td>\n",
       "    </tr>\n",
       "    <tr>\n",
       "      <th>3</th>\n",
       "      <td>NaN</td>\n",
       "      <td>NaN</td>\n",
       "      <td>NaN</td>\n",
       "      <td>NaN</td>\n",
       "      <td>0</td>\n",
       "    </tr>\n",
       "    <tr>\n",
       "      <th>4</th>\n",
       "      <td>36.7</td>\n",
       "      <td>19.3</td>\n",
       "      <td>193.0</td>\n",
       "      <td>3450.0</td>\n",
       "      <td>0</td>\n",
       "    </tr>\n",
       "    <tr>\n",
       "      <th>...</th>\n",
       "      <td>...</td>\n",
       "      <td>...</td>\n",
       "      <td>...</td>\n",
       "      <td>...</td>\n",
       "      <td>...</td>\n",
       "    </tr>\n",
       "    <tr>\n",
       "      <th>339</th>\n",
       "      <td>55.8</td>\n",
       "      <td>19.8</td>\n",
       "      <td>207.0</td>\n",
       "      <td>4000.0</td>\n",
       "      <td>2</td>\n",
       "    </tr>\n",
       "    <tr>\n",
       "      <th>340</th>\n",
       "      <td>43.5</td>\n",
       "      <td>18.1</td>\n",
       "      <td>202.0</td>\n",
       "      <td>3400.0</td>\n",
       "      <td>2</td>\n",
       "    </tr>\n",
       "    <tr>\n",
       "      <th>341</th>\n",
       "      <td>49.6</td>\n",
       "      <td>18.2</td>\n",
       "      <td>193.0</td>\n",
       "      <td>3775.0</td>\n",
       "      <td>2</td>\n",
       "    </tr>\n",
       "    <tr>\n",
       "      <th>342</th>\n",
       "      <td>50.8</td>\n",
       "      <td>19.0</td>\n",
       "      <td>210.0</td>\n",
       "      <td>4100.0</td>\n",
       "      <td>2</td>\n",
       "    </tr>\n",
       "    <tr>\n",
       "      <th>343</th>\n",
       "      <td>50.2</td>\n",
       "      <td>18.7</td>\n",
       "      <td>198.0</td>\n",
       "      <td>3775.0</td>\n",
       "      <td>2</td>\n",
       "    </tr>\n",
       "  </tbody>\n",
       "</table>\n",
       "<p>344 rows × 5 columns</p>\n",
       "</div>"
      ],
      "text/plain": [
       "     CulmenLength  CulmenDepth  FlipperLength  BodyMass  Species\n",
       "0            39.1         18.7          181.0    3750.0        0\n",
       "1            39.5         17.4          186.0    3800.0        0\n",
       "2            40.3         18.0          195.0    3250.0        0\n",
       "3             NaN          NaN            NaN       NaN        0\n",
       "4            36.7         19.3          193.0    3450.0        0\n",
       "..            ...          ...            ...       ...      ...\n",
       "339          55.8         19.8          207.0    4000.0        2\n",
       "340          43.5         18.1          202.0    3400.0        2\n",
       "341          49.6         18.2          193.0    3775.0        2\n",
       "342          50.8         19.0          210.0    4100.0        2\n",
       "343          50.2         18.7          198.0    3775.0        2\n",
       "\n",
       "[344 rows x 5 columns]"
      ]
     },
     "execution_count": 31,
     "metadata": {},
     "output_type": "execute_result"
    }
   ],
   "source": [
    "penguings = pd.read_csv(r'C:\\_PRYWATNE\\LANGUAGES\\Python\\_DATA_SCIENCE\\py\\MOD_15\\penguins.csv')\n",
    "penguings"
   ]
  },
  {
   "cell_type": "markdown",
   "metadata": {},
   "source": [
    "what do `random state` and `stratify` actually do?"
   ]
  },
  {
   "cell_type": "markdown",
   "metadata": {},
   "source": [
    "->here I'm dividing the raw dataset into all th eneeded parts"
   ]
  },
  {
   "cell_type": "code",
   "execution_count": 32,
   "metadata": {},
   "outputs": [],
   "source": [
    "X = penguings.drop(['Species'], axis=1).copy()\n",
    "y = penguings['Species'].copy()\n",
    "\n",
    "X_train, X_test, y_train, y_test = train_test_split(X, y, test_size=0.25, random_state=42, stratify=y)\n"
   ]
  },
  {
   "cell_type": "code",
   "execution_count": 33,
   "metadata": {},
   "outputs": [
    {
     "name": "stdout",
     "output_type": "stream",
     "text": [
      "<class 'pandas.core.frame.DataFrame'>\n",
      "RangeIndex: 344 entries, 0 to 343\n",
      "Data columns (total 4 columns):\n",
      " #   Column         Non-Null Count  Dtype  \n",
      "---  ------         --------------  -----  \n",
      " 0   CulmenLength   342 non-null    float64\n",
      " 1   CulmenDepth    342 non-null    float64\n",
      " 2   FlipperLength  342 non-null    float64\n",
      " 3   BodyMass       342 non-null    float64\n",
      "dtypes: float64(4)\n",
      "memory usage: 10.9 KB\n"
     ]
    }
   ],
   "source": [
    "X.info()"
   ]
  },
  {
   "cell_type": "code",
   "execution_count": 34,
   "metadata": {},
   "outputs": [
    {
     "name": "stdout",
     "output_type": "stream",
     "text": [
      "<class 'pandas.core.series.Series'>\n",
      "RangeIndex: 344 entries, 0 to 343\n",
      "Series name: Species\n",
      "Non-Null Count  Dtype\n",
      "--------------  -----\n",
      "344 non-null    int64\n",
      "dtypes: int64(1)\n",
      "memory usage: 2.8 KB\n"
     ]
    }
   ],
   "source": [
    "y.info()"
   ]
  },
  {
   "cell_type": "code",
   "execution_count": 35,
   "metadata": {},
   "outputs": [
    {
     "name": "stdout",
     "output_type": "stream",
     "text": [
      "<class 'pandas.core.frame.DataFrame'>\n",
      "Index: 258 entries, 326 to 140\n",
      "Data columns (total 4 columns):\n",
      " #   Column         Non-Null Count  Dtype  \n",
      "---  ------         --------------  -----  \n",
      " 0   CulmenLength   256 non-null    float64\n",
      " 1   CulmenDepth    256 non-null    float64\n",
      " 2   FlipperLength  256 non-null    float64\n",
      " 3   BodyMass       256 non-null    float64\n",
      "dtypes: float64(4)\n",
      "memory usage: 10.1 KB\n"
     ]
    }
   ],
   "source": [
    "X_train.info()"
   ]
  },
  {
   "cell_type": "code",
   "execution_count": 36,
   "metadata": {},
   "outputs": [
    {
     "name": "stdout",
     "output_type": "stream",
     "text": [
      "<class 'pandas.core.series.Series'>\n",
      "Index: 258 entries, 326 to 140\n",
      "Series name: Species\n",
      "Non-Null Count  Dtype\n",
      "--------------  -----\n",
      "258 non-null    int64\n",
      "dtypes: int64(1)\n",
      "memory usage: 4.0 KB\n"
     ]
    }
   ],
   "source": [
    "y_train.info()"
   ]
  },
  {
   "cell_type": "markdown",
   "metadata": {},
   "source": [
    "next, preparation of all needed elements to construct a pipeline.\n",
    "\n",
    "1) numerical values preparation (in this case there's no cat values except for the results)\n",
    "    a) fill missing values\n",
    "    b) polynomoal features - wtf?\n",
    "    c) scaler 1 - wtf?\n",
    "    d) pca - wtf?\n",
    "    e) scaler 2 - same as scaler 1, but after pca. What's going on?\n",
    "\n",
    "2) no cat values, appears to be a bit less work for me:))\n",
    "\n",
    "3) transformer //data_preparation / preprocessor// - creates the actual 'transformer fuction' which will be later applied to the `pipeline model`. This merges the numerical and categorical preparation workflows.\n",
    "\n",
    "4) creation of the model\n",
    "\n",
    "5) fit the model\n",
    "\n",
    "6) check up the model:\n",
    "    a) calculate metrics\n",
    "    b)visualise the model or its' performance"
   ]
  },
  {
   "cell_type": "code",
   "execution_count": 37,
   "metadata": {},
   "outputs": [],
   "source": [
    "num_features = ['CulmenLength', 'CulmenDepth', 'FlipperLength', 'BodyMass']\n",
    "\n",
    "#prepare num values\n",
    "num_preparation = Pipeline(steps=[\n",
    "    ('fill_missing', SimpleImputer(strategy='mean')),\n",
    "])\n",
    "\n",
    "#no cat values to be prepared\n",
    "\n",
    "##transformer\n",
    "data_preparation = ColumnTransformer(transformers=[\n",
    "    ('numeric_preprocessing', num_preparation, num_features)\n",
    "])\n",
    "\n",
    "model = AdaBoostClassifier(base_estimator=DecisionTreeClassifier(max_depth=1), n_estimators=50)\n",
    "\n",
    "\n",
    "model_pipeline = Pipeline(steps=[\n",
    "    ('preprocessor', data_preparation),\n",
    "    ('model', model)\n",
    "])\n"
   ]
  },
  {
   "cell_type": "code",
   "execution_count": 38,
   "metadata": {},
   "outputs": [
    {
     "data": {
      "text/plain": [
       "['memory',\n",
       " 'steps',\n",
       " 'verbose',\n",
       " 'preprocessor',\n",
       " 'model',\n",
       " 'preprocessor__n_jobs',\n",
       " 'preprocessor__remainder',\n",
       " 'preprocessor__sparse_threshold',\n",
       " 'preprocessor__transformer_weights',\n",
       " 'preprocessor__transformers',\n",
       " 'preprocessor__verbose',\n",
       " 'preprocessor__verbose_feature_names_out',\n",
       " 'preprocessor__numeric_preprocessing',\n",
       " 'preprocessor__numeric_preprocessing__memory',\n",
       " 'preprocessor__numeric_preprocessing__steps',\n",
       " 'preprocessor__numeric_preprocessing__verbose',\n",
       " 'preprocessor__numeric_preprocessing__fill_missing',\n",
       " 'preprocessor__numeric_preprocessing__fill_missing__add_indicator',\n",
       " 'preprocessor__numeric_preprocessing__fill_missing__copy',\n",
       " 'preprocessor__numeric_preprocessing__fill_missing__fill_value',\n",
       " 'preprocessor__numeric_preprocessing__fill_missing__keep_empty_features',\n",
       " 'preprocessor__numeric_preprocessing__fill_missing__missing_values',\n",
       " 'preprocessor__numeric_preprocessing__fill_missing__strategy',\n",
       " 'preprocessor__numeric_preprocessing__fill_missing__verbose',\n",
       " 'model__algorithm',\n",
       " 'model__base_estimator__ccp_alpha',\n",
       " 'model__base_estimator__class_weight',\n",
       " 'model__base_estimator__criterion',\n",
       " 'model__base_estimator__max_depth',\n",
       " 'model__base_estimator__max_features',\n",
       " 'model__base_estimator__max_leaf_nodes',\n",
       " 'model__base_estimator__min_impurity_decrease',\n",
       " 'model__base_estimator__min_samples_leaf',\n",
       " 'model__base_estimator__min_samples_split',\n",
       " 'model__base_estimator__min_weight_fraction_leaf',\n",
       " 'model__base_estimator__random_state',\n",
       " 'model__base_estimator__splitter',\n",
       " 'model__base_estimator',\n",
       " 'model__estimator',\n",
       " 'model__learning_rate',\n",
       " 'model__n_estimators',\n",
       " 'model__random_state']"
      ]
     },
     "execution_count": 38,
     "metadata": {},
     "output_type": "execute_result"
    }
   ],
   "source": [
    "list(model_pipeline.get_params().keys())"
   ]
  },
  {
   "cell_type": "code",
   "execution_count": 39,
   "metadata": {},
   "outputs": [
    {
     "name": "stdout",
     "output_type": "stream",
     "text": [
      "Fitting 10 folds for each of 24 candidates, totalling 240 fits\n",
      "[CV 1/10; 1/24] START model__base_estimator__max_depth=0.01, model__n_estimators=25, preprocessor__numeric_preprocessing__fill_missing__strategy=mean\n",
      "[CV 1/10; 1/24] END model__base_estimator__max_depth=0.01, model__n_estimators=25, preprocessor__numeric_preprocessing__fill_missing__strategy=mean;, score=nan total time=   0.0s\n",
      "[CV 2/10; 1/24] START model__base_estimator__max_depth=0.01, model__n_estimators=25, preprocessor__numeric_preprocessing__fill_missing__strategy=mean\n",
      "[CV 2/10; 1/24] END model__base_estimator__max_depth=0.01, model__n_estimators=25, preprocessor__numeric_preprocessing__fill_missing__strategy=mean;, score=nan total time=   0.0s\n",
      "[CV 3/10; 1/24] START model__base_estimator__max_depth=0.01, model__n_estimators=25, preprocessor__numeric_preprocessing__fill_missing__strategy=mean\n",
      "[CV 3/10; 1/24] END model__base_estimator__max_depth=0.01, model__n_estimators=25, preprocessor__numeric_preprocessing__fill_missing__strategy=mean;, score=nan total time=   0.0s\n",
      "[CV 4/10; 1/24] START model__base_estimator__max_depth=0.01, model__n_estimators=25, preprocessor__numeric_preprocessing__fill_missing__strategy=mean\n",
      "[CV 4/10; 1/24] END model__base_estimator__max_depth=0.01, model__n_estimators=25, preprocessor__numeric_preprocessing__fill_missing__strategy=mean;, score=nan total time=   0.0s\n",
      "[CV 5/10; 1/24] START model__base_estimator__max_depth=0.01, model__n_estimators=25, preprocessor__numeric_preprocessing__fill_missing__strategy=mean\n",
      "[CV 5/10; 1/24] END model__base_estimator__max_depth=0.01, model__n_estimators=25, preprocessor__numeric_preprocessing__fill_missing__strategy=mean;, score=nan total time=   0.0s\n",
      "[CV 6/10; 1/24] START model__base_estimator__max_depth=0.01, model__n_estimators=25, preprocessor__numeric_preprocessing__fill_missing__strategy=mean\n",
      "[CV 6/10; 1/24] END model__base_estimator__max_depth=0.01, model__n_estimators=25, preprocessor__numeric_preprocessing__fill_missing__strategy=mean;, score=nan total time=   0.0s\n",
      "[CV 7/10; 1/24] START model__base_estimator__max_depth=0.01, model__n_estimators=25, preprocessor__numeric_preprocessing__fill_missing__strategy=mean\n",
      "[CV 7/10; 1/24] END model__base_estimator__max_depth=0.01, model__n_estimators=25, preprocessor__numeric_preprocessing__fill_missing__strategy=mean;, score=nan total time=   0.0s\n",
      "[CV 8/10; 1/24] START model__base_estimator__max_depth=0.01, model__n_estimators=25, preprocessor__numeric_preprocessing__fill_missing__strategy=mean\n",
      "[CV 8/10; 1/24] END model__base_estimator__max_depth=0.01, model__n_estimators=25, preprocessor__numeric_preprocessing__fill_missing__strategy=mean;, score=nan total time=   0.0s\n",
      "[CV 9/10; 1/24] START model__base_estimator__max_depth=0.01, model__n_estimators=25, preprocessor__numeric_preprocessing__fill_missing__strategy=mean\n",
      "[CV 9/10; 1/24] END model__base_estimator__max_depth=0.01, model__n_estimators=25, preprocessor__numeric_preprocessing__fill_missing__strategy=mean;, score=nan total time=   0.0s\n",
      "[CV 10/10; 1/24] START model__base_estimator__max_depth=0.01, model__n_estimators=25, preprocessor__numeric_preprocessing__fill_missing__strategy=mean\n",
      "[CV 10/10; 1/24] END model__base_estimator__max_depth=0.01, model__n_estimators=25, preprocessor__numeric_preprocessing__fill_missing__strategy=mean;, score=nan total time=   0.0s\n",
      "[CV 1/10; 2/24] START model__base_estimator__max_depth=0.01, model__n_estimators=25, preprocessor__numeric_preprocessing__fill_missing__strategy=median\n",
      "[CV 1/10; 2/24] END model__base_estimator__max_depth=0.01, model__n_estimators=25, preprocessor__numeric_preprocessing__fill_missing__strategy=median;, score=nan total time=   0.0s\n",
      "[CV 2/10; 2/24] START model__base_estimator__max_depth=0.01, model__n_estimators=25, preprocessor__numeric_preprocessing__fill_missing__strategy=median\n",
      "[CV 2/10; 2/24] END model__base_estimator__max_depth=0.01, model__n_estimators=25, preprocessor__numeric_preprocessing__fill_missing__strategy=median;, score=nan total time=   0.0s\n",
      "[CV 3/10; 2/24] START model__base_estimator__max_depth=0.01, model__n_estimators=25, preprocessor__numeric_preprocessing__fill_missing__strategy=median\n",
      "[CV 3/10; 2/24] END model__base_estimator__max_depth=0.01, model__n_estimators=25, preprocessor__numeric_preprocessing__fill_missing__strategy=median;, score=nan total time=   0.0s\n",
      "[CV 4/10; 2/24] START model__base_estimator__max_depth=0.01, model__n_estimators=25, preprocessor__numeric_preprocessing__fill_missing__strategy=median\n",
      "[CV 4/10; 2/24] END model__base_estimator__max_depth=0.01, model__n_estimators=25, preprocessor__numeric_preprocessing__fill_missing__strategy=median;, score=nan total time=   0.0s\n",
      "[CV 5/10; 2/24] START model__base_estimator__max_depth=0.01, model__n_estimators=25, preprocessor__numeric_preprocessing__fill_missing__strategy=median\n",
      "[CV 5/10; 2/24] END model__base_estimator__max_depth=0.01, model__n_estimators=25, preprocessor__numeric_preprocessing__fill_missing__strategy=median;, score=nan total time=   0.0s\n",
      "[CV 6/10; 2/24] START model__base_estimator__max_depth=0.01, model__n_estimators=25, preprocessor__numeric_preprocessing__fill_missing__strategy=median\n",
      "[CV 6/10; 2/24] END model__base_estimator__max_depth=0.01, model__n_estimators=25, preprocessor__numeric_preprocessing__fill_missing__strategy=median;, score=nan total time=   0.0s\n",
      "[CV 7/10; 2/24] START model__base_estimator__max_depth=0.01, model__n_estimators=25, preprocessor__numeric_preprocessing__fill_missing__strategy=median\n",
      "[CV 7/10; 2/24] END model__base_estimator__max_depth=0.01, model__n_estimators=25, preprocessor__numeric_preprocessing__fill_missing__strategy=median;, score=nan total time=   0.0s\n",
      "[CV 8/10; 2/24] START model__base_estimator__max_depth=0.01, model__n_estimators=25, preprocessor__numeric_preprocessing__fill_missing__strategy=median\n",
      "[CV 8/10; 2/24] END model__base_estimator__max_depth=0.01, model__n_estimators=25, preprocessor__numeric_preprocessing__fill_missing__strategy=median;, score=nan total time=   0.0s\n",
      "[CV 9/10; 2/24] START model__base_estimator__max_depth=0.01, model__n_estimators=25, preprocessor__numeric_preprocessing__fill_missing__strategy=median\n",
      "[CV 9/10; 2/24] END model__base_estimator__max_depth=0.01, model__n_estimators=25, preprocessor__numeric_preprocessing__fill_missing__strategy=median;, score=nan total time=   0.0s\n",
      "[CV 10/10; 2/24] START model__base_estimator__max_depth=0.01, model__n_estimators=25, preprocessor__numeric_preprocessing__fill_missing__strategy=median\n",
      "[CV 10/10; 2/24] END model__base_estimator__max_depth=0.01, model__n_estimators=25, preprocessor__numeric_preprocessing__fill_missing__strategy=median;, score=nan total time=   0.0s\n",
      "[CV 1/10; 3/24] START model__base_estimator__max_depth=0.01, model__n_estimators=50, preprocessor__numeric_preprocessing__fill_missing__strategy=mean\n",
      "[CV 1/10; 3/24] END model__base_estimator__max_depth=0.01, model__n_estimators=50, preprocessor__numeric_preprocessing__fill_missing__strategy=mean;, score=nan total time=   0.0s\n",
      "[CV 2/10; 3/24] START model__base_estimator__max_depth=0.01, model__n_estimators=50, preprocessor__numeric_preprocessing__fill_missing__strategy=mean\n",
      "[CV 2/10; 3/24] END model__base_estimator__max_depth=0.01, model__n_estimators=50, preprocessor__numeric_preprocessing__fill_missing__strategy=mean;, score=nan total time=   0.0s\n",
      "[CV 3/10; 3/24] START model__base_estimator__max_depth=0.01, model__n_estimators=50, preprocessor__numeric_preprocessing__fill_missing__strategy=mean\n",
      "[CV 3/10; 3/24] END model__base_estimator__max_depth=0.01, model__n_estimators=50, preprocessor__numeric_preprocessing__fill_missing__strategy=mean;, score=nan total time=   0.0s\n",
      "[CV 4/10; 3/24] START model__base_estimator__max_depth=0.01, model__n_estimators=50, preprocessor__numeric_preprocessing__fill_missing__strategy=mean\n",
      "[CV 4/10; 3/24] END model__base_estimator__max_depth=0.01, model__n_estimators=50, preprocessor__numeric_preprocessing__fill_missing__strategy=mean;, score=nan total time=   0.0s\n",
      "[CV 5/10; 3/24] START model__base_estimator__max_depth=0.01, model__n_estimators=50, preprocessor__numeric_preprocessing__fill_missing__strategy=mean\n",
      "[CV 5/10; 3/24] END model__base_estimator__max_depth=0.01, model__n_estimators=50, preprocessor__numeric_preprocessing__fill_missing__strategy=mean;, score=nan total time=   0.0s\n",
      "[CV 6/10; 3/24] START model__base_estimator__max_depth=0.01, model__n_estimators=50, preprocessor__numeric_preprocessing__fill_missing__strategy=mean\n",
      "[CV 6/10; 3/24] END model__base_estimator__max_depth=0.01, model__n_estimators=50, preprocessor__numeric_preprocessing__fill_missing__strategy=mean;, score=nan total time=   0.0s\n",
      "[CV 7/10; 3/24] START model__base_estimator__max_depth=0.01, model__n_estimators=50, preprocessor__numeric_preprocessing__fill_missing__strategy=mean\n",
      "[CV 7/10; 3/24] END model__base_estimator__max_depth=0.01, model__n_estimators=50, preprocessor__numeric_preprocessing__fill_missing__strategy=mean;, score=nan total time=   0.0s\n",
      "[CV 8/10; 3/24] START model__base_estimator__max_depth=0.01, model__n_estimators=50, preprocessor__numeric_preprocessing__fill_missing__strategy=mean\n"
     ]
    },
    {
     "name": "stderr",
     "output_type": "stream",
     "text": [
      "c:\\Users\\krzys\\anaconda3\\Lib\\site-packages\\sklearn\\ensemble\\_base.py:166: FutureWarning: `base_estimator` was renamed to `estimator` in version 1.2 and will be removed in 1.4.\n",
      "  warnings.warn(\n",
      "c:\\Users\\krzys\\anaconda3\\Lib\\site-packages\\sklearn\\ensemble\\_base.py:166: FutureWarning: `base_estimator` was renamed to `estimator` in version 1.2 and will be removed in 1.4.\n",
      "  warnings.warn(\n",
      "c:\\Users\\krzys\\anaconda3\\Lib\\site-packages\\sklearn\\ensemble\\_base.py:166: FutureWarning: `base_estimator` was renamed to `estimator` in version 1.2 and will be removed in 1.4.\n",
      "  warnings.warn(\n",
      "c:\\Users\\krzys\\anaconda3\\Lib\\site-packages\\sklearn\\ensemble\\_base.py:166: FutureWarning: `base_estimator` was renamed to `estimator` in version 1.2 and will be removed in 1.4.\n",
      "  warnings.warn(\n",
      "c:\\Users\\krzys\\anaconda3\\Lib\\site-packages\\sklearn\\ensemble\\_base.py:166: FutureWarning: `base_estimator` was renamed to `estimator` in version 1.2 and will be removed in 1.4.\n",
      "  warnings.warn(\n",
      "c:\\Users\\krzys\\anaconda3\\Lib\\site-packages\\sklearn\\ensemble\\_base.py:166: FutureWarning: `base_estimator` was renamed to `estimator` in version 1.2 and will be removed in 1.4.\n",
      "  warnings.warn(\n",
      "c:\\Users\\krzys\\anaconda3\\Lib\\site-packages\\sklearn\\ensemble\\_base.py:166: FutureWarning: `base_estimator` was renamed to `estimator` in version 1.2 and will be removed in 1.4.\n",
      "  warnings.warn(\n",
      "c:\\Users\\krzys\\anaconda3\\Lib\\site-packages\\sklearn\\ensemble\\_base.py:166: FutureWarning: `base_estimator` was renamed to `estimator` in version 1.2 and will be removed in 1.4.\n",
      "  warnings.warn(\n",
      "c:\\Users\\krzys\\anaconda3\\Lib\\site-packages\\sklearn\\ensemble\\_base.py:166: FutureWarning: `base_estimator` was renamed to `estimator` in version 1.2 and will be removed in 1.4.\n",
      "  warnings.warn(\n",
      "c:\\Users\\krzys\\anaconda3\\Lib\\site-packages\\sklearn\\ensemble\\_base.py:166: FutureWarning: `base_estimator` was renamed to `estimator` in version 1.2 and will be removed in 1.4.\n",
      "  warnings.warn(\n",
      "c:\\Users\\krzys\\anaconda3\\Lib\\site-packages\\sklearn\\ensemble\\_base.py:166: FutureWarning: `base_estimator` was renamed to `estimator` in version 1.2 and will be removed in 1.4.\n",
      "  warnings.warn(\n",
      "c:\\Users\\krzys\\anaconda3\\Lib\\site-packages\\sklearn\\ensemble\\_base.py:166: FutureWarning: `base_estimator` was renamed to `estimator` in version 1.2 and will be removed in 1.4.\n",
      "  warnings.warn(\n",
      "c:\\Users\\krzys\\anaconda3\\Lib\\site-packages\\sklearn\\ensemble\\_base.py:166: FutureWarning: `base_estimator` was renamed to `estimator` in version 1.2 and will be removed in 1.4.\n",
      "  warnings.warn(\n",
      "c:\\Users\\krzys\\anaconda3\\Lib\\site-packages\\sklearn\\ensemble\\_base.py:166: FutureWarning: `base_estimator` was renamed to `estimator` in version 1.2 and will be removed in 1.4.\n",
      "  warnings.warn(\n",
      "c:\\Users\\krzys\\anaconda3\\Lib\\site-packages\\sklearn\\ensemble\\_base.py:166: FutureWarning: `base_estimator` was renamed to `estimator` in version 1.2 and will be removed in 1.4.\n",
      "  warnings.warn(\n",
      "c:\\Users\\krzys\\anaconda3\\Lib\\site-packages\\sklearn\\ensemble\\_base.py:166: FutureWarning: `base_estimator` was renamed to `estimator` in version 1.2 and will be removed in 1.4.\n",
      "  warnings.warn(\n",
      "c:\\Users\\krzys\\anaconda3\\Lib\\site-packages\\sklearn\\ensemble\\_base.py:166: FutureWarning: `base_estimator` was renamed to `estimator` in version 1.2 and will be removed in 1.4.\n",
      "  warnings.warn(\n",
      "c:\\Users\\krzys\\anaconda3\\Lib\\site-packages\\sklearn\\ensemble\\_base.py:166: FutureWarning: `base_estimator` was renamed to `estimator` in version 1.2 and will be removed in 1.4.\n",
      "  warnings.warn(\n",
      "c:\\Users\\krzys\\anaconda3\\Lib\\site-packages\\sklearn\\ensemble\\_base.py:166: FutureWarning: `base_estimator` was renamed to `estimator` in version 1.2 and will be removed in 1.4.\n",
      "  warnings.warn(\n",
      "c:\\Users\\krzys\\anaconda3\\Lib\\site-packages\\sklearn\\ensemble\\_base.py:166: FutureWarning: `base_estimator` was renamed to `estimator` in version 1.2 and will be removed in 1.4.\n",
      "  warnings.warn(\n",
      "c:\\Users\\krzys\\anaconda3\\Lib\\site-packages\\sklearn\\ensemble\\_base.py:166: FutureWarning: `base_estimator` was renamed to `estimator` in version 1.2 and will be removed in 1.4.\n",
      "  warnings.warn(\n",
      "c:\\Users\\krzys\\anaconda3\\Lib\\site-packages\\sklearn\\ensemble\\_base.py:166: FutureWarning: `base_estimator` was renamed to `estimator` in version 1.2 and will be removed in 1.4.\n",
      "  warnings.warn(\n",
      "c:\\Users\\krzys\\anaconda3\\Lib\\site-packages\\sklearn\\ensemble\\_base.py:166: FutureWarning: `base_estimator` was renamed to `estimator` in version 1.2 and will be removed in 1.4.\n",
      "  warnings.warn(\n",
      "c:\\Users\\krzys\\anaconda3\\Lib\\site-packages\\sklearn\\ensemble\\_base.py:166: FutureWarning: `base_estimator` was renamed to `estimator` in version 1.2 and will be removed in 1.4.\n",
      "  warnings.warn(\n",
      "c:\\Users\\krzys\\anaconda3\\Lib\\site-packages\\sklearn\\ensemble\\_base.py:166: FutureWarning: `base_estimator` was renamed to `estimator` in version 1.2 and will be removed in 1.4.\n",
      "  warnings.warn(\n",
      "c:\\Users\\krzys\\anaconda3\\Lib\\site-packages\\sklearn\\ensemble\\_base.py:166: FutureWarning: `base_estimator` was renamed to `estimator` in version 1.2 and will be removed in 1.4.\n",
      "  warnings.warn(\n",
      "c:\\Users\\krzys\\anaconda3\\Lib\\site-packages\\sklearn\\ensemble\\_base.py:166: FutureWarning: `base_estimator` was renamed to `estimator` in version 1.2 and will be removed in 1.4.\n",
      "  warnings.warn(\n",
      "c:\\Users\\krzys\\anaconda3\\Lib\\site-packages\\sklearn\\ensemble\\_base.py:166: FutureWarning: `base_estimator` was renamed to `estimator` in version 1.2 and will be removed in 1.4.\n",
      "  warnings.warn(\n"
     ]
    },
    {
     "name": "stdout",
     "output_type": "stream",
     "text": [
      "[CV 8/10; 3/24] END model__base_estimator__max_depth=0.01, model__n_estimators=50, preprocessor__numeric_preprocessing__fill_missing__strategy=mean;, score=nan total time=   0.0s\n",
      "[CV 9/10; 3/24] START model__base_estimator__max_depth=0.01, model__n_estimators=50, preprocessor__numeric_preprocessing__fill_missing__strategy=mean\n",
      "[CV 9/10; 3/24] END model__base_estimator__max_depth=0.01, model__n_estimators=50, preprocessor__numeric_preprocessing__fill_missing__strategy=mean;, score=nan total time=   0.0s\n",
      "[CV 10/10; 3/24] START model__base_estimator__max_depth=0.01, model__n_estimators=50, preprocessor__numeric_preprocessing__fill_missing__strategy=mean\n",
      "[CV 10/10; 3/24] END model__base_estimator__max_depth=0.01, model__n_estimators=50, preprocessor__numeric_preprocessing__fill_missing__strategy=mean;, score=nan total time=   0.0s\n",
      "[CV 1/10; 4/24] START model__base_estimator__max_depth=0.01, model__n_estimators=50, preprocessor__numeric_preprocessing__fill_missing__strategy=median\n",
      "[CV 1/10; 4/24] END model__base_estimator__max_depth=0.01, model__n_estimators=50, preprocessor__numeric_preprocessing__fill_missing__strategy=median;, score=nan total time=   0.0s\n",
      "[CV 2/10; 4/24] START model__base_estimator__max_depth=0.01, model__n_estimators=50, preprocessor__numeric_preprocessing__fill_missing__strategy=median\n",
      "[CV 2/10; 4/24] END model__base_estimator__max_depth=0.01, model__n_estimators=50, preprocessor__numeric_preprocessing__fill_missing__strategy=median;, score=nan total time=   0.0s\n",
      "[CV 3/10; 4/24] START model__base_estimator__max_depth=0.01, model__n_estimators=50, preprocessor__numeric_preprocessing__fill_missing__strategy=median\n",
      "[CV 3/10; 4/24] END model__base_estimator__max_depth=0.01, model__n_estimators=50, preprocessor__numeric_preprocessing__fill_missing__strategy=median;, score=nan total time=   0.0s\n",
      "[CV 4/10; 4/24] START model__base_estimator__max_depth=0.01, model__n_estimators=50, preprocessor__numeric_preprocessing__fill_missing__strategy=median\n",
      "[CV 4/10; 4/24] END model__base_estimator__max_depth=0.01, model__n_estimators=50, preprocessor__numeric_preprocessing__fill_missing__strategy=median;, score=nan total time=   0.0s\n",
      "[CV 5/10; 4/24] START model__base_estimator__max_depth=0.01, model__n_estimators=50, preprocessor__numeric_preprocessing__fill_missing__strategy=median\n",
      "[CV 5/10; 4/24] END model__base_estimator__max_depth=0.01, model__n_estimators=50, preprocessor__numeric_preprocessing__fill_missing__strategy=median;, score=nan total time=   0.0s\n",
      "[CV 6/10; 4/24] START model__base_estimator__max_depth=0.01, model__n_estimators=50, preprocessor__numeric_preprocessing__fill_missing__strategy=median\n",
      "[CV 6/10; 4/24] END model__base_estimator__max_depth=0.01, model__n_estimators=50, preprocessor__numeric_preprocessing__fill_missing__strategy=median;, score=nan total time=   0.0s\n",
      "[CV 7/10; 4/24] START model__base_estimator__max_depth=0.01, model__n_estimators=50, preprocessor__numeric_preprocessing__fill_missing__strategy=median\n",
      "[CV 7/10; 4/24] END model__base_estimator__max_depth=0.01, model__n_estimators=50, preprocessor__numeric_preprocessing__fill_missing__strategy=median;, score=nan total time=   0.0s\n",
      "[CV 8/10; 4/24] START model__base_estimator__max_depth=0.01, model__n_estimators=50, preprocessor__numeric_preprocessing__fill_missing__strategy=median\n",
      "[CV 8/10; 4/24] END model__base_estimator__max_depth=0.01, model__n_estimators=50, preprocessor__numeric_preprocessing__fill_missing__strategy=median;, score=nan total time=   0.0s\n",
      "[CV 9/10; 4/24] START model__base_estimator__max_depth=0.01, model__n_estimators=50, preprocessor__numeric_preprocessing__fill_missing__strategy=median\n",
      "[CV 9/10; 4/24] END model__base_estimator__max_depth=0.01, model__n_estimators=50, preprocessor__numeric_preprocessing__fill_missing__strategy=median;, score=nan total time=   0.0s\n",
      "[CV 10/10; 4/24] START model__base_estimator__max_depth=0.01, model__n_estimators=50, preprocessor__numeric_preprocessing__fill_missing__strategy=median\n",
      "[CV 10/10; 4/24] END model__base_estimator__max_depth=0.01, model__n_estimators=50, preprocessor__numeric_preprocessing__fill_missing__strategy=median;, score=nan total time=   0.0s\n",
      "[CV 1/10; 5/24] START model__base_estimator__max_depth=0.01, model__n_estimators=75, preprocessor__numeric_preprocessing__fill_missing__strategy=mean\n",
      "[CV 1/10; 5/24] END model__base_estimator__max_depth=0.01, model__n_estimators=75, preprocessor__numeric_preprocessing__fill_missing__strategy=mean;, score=nan total time=   0.0s\n",
      "[CV 2/10; 5/24] START model__base_estimator__max_depth=0.01, model__n_estimators=75, preprocessor__numeric_preprocessing__fill_missing__strategy=mean\n",
      "[CV 2/10; 5/24] END model__base_estimator__max_depth=0.01, model__n_estimators=75, preprocessor__numeric_preprocessing__fill_missing__strategy=mean;, score=nan total time=   0.0s\n",
      "[CV 3/10; 5/24] START model__base_estimator__max_depth=0.01, model__n_estimators=75, preprocessor__numeric_preprocessing__fill_missing__strategy=mean\n",
      "[CV 3/10; 5/24] END model__base_estimator__max_depth=0.01, model__n_estimators=75, preprocessor__numeric_preprocessing__fill_missing__strategy=mean;, score=nan total time=   0.0s\n",
      "[CV 4/10; 5/24] START model__base_estimator__max_depth=0.01, model__n_estimators=75, preprocessor__numeric_preprocessing__fill_missing__strategy=mean\n",
      "[CV 4/10; 5/24] END model__base_estimator__max_depth=0.01, model__n_estimators=75, preprocessor__numeric_preprocessing__fill_missing__strategy=mean;, score=nan total time=   0.0s\n",
      "[CV 5/10; 5/24] START model__base_estimator__max_depth=0.01, model__n_estimators=75, preprocessor__numeric_preprocessing__fill_missing__strategy=mean\n",
      "[CV 5/10; 5/24] END model__base_estimator__max_depth=0.01, model__n_estimators=75, preprocessor__numeric_preprocessing__fill_missing__strategy=mean;, score=nan total time=   0.0s\n",
      "[CV 6/10; 5/24] START model__base_estimator__max_depth=0.01, model__n_estimators=75, preprocessor__numeric_preprocessing__fill_missing__strategy=mean\n",
      "[CV 6/10; 5/24] END model__base_estimator__max_depth=0.01, model__n_estimators=75, preprocessor__numeric_preprocessing__fill_missing__strategy=mean;, score=nan total time=   0.0s\n",
      "[CV 7/10; 5/24] START model__base_estimator__max_depth=0.01, model__n_estimators=75, preprocessor__numeric_preprocessing__fill_missing__strategy=mean\n",
      "[CV 7/10; 5/24] END model__base_estimator__max_depth=0.01, model__n_estimators=75, preprocessor__numeric_preprocessing__fill_missing__strategy=mean;, score=nan total time=   0.0s\n",
      "[CV 8/10; 5/24] START model__base_estimator__max_depth=0.01, model__n_estimators=75, preprocessor__numeric_preprocessing__fill_missing__strategy=mean\n",
      "[CV 8/10; 5/24] END model__base_estimator__max_depth=0.01, model__n_estimators=75, preprocessor__numeric_preprocessing__fill_missing__strategy=mean;, score=nan total time=   0.0s\n",
      "[CV 9/10; 5/24] START model__base_estimator__max_depth=0.01, model__n_estimators=75, preprocessor__numeric_preprocessing__fill_missing__strategy=mean\n",
      "[CV 9/10; 5/24] END model__base_estimator__max_depth=0.01, model__n_estimators=75, preprocessor__numeric_preprocessing__fill_missing__strategy=mean;, score=nan total time=   0.0s\n",
      "[CV 10/10; 5/24] START model__base_estimator__max_depth=0.01, model__n_estimators=75, preprocessor__numeric_preprocessing__fill_missing__strategy=mean\n",
      "[CV 10/10; 5/24] END model__base_estimator__max_depth=0.01, model__n_estimators=75, preprocessor__numeric_preprocessing__fill_missing__strategy=mean;, score=nan total time=   0.0s\n",
      "[CV 1/10; 6/24] START model__base_estimator__max_depth=0.01, model__n_estimators=75, preprocessor__numeric_preprocessing__fill_missing__strategy=median\n"
     ]
    },
    {
     "name": "stderr",
     "output_type": "stream",
     "text": [
      "c:\\Users\\krzys\\anaconda3\\Lib\\site-packages\\sklearn\\ensemble\\_base.py:166: FutureWarning: `base_estimator` was renamed to `estimator` in version 1.2 and will be removed in 1.4.\n",
      "  warnings.warn(\n",
      "c:\\Users\\krzys\\anaconda3\\Lib\\site-packages\\sklearn\\ensemble\\_base.py:166: FutureWarning: `base_estimator` was renamed to `estimator` in version 1.2 and will be removed in 1.4.\n",
      "  warnings.warn(\n",
      "c:\\Users\\krzys\\anaconda3\\Lib\\site-packages\\sklearn\\ensemble\\_base.py:166: FutureWarning: `base_estimator` was renamed to `estimator` in version 1.2 and will be removed in 1.4.\n",
      "  warnings.warn(\n",
      "c:\\Users\\krzys\\anaconda3\\Lib\\site-packages\\sklearn\\ensemble\\_base.py:166: FutureWarning: `base_estimator` was renamed to `estimator` in version 1.2 and will be removed in 1.4.\n",
      "  warnings.warn(\n",
      "c:\\Users\\krzys\\anaconda3\\Lib\\site-packages\\sklearn\\ensemble\\_base.py:166: FutureWarning: `base_estimator` was renamed to `estimator` in version 1.2 and will be removed in 1.4.\n",
      "  warnings.warn(\n",
      "c:\\Users\\krzys\\anaconda3\\Lib\\site-packages\\sklearn\\ensemble\\_base.py:166: FutureWarning: `base_estimator` was renamed to `estimator` in version 1.2 and will be removed in 1.4.\n",
      "  warnings.warn(\n",
      "c:\\Users\\krzys\\anaconda3\\Lib\\site-packages\\sklearn\\ensemble\\_base.py:166: FutureWarning: `base_estimator` was renamed to `estimator` in version 1.2 and will be removed in 1.4.\n",
      "  warnings.warn(\n",
      "c:\\Users\\krzys\\anaconda3\\Lib\\site-packages\\sklearn\\ensemble\\_base.py:166: FutureWarning: `base_estimator` was renamed to `estimator` in version 1.2 and will be removed in 1.4.\n",
      "  warnings.warn(\n",
      "c:\\Users\\krzys\\anaconda3\\Lib\\site-packages\\sklearn\\ensemble\\_base.py:166: FutureWarning: `base_estimator` was renamed to `estimator` in version 1.2 and will be removed in 1.4.\n",
      "  warnings.warn(\n",
      "c:\\Users\\krzys\\anaconda3\\Lib\\site-packages\\sklearn\\ensemble\\_base.py:166: FutureWarning: `base_estimator` was renamed to `estimator` in version 1.2 and will be removed in 1.4.\n",
      "  warnings.warn(\n",
      "c:\\Users\\krzys\\anaconda3\\Lib\\site-packages\\sklearn\\ensemble\\_base.py:166: FutureWarning: `base_estimator` was renamed to `estimator` in version 1.2 and will be removed in 1.4.\n",
      "  warnings.warn(\n",
      "c:\\Users\\krzys\\anaconda3\\Lib\\site-packages\\sklearn\\ensemble\\_base.py:166: FutureWarning: `base_estimator` was renamed to `estimator` in version 1.2 and will be removed in 1.4.\n",
      "  warnings.warn(\n",
      "c:\\Users\\krzys\\anaconda3\\Lib\\site-packages\\sklearn\\ensemble\\_base.py:166: FutureWarning: `base_estimator` was renamed to `estimator` in version 1.2 and will be removed in 1.4.\n",
      "  warnings.warn(\n",
      "c:\\Users\\krzys\\anaconda3\\Lib\\site-packages\\sklearn\\ensemble\\_base.py:166: FutureWarning: `base_estimator` was renamed to `estimator` in version 1.2 and will be removed in 1.4.\n",
      "  warnings.warn(\n",
      "c:\\Users\\krzys\\anaconda3\\Lib\\site-packages\\sklearn\\ensemble\\_base.py:166: FutureWarning: `base_estimator` was renamed to `estimator` in version 1.2 and will be removed in 1.4.\n",
      "  warnings.warn(\n",
      "c:\\Users\\krzys\\anaconda3\\Lib\\site-packages\\sklearn\\ensemble\\_base.py:166: FutureWarning: `base_estimator` was renamed to `estimator` in version 1.2 and will be removed in 1.4.\n",
      "  warnings.warn(\n",
      "c:\\Users\\krzys\\anaconda3\\Lib\\site-packages\\sklearn\\ensemble\\_base.py:166: FutureWarning: `base_estimator` was renamed to `estimator` in version 1.2 and will be removed in 1.4.\n",
      "  warnings.warn(\n",
      "c:\\Users\\krzys\\anaconda3\\Lib\\site-packages\\sklearn\\ensemble\\_base.py:166: FutureWarning: `base_estimator` was renamed to `estimator` in version 1.2 and will be removed in 1.4.\n",
      "  warnings.warn(\n",
      "c:\\Users\\krzys\\anaconda3\\Lib\\site-packages\\sklearn\\ensemble\\_base.py:166: FutureWarning: `base_estimator` was renamed to `estimator` in version 1.2 and will be removed in 1.4.\n",
      "  warnings.warn(\n",
      "c:\\Users\\krzys\\anaconda3\\Lib\\site-packages\\sklearn\\ensemble\\_base.py:166: FutureWarning: `base_estimator` was renamed to `estimator` in version 1.2 and will be removed in 1.4.\n",
      "  warnings.warn(\n",
      "c:\\Users\\krzys\\anaconda3\\Lib\\site-packages\\sklearn\\ensemble\\_base.py:166: FutureWarning: `base_estimator` was renamed to `estimator` in version 1.2 and will be removed in 1.4.\n",
      "  warnings.warn(\n",
      "c:\\Users\\krzys\\anaconda3\\Lib\\site-packages\\sklearn\\ensemble\\_base.py:166: FutureWarning: `base_estimator` was renamed to `estimator` in version 1.2 and will be removed in 1.4.\n",
      "  warnings.warn(\n"
     ]
    },
    {
     "name": "stdout",
     "output_type": "stream",
     "text": [
      "[CV 1/10; 6/24] END model__base_estimator__max_depth=0.01, model__n_estimators=75, preprocessor__numeric_preprocessing__fill_missing__strategy=median;, score=nan total time=   0.0s\n",
      "[CV 2/10; 6/24] START model__base_estimator__max_depth=0.01, model__n_estimators=75, preprocessor__numeric_preprocessing__fill_missing__strategy=median\n",
      "[CV 2/10; 6/24] END model__base_estimator__max_depth=0.01, model__n_estimators=75, preprocessor__numeric_preprocessing__fill_missing__strategy=median;, score=nan total time=   0.0s\n",
      "[CV 3/10; 6/24] START model__base_estimator__max_depth=0.01, model__n_estimators=75, preprocessor__numeric_preprocessing__fill_missing__strategy=median\n",
      "[CV 3/10; 6/24] END model__base_estimator__max_depth=0.01, model__n_estimators=75, preprocessor__numeric_preprocessing__fill_missing__strategy=median;, score=nan total time=   0.0s\n",
      "[CV 4/10; 6/24] START model__base_estimator__max_depth=0.01, model__n_estimators=75, preprocessor__numeric_preprocessing__fill_missing__strategy=median\n",
      "[CV 4/10; 6/24] END model__base_estimator__max_depth=0.01, model__n_estimators=75, preprocessor__numeric_preprocessing__fill_missing__strategy=median;, score=nan total time=   0.0s\n",
      "[CV 5/10; 6/24] START model__base_estimator__max_depth=0.01, model__n_estimators=75, preprocessor__numeric_preprocessing__fill_missing__strategy=median\n",
      "[CV 5/10; 6/24] END model__base_estimator__max_depth=0.01, model__n_estimators=75, preprocessor__numeric_preprocessing__fill_missing__strategy=median;, score=nan total time=   0.0s\n",
      "[CV 6/10; 6/24] START model__base_estimator__max_depth=0.01, model__n_estimators=75, preprocessor__numeric_preprocessing__fill_missing__strategy=median\n",
      "[CV 6/10; 6/24] END model__base_estimator__max_depth=0.01, model__n_estimators=75, preprocessor__numeric_preprocessing__fill_missing__strategy=median;, score=nan total time=   0.0s\n",
      "[CV 7/10; 6/24] START model__base_estimator__max_depth=0.01, model__n_estimators=75, preprocessor__numeric_preprocessing__fill_missing__strategy=median\n",
      "[CV 7/10; 6/24] END model__base_estimator__max_depth=0.01, model__n_estimators=75, preprocessor__numeric_preprocessing__fill_missing__strategy=median;, score=nan total time=   0.0s\n",
      "[CV 8/10; 6/24] START model__base_estimator__max_depth=0.01, model__n_estimators=75, preprocessor__numeric_preprocessing__fill_missing__strategy=median\n",
      "[CV 8/10; 6/24] END model__base_estimator__max_depth=0.01, model__n_estimators=75, preprocessor__numeric_preprocessing__fill_missing__strategy=median;, score=nan total time=   0.0s\n",
      "[CV 9/10; 6/24] START model__base_estimator__max_depth=0.01, model__n_estimators=75, preprocessor__numeric_preprocessing__fill_missing__strategy=median\n",
      "[CV 9/10; 6/24] END model__base_estimator__max_depth=0.01, model__n_estimators=75, preprocessor__numeric_preprocessing__fill_missing__strategy=median;, score=nan total time=   0.0s\n",
      "[CV 10/10; 6/24] START model__base_estimator__max_depth=0.01, model__n_estimators=75, preprocessor__numeric_preprocessing__fill_missing__strategy=median\n",
      "[CV 10/10; 6/24] END model__base_estimator__max_depth=0.01, model__n_estimators=75, preprocessor__numeric_preprocessing__fill_missing__strategy=median;, score=nan total time=   0.0s\n",
      "[CV 1/10; 7/24] START model__base_estimator__max_depth=0.1, model__n_estimators=25, preprocessor__numeric_preprocessing__fill_missing__strategy=mean\n",
      "[CV 1/10; 7/24] END model__base_estimator__max_depth=0.1, model__n_estimators=25, preprocessor__numeric_preprocessing__fill_missing__strategy=mean;, score=nan total time=   0.0s\n",
      "[CV 2/10; 7/24] START model__base_estimator__max_depth=0.1, model__n_estimators=25, preprocessor__numeric_preprocessing__fill_missing__strategy=mean\n"
     ]
    },
    {
     "name": "stderr",
     "output_type": "stream",
     "text": [
      "c:\\Users\\krzys\\anaconda3\\Lib\\site-packages\\sklearn\\ensemble\\_base.py:166: FutureWarning: `base_estimator` was renamed to `estimator` in version 1.2 and will be removed in 1.4.\n",
      "  warnings.warn(\n",
      "c:\\Users\\krzys\\anaconda3\\Lib\\site-packages\\sklearn\\ensemble\\_base.py:166: FutureWarning: `base_estimator` was renamed to `estimator` in version 1.2 and will be removed in 1.4.\n",
      "  warnings.warn(\n",
      "c:\\Users\\krzys\\anaconda3\\Lib\\site-packages\\sklearn\\ensemble\\_base.py:166: FutureWarning: `base_estimator` was renamed to `estimator` in version 1.2 and will be removed in 1.4.\n",
      "  warnings.warn(\n",
      "c:\\Users\\krzys\\anaconda3\\Lib\\site-packages\\sklearn\\ensemble\\_base.py:166: FutureWarning: `base_estimator` was renamed to `estimator` in version 1.2 and will be removed in 1.4.\n",
      "  warnings.warn(\n",
      "c:\\Users\\krzys\\anaconda3\\Lib\\site-packages\\sklearn\\ensemble\\_base.py:166: FutureWarning: `base_estimator` was renamed to `estimator` in version 1.2 and will be removed in 1.4.\n",
      "  warnings.warn(\n",
      "c:\\Users\\krzys\\anaconda3\\Lib\\site-packages\\sklearn\\ensemble\\_base.py:166: FutureWarning: `base_estimator` was renamed to `estimator` in version 1.2 and will be removed in 1.4.\n",
      "  warnings.warn(\n",
      "c:\\Users\\krzys\\anaconda3\\Lib\\site-packages\\sklearn\\ensemble\\_base.py:166: FutureWarning: `base_estimator` was renamed to `estimator` in version 1.2 and will be removed in 1.4.\n",
      "  warnings.warn(\n",
      "c:\\Users\\krzys\\anaconda3\\Lib\\site-packages\\sklearn\\ensemble\\_base.py:166: FutureWarning: `base_estimator` was renamed to `estimator` in version 1.2 and will be removed in 1.4.\n",
      "  warnings.warn(\n",
      "c:\\Users\\krzys\\anaconda3\\Lib\\site-packages\\sklearn\\ensemble\\_base.py:166: FutureWarning: `base_estimator` was renamed to `estimator` in version 1.2 and will be removed in 1.4.\n",
      "  warnings.warn(\n",
      "c:\\Users\\krzys\\anaconda3\\Lib\\site-packages\\sklearn\\ensemble\\_base.py:166: FutureWarning: `base_estimator` was renamed to `estimator` in version 1.2 and will be removed in 1.4.\n",
      "  warnings.warn(\n",
      "c:\\Users\\krzys\\anaconda3\\Lib\\site-packages\\sklearn\\ensemble\\_base.py:166: FutureWarning: `base_estimator` was renamed to `estimator` in version 1.2 and will be removed in 1.4.\n",
      "  warnings.warn(\n",
      "c:\\Users\\krzys\\anaconda3\\Lib\\site-packages\\sklearn\\ensemble\\_base.py:166: FutureWarning: `base_estimator` was renamed to `estimator` in version 1.2 and will be removed in 1.4.\n",
      "  warnings.warn(\n",
      "c:\\Users\\krzys\\anaconda3\\Lib\\site-packages\\sklearn\\ensemble\\_base.py:166: FutureWarning: `base_estimator` was renamed to `estimator` in version 1.2 and will be removed in 1.4.\n",
      "  warnings.warn(\n",
      "c:\\Users\\krzys\\anaconda3\\Lib\\site-packages\\sklearn\\ensemble\\_base.py:166: FutureWarning: `base_estimator` was renamed to `estimator` in version 1.2 and will be removed in 1.4.\n",
      "  warnings.warn(\n",
      "c:\\Users\\krzys\\anaconda3\\Lib\\site-packages\\sklearn\\ensemble\\_base.py:166: FutureWarning: `base_estimator` was renamed to `estimator` in version 1.2 and will be removed in 1.4.\n",
      "  warnings.warn(\n",
      "c:\\Users\\krzys\\anaconda3\\Lib\\site-packages\\sklearn\\ensemble\\_base.py:166: FutureWarning: `base_estimator` was renamed to `estimator` in version 1.2 and will be removed in 1.4.\n",
      "  warnings.warn(\n",
      "c:\\Users\\krzys\\anaconda3\\Lib\\site-packages\\sklearn\\ensemble\\_base.py:166: FutureWarning: `base_estimator` was renamed to `estimator` in version 1.2 and will be removed in 1.4.\n",
      "  warnings.warn(\n",
      "c:\\Users\\krzys\\anaconda3\\Lib\\site-packages\\sklearn\\ensemble\\_base.py:166: FutureWarning: `base_estimator` was renamed to `estimator` in version 1.2 and will be removed in 1.4.\n",
      "  warnings.warn(\n",
      "c:\\Users\\krzys\\anaconda3\\Lib\\site-packages\\sklearn\\ensemble\\_base.py:166: FutureWarning: `base_estimator` was renamed to `estimator` in version 1.2 and will be removed in 1.4.\n",
      "  warnings.warn(\n",
      "c:\\Users\\krzys\\anaconda3\\Lib\\site-packages\\sklearn\\ensemble\\_base.py:166: FutureWarning: `base_estimator` was renamed to `estimator` in version 1.2 and will be removed in 1.4.\n",
      "  warnings.warn(\n",
      "c:\\Users\\krzys\\anaconda3\\Lib\\site-packages\\sklearn\\ensemble\\_base.py:166: FutureWarning: `base_estimator` was renamed to `estimator` in version 1.2 and will be removed in 1.4.\n",
      "  warnings.warn(\n",
      "c:\\Users\\krzys\\anaconda3\\Lib\\site-packages\\sklearn\\ensemble\\_base.py:166: FutureWarning: `base_estimator` was renamed to `estimator` in version 1.2 and will be removed in 1.4.\n",
      "  warnings.warn(\n",
      "c:\\Users\\krzys\\anaconda3\\Lib\\site-packages\\sklearn\\ensemble\\_base.py:166: FutureWarning: `base_estimator` was renamed to `estimator` in version 1.2 and will be removed in 1.4.\n",
      "  warnings.warn(\n",
      "c:\\Users\\krzys\\anaconda3\\Lib\\site-packages\\sklearn\\ensemble\\_base.py:166: FutureWarning: `base_estimator` was renamed to `estimator` in version 1.2 and will be removed in 1.4.\n",
      "  warnings.warn(\n",
      "c:\\Users\\krzys\\anaconda3\\Lib\\site-packages\\sklearn\\ensemble\\_base.py:166: FutureWarning: `base_estimator` was renamed to `estimator` in version 1.2 and will be removed in 1.4.\n",
      "  warnings.warn(\n",
      "c:\\Users\\krzys\\anaconda3\\Lib\\site-packages\\sklearn\\ensemble\\_base.py:166: FutureWarning: `base_estimator` was renamed to `estimator` in version 1.2 and will be removed in 1.4.\n",
      "  warnings.warn(\n",
      "c:\\Users\\krzys\\anaconda3\\Lib\\site-packages\\sklearn\\ensemble\\_base.py:166: FutureWarning: `base_estimator` was renamed to `estimator` in version 1.2 and will be removed in 1.4.\n",
      "  warnings.warn(\n",
      "c:\\Users\\krzys\\anaconda3\\Lib\\site-packages\\sklearn\\ensemble\\_base.py:166: FutureWarning: `base_estimator` was renamed to `estimator` in version 1.2 and will be removed in 1.4.\n",
      "  warnings.warn(\n",
      "c:\\Users\\krzys\\anaconda3\\Lib\\site-packages\\sklearn\\ensemble\\_base.py:166: FutureWarning: `base_estimator` was renamed to `estimator` in version 1.2 and will be removed in 1.4.\n",
      "  warnings.warn(\n",
      "c:\\Users\\krzys\\anaconda3\\Lib\\site-packages\\sklearn\\ensemble\\_base.py:166: FutureWarning: `base_estimator` was renamed to `estimator` in version 1.2 and will be removed in 1.4.\n",
      "  warnings.warn(\n",
      "c:\\Users\\krzys\\anaconda3\\Lib\\site-packages\\sklearn\\ensemble\\_base.py:166: FutureWarning: `base_estimator` was renamed to `estimator` in version 1.2 and will be removed in 1.4.\n",
      "  warnings.warn(\n",
      "c:\\Users\\krzys\\anaconda3\\Lib\\site-packages\\sklearn\\ensemble\\_base.py:166: FutureWarning: `base_estimator` was renamed to `estimator` in version 1.2 and will be removed in 1.4.\n",
      "  warnings.warn(\n",
      "c:\\Users\\krzys\\anaconda3\\Lib\\site-packages\\sklearn\\ensemble\\_base.py:166: FutureWarning: `base_estimator` was renamed to `estimator` in version 1.2 and will be removed in 1.4.\n",
      "  warnings.warn(\n",
      "c:\\Users\\krzys\\anaconda3\\Lib\\site-packages\\sklearn\\ensemble\\_base.py:166: FutureWarning: `base_estimator` was renamed to `estimator` in version 1.2 and will be removed in 1.4.\n",
      "  warnings.warn(\n"
     ]
    },
    {
     "name": "stdout",
     "output_type": "stream",
     "text": [
      "[CV 2/10; 7/24] END model__base_estimator__max_depth=0.1, model__n_estimators=25, preprocessor__numeric_preprocessing__fill_missing__strategy=mean;, score=nan total time=   0.0s\n",
      "[CV 3/10; 7/24] START model__base_estimator__max_depth=0.1, model__n_estimators=25, preprocessor__numeric_preprocessing__fill_missing__strategy=mean\n",
      "[CV 3/10; 7/24] END model__base_estimator__max_depth=0.1, model__n_estimators=25, preprocessor__numeric_preprocessing__fill_missing__strategy=mean;, score=nan total time=   0.0s\n",
      "[CV 4/10; 7/24] START model__base_estimator__max_depth=0.1, model__n_estimators=25, preprocessor__numeric_preprocessing__fill_missing__strategy=mean\n",
      "[CV 4/10; 7/24] END model__base_estimator__max_depth=0.1, model__n_estimators=25, preprocessor__numeric_preprocessing__fill_missing__strategy=mean;, score=nan total time=   0.0s\n",
      "[CV 5/10; 7/24] START model__base_estimator__max_depth=0.1, model__n_estimators=25, preprocessor__numeric_preprocessing__fill_missing__strategy=mean\n",
      "[CV 5/10; 7/24] END model__base_estimator__max_depth=0.1, model__n_estimators=25, preprocessor__numeric_preprocessing__fill_missing__strategy=mean;, score=nan total time=   0.0s\n",
      "[CV 6/10; 7/24] START model__base_estimator__max_depth=0.1, model__n_estimators=25, preprocessor__numeric_preprocessing__fill_missing__strategy=mean\n",
      "[CV 6/10; 7/24] END model__base_estimator__max_depth=0.1, model__n_estimators=25, preprocessor__numeric_preprocessing__fill_missing__strategy=mean;, score=nan total time=   0.0s\n",
      "[CV 7/10; 7/24] START model__base_estimator__max_depth=0.1, model__n_estimators=25, preprocessor__numeric_preprocessing__fill_missing__strategy=mean\n",
      "[CV 7/10; 7/24] END model__base_estimator__max_depth=0.1, model__n_estimators=25, preprocessor__numeric_preprocessing__fill_missing__strategy=mean;, score=nan total time=   0.0s\n",
      "[CV 8/10; 7/24] START model__base_estimator__max_depth=0.1, model__n_estimators=25, preprocessor__numeric_preprocessing__fill_missing__strategy=mean\n",
      "[CV 8/10; 7/24] END model__base_estimator__max_depth=0.1, model__n_estimators=25, preprocessor__numeric_preprocessing__fill_missing__strategy=mean;, score=nan total time=   0.0s\n",
      "[CV 9/10; 7/24] START model__base_estimator__max_depth=0.1, model__n_estimators=25, preprocessor__numeric_preprocessing__fill_missing__strategy=mean\n",
      "[CV 9/10; 7/24] END model__base_estimator__max_depth=0.1, model__n_estimators=25, preprocessor__numeric_preprocessing__fill_missing__strategy=mean;, score=nan total time=   0.0s\n",
      "[CV 10/10; 7/24] START model__base_estimator__max_depth=0.1, model__n_estimators=25, preprocessor__numeric_preprocessing__fill_missing__strategy=mean\n",
      "[CV 10/10; 7/24] END model__base_estimator__max_depth=0.1, model__n_estimators=25, preprocessor__numeric_preprocessing__fill_missing__strategy=mean;, score=nan total time=   0.0s\n",
      "[CV 1/10; 8/24] START model__base_estimator__max_depth=0.1, model__n_estimators=25, preprocessor__numeric_preprocessing__fill_missing__strategy=median\n",
      "[CV 1/10; 8/24] END model__base_estimator__max_depth=0.1, model__n_estimators=25, preprocessor__numeric_preprocessing__fill_missing__strategy=median;, score=nan total time=   0.0s\n",
      "[CV 2/10; 8/24] START model__base_estimator__max_depth=0.1, model__n_estimators=25, preprocessor__numeric_preprocessing__fill_missing__strategy=median\n",
      "[CV 2/10; 8/24] END model__base_estimator__max_depth=0.1, model__n_estimators=25, preprocessor__numeric_preprocessing__fill_missing__strategy=median;, score=nan total time=   0.0s\n",
      "[CV 3/10; 8/24] START model__base_estimator__max_depth=0.1, model__n_estimators=25, preprocessor__numeric_preprocessing__fill_missing__strategy=median\n",
      "[CV 3/10; 8/24] END model__base_estimator__max_depth=0.1, model__n_estimators=25, preprocessor__numeric_preprocessing__fill_missing__strategy=median;, score=nan total time=   0.0s\n",
      "[CV 4/10; 8/24] START model__base_estimator__max_depth=0.1, model__n_estimators=25, preprocessor__numeric_preprocessing__fill_missing__strategy=median\n",
      "[CV 4/10; 8/24] END model__base_estimator__max_depth=0.1, model__n_estimators=25, preprocessor__numeric_preprocessing__fill_missing__strategy=median;, score=nan total time=   0.0s\n",
      "[CV 5/10; 8/24] START model__base_estimator__max_depth=0.1, model__n_estimators=25, preprocessor__numeric_preprocessing__fill_missing__strategy=median\n",
      "[CV 5/10; 8/24] END model__base_estimator__max_depth=0.1, model__n_estimators=25, preprocessor__numeric_preprocessing__fill_missing__strategy=median;, score=nan total time=   0.0s\n",
      "[CV 6/10; 8/24] START model__base_estimator__max_depth=0.1, model__n_estimators=25, preprocessor__numeric_preprocessing__fill_missing__strategy=median\n",
      "[CV 6/10; 8/24] END model__base_estimator__max_depth=0.1, model__n_estimators=25, preprocessor__numeric_preprocessing__fill_missing__strategy=median;, score=nan total time=   0.0s\n",
      "[CV 7/10; 8/24] START model__base_estimator__max_depth=0.1, model__n_estimators=25, preprocessor__numeric_preprocessing__fill_missing__strategy=median\n",
      "[CV 7/10; 8/24] END model__base_estimator__max_depth=0.1, model__n_estimators=25, preprocessor__numeric_preprocessing__fill_missing__strategy=median;, score=nan total time=   0.0s\n",
      "[CV 8/10; 8/24] START model__base_estimator__max_depth=0.1, model__n_estimators=25, preprocessor__numeric_preprocessing__fill_missing__strategy=median\n",
      "[CV 8/10; 8/24] END model__base_estimator__max_depth=0.1, model__n_estimators=25, preprocessor__numeric_preprocessing__fill_missing__strategy=median;, score=nan total time=   0.0s\n",
      "[CV 9/10; 8/24] START model__base_estimator__max_depth=0.1, model__n_estimators=25, preprocessor__numeric_preprocessing__fill_missing__strategy=median\n",
      "[CV 9/10; 8/24] END model__base_estimator__max_depth=0.1, model__n_estimators=25, preprocessor__numeric_preprocessing__fill_missing__strategy=median;, score=nan total time=   0.0s\n",
      "[CV 10/10; 8/24] START model__base_estimator__max_depth=0.1, model__n_estimators=25, preprocessor__numeric_preprocessing__fill_missing__strategy=median\n",
      "[CV 10/10; 8/24] END model__base_estimator__max_depth=0.1, model__n_estimators=25, preprocessor__numeric_preprocessing__fill_missing__strategy=median;, score=nan total time=   0.0s\n",
      "[CV 1/10; 9/24] START model__base_estimator__max_depth=0.1, model__n_estimators=50, preprocessor__numeric_preprocessing__fill_missing__strategy=mean\n",
      "[CV 1/10; 9/24] END model__base_estimator__max_depth=0.1, model__n_estimators=50, preprocessor__numeric_preprocessing__fill_missing__strategy=mean;, score=nan total time=   0.0s\n",
      "[CV 2/10; 9/24] START model__base_estimator__max_depth=0.1, model__n_estimators=50, preprocessor__numeric_preprocessing__fill_missing__strategy=mean\n",
      "[CV 2/10; 9/24] END model__base_estimator__max_depth=0.1, model__n_estimators=50, preprocessor__numeric_preprocessing__fill_missing__strategy=mean;, score=nan total time=   0.0s\n",
      "[CV 3/10; 9/24] START model__base_estimator__max_depth=0.1, model__n_estimators=50, preprocessor__numeric_preprocessing__fill_missing__strategy=mean\n",
      "[CV 3/10; 9/24] END model__base_estimator__max_depth=0.1, model__n_estimators=50, preprocessor__numeric_preprocessing__fill_missing__strategy=mean;, score=nan total time=   0.0s\n",
      "[CV 4/10; 9/24] START model__base_estimator__max_depth=0.1, model__n_estimators=50, preprocessor__numeric_preprocessing__fill_missing__strategy=mean\n",
      "[CV 4/10; 9/24] END model__base_estimator__max_depth=0.1, model__n_estimators=50, preprocessor__numeric_preprocessing__fill_missing__strategy=mean;, score=nan total time=   0.0s\n",
      "[CV 5/10; 9/24] START model__base_estimator__max_depth=0.1, model__n_estimators=50, preprocessor__numeric_preprocessing__fill_missing__strategy=mean\n",
      "[CV 5/10; 9/24] END model__base_estimator__max_depth=0.1, model__n_estimators=50, preprocessor__numeric_preprocessing__fill_missing__strategy=mean;, score=nan total time=   0.0s\n",
      "[CV 6/10; 9/24] START model__base_estimator__max_depth=0.1, model__n_estimators=50, preprocessor__numeric_preprocessing__fill_missing__strategy=mean\n",
      "[CV 6/10; 9/24] END model__base_estimator__max_depth=0.1, model__n_estimators=50, preprocessor__numeric_preprocessing__fill_missing__strategy=mean;, score=nan total time=   0.0s\n",
      "[CV 7/10; 9/24] START model__base_estimator__max_depth=0.1, model__n_estimators=50, preprocessor__numeric_preprocessing__fill_missing__strategy=mean\n",
      "[CV 7/10; 9/24] END model__base_estimator__max_depth=0.1, model__n_estimators=50, preprocessor__numeric_preprocessing__fill_missing__strategy=mean;, score=nan total time=   0.0s\n",
      "[CV 8/10; 9/24] START model__base_estimator__max_depth=0.1, model__n_estimators=50, preprocessor__numeric_preprocessing__fill_missing__strategy=mean\n",
      "[CV 8/10; 9/24] END model__base_estimator__max_depth=0.1, model__n_estimators=50, preprocessor__numeric_preprocessing__fill_missing__strategy=mean;, score=nan total time=   0.0s\n",
      "[CV 9/10; 9/24] START model__base_estimator__max_depth=0.1, model__n_estimators=50, preprocessor__numeric_preprocessing__fill_missing__strategy=mean\n",
      "[CV 9/10; 9/24] END model__base_estimator__max_depth=0.1, model__n_estimators=50, preprocessor__numeric_preprocessing__fill_missing__strategy=mean;, score=nan total time=   0.0s\n",
      "[CV 10/10; 9/24] START model__base_estimator__max_depth=0.1, model__n_estimators=50, preprocessor__numeric_preprocessing__fill_missing__strategy=mean\n",
      "[CV 10/10; 9/24] END model__base_estimator__max_depth=0.1, model__n_estimators=50, preprocessor__numeric_preprocessing__fill_missing__strategy=mean;, score=nan total time=   0.0s\n",
      "[CV 1/10; 10/24] START model__base_estimator__max_depth=0.1, model__n_estimators=50, preprocessor__numeric_preprocessing__fill_missing__strategy=median\n",
      "[CV 1/10; 10/24] END model__base_estimator__max_depth=0.1, model__n_estimators=50, preprocessor__numeric_preprocessing__fill_missing__strategy=median;, score=nan total time=   0.0s\n",
      "[CV 2/10; 10/24] START model__base_estimator__max_depth=0.1, model__n_estimators=50, preprocessor__numeric_preprocessing__fill_missing__strategy=median\n",
      "[CV 2/10; 10/24] END model__base_estimator__max_depth=0.1, model__n_estimators=50, preprocessor__numeric_preprocessing__fill_missing__strategy=median;, score=nan total time=   0.0s\n",
      "[CV 3/10; 10/24] START model__base_estimator__max_depth=0.1, model__n_estimators=50, preprocessor__numeric_preprocessing__fill_missing__strategy=median\n",
      "[CV 3/10; 10/24] END model__base_estimator__max_depth=0.1, model__n_estimators=50, preprocessor__numeric_preprocessing__fill_missing__strategy=median;, score=nan total time=   0.0s\n",
      "[CV 4/10; 10/24] START model__base_estimator__max_depth=0.1, model__n_estimators=50, preprocessor__numeric_preprocessing__fill_missing__strategy=median\n",
      "[CV 4/10; 10/24] END model__base_estimator__max_depth=0.1, model__n_estimators=50, preprocessor__numeric_preprocessing__fill_missing__strategy=median;, score=nan total time=   0.0s\n",
      "[CV 5/10; 10/24] START model__base_estimator__max_depth=0.1, model__n_estimators=50, preprocessor__numeric_preprocessing__fill_missing__strategy=median\n",
      "[CV 5/10; 10/24] END model__base_estimator__max_depth=0.1, model__n_estimators=50, preprocessor__numeric_preprocessing__fill_missing__strategy=median;, score=nan total time=   0.0s\n",
      "[CV 6/10; 10/24] START model__base_estimator__max_depth=0.1, model__n_estimators=50, preprocessor__numeric_preprocessing__fill_missing__strategy=median\n",
      "[CV 6/10; 10/24] END model__base_estimator__max_depth=0.1, model__n_estimators=50, preprocessor__numeric_preprocessing__fill_missing__strategy=median;, score=nan total time=   0.0s\n",
      "[CV 7/10; 10/24] START model__base_estimator__max_depth=0.1, model__n_estimators=50, preprocessor__numeric_preprocessing__fill_missing__strategy=median\n",
      "[CV 7/10; 10/24] END model__base_estimator__max_depth=0.1, model__n_estimators=50, preprocessor__numeric_preprocessing__fill_missing__strategy=median;, score=nan total time=   0.0s\n",
      "[CV 8/10; 10/24] START model__base_estimator__max_depth=0.1, model__n_estimators=50, preprocessor__numeric_preprocessing__fill_missing__strategy=median\n",
      "[CV 8/10; 10/24] END model__base_estimator__max_depth=0.1, model__n_estimators=50, preprocessor__numeric_preprocessing__fill_missing__strategy=median;, score=nan total time=   0.0s\n",
      "[CV 9/10; 10/24] START model__base_estimator__max_depth=0.1, model__n_estimators=50, preprocessor__numeric_preprocessing__fill_missing__strategy=median\n",
      "[CV 9/10; 10/24] END model__base_estimator__max_depth=0.1, model__n_estimators=50, preprocessor__numeric_preprocessing__fill_missing__strategy=median;, score=nan total time=   0.0s\n",
      "[CV 10/10; 10/24] START model__base_estimator__max_depth=0.1, model__n_estimators=50, preprocessor__numeric_preprocessing__fill_missing__strategy=median\n",
      "[CV 10/10; 10/24] END model__base_estimator__max_depth=0.1, model__n_estimators=50, preprocessor__numeric_preprocessing__fill_missing__strategy=median;, score=nan total time=   0.0s\n",
      "[CV 1/10; 11/24] START model__base_estimator__max_depth=0.1, model__n_estimators=75, preprocessor__numeric_preprocessing__fill_missing__strategy=mean\n",
      "[CV 1/10; 11/24] END model__base_estimator__max_depth=0.1, model__n_estimators=75, preprocessor__numeric_preprocessing__fill_missing__strategy=mean;, score=nan total time=   0.0s\n",
      "[CV 2/10; 11/24] START model__base_estimator__max_depth=0.1, model__n_estimators=75, preprocessor__numeric_preprocessing__fill_missing__strategy=mean\n",
      "[CV 2/10; 11/24] END model__base_estimator__max_depth=0.1, model__n_estimators=75, preprocessor__numeric_preprocessing__fill_missing__strategy=mean;, score=nan total time=   0.0s\n",
      "[CV 3/10; 11/24] START model__base_estimator__max_depth=0.1, model__n_estimators=75, preprocessor__numeric_preprocessing__fill_missing__strategy=mean\n",
      "[CV 3/10; 11/24] END model__base_estimator__max_depth=0.1, model__n_estimators=75, preprocessor__numeric_preprocessing__fill_missing__strategy=mean;, score=nan total time=   0.0s\n",
      "[CV 4/10; 11/24] START model__base_estimator__max_depth=0.1, model__n_estimators=75, preprocessor__numeric_preprocessing__fill_missing__strategy=mean\n",
      "[CV 4/10; 11/24] END model__base_estimator__max_depth=0.1, model__n_estimators=75, preprocessor__numeric_preprocessing__fill_missing__strategy=mean;, score=nan total time=   0.0s\n",
      "[CV 5/10; 11/24] START model__base_estimator__max_depth=0.1, model__n_estimators=75, preprocessor__numeric_preprocessing__fill_missing__strategy=mean\n",
      "[CV 5/10; 11/24] END model__base_estimator__max_depth=0.1, model__n_estimators=75, preprocessor__numeric_preprocessing__fill_missing__strategy=mean;, score=nan total time=   0.0s\n",
      "[CV 6/10; 11/24] START model__base_estimator__max_depth=0.1, model__n_estimators=75, preprocessor__numeric_preprocessing__fill_missing__strategy=mean\n"
     ]
    },
    {
     "name": "stderr",
     "output_type": "stream",
     "text": [
      "c:\\Users\\krzys\\anaconda3\\Lib\\site-packages\\sklearn\\ensemble\\_base.py:166: FutureWarning: `base_estimator` was renamed to `estimator` in version 1.2 and will be removed in 1.4.\n",
      "  warnings.warn(\n",
      "c:\\Users\\krzys\\anaconda3\\Lib\\site-packages\\sklearn\\ensemble\\_base.py:166: FutureWarning: `base_estimator` was renamed to `estimator` in version 1.2 and will be removed in 1.4.\n",
      "  warnings.warn(\n",
      "c:\\Users\\krzys\\anaconda3\\Lib\\site-packages\\sklearn\\ensemble\\_base.py:166: FutureWarning: `base_estimator` was renamed to `estimator` in version 1.2 and will be removed in 1.4.\n",
      "  warnings.warn(\n",
      "c:\\Users\\krzys\\anaconda3\\Lib\\site-packages\\sklearn\\ensemble\\_base.py:166: FutureWarning: `base_estimator` was renamed to `estimator` in version 1.2 and will be removed in 1.4.\n",
      "  warnings.warn(\n",
      "c:\\Users\\krzys\\anaconda3\\Lib\\site-packages\\sklearn\\ensemble\\_base.py:166: FutureWarning: `base_estimator` was renamed to `estimator` in version 1.2 and will be removed in 1.4.\n",
      "  warnings.warn(\n",
      "c:\\Users\\krzys\\anaconda3\\Lib\\site-packages\\sklearn\\ensemble\\_base.py:166: FutureWarning: `base_estimator` was renamed to `estimator` in version 1.2 and will be removed in 1.4.\n",
      "  warnings.warn(\n",
      "c:\\Users\\krzys\\anaconda3\\Lib\\site-packages\\sklearn\\ensemble\\_base.py:166: FutureWarning: `base_estimator` was renamed to `estimator` in version 1.2 and will be removed in 1.4.\n",
      "  warnings.warn(\n",
      "c:\\Users\\krzys\\anaconda3\\Lib\\site-packages\\sklearn\\ensemble\\_base.py:166: FutureWarning: `base_estimator` was renamed to `estimator` in version 1.2 and will be removed in 1.4.\n",
      "  warnings.warn(\n",
      "c:\\Users\\krzys\\anaconda3\\Lib\\site-packages\\sklearn\\ensemble\\_base.py:166: FutureWarning: `base_estimator` was renamed to `estimator` in version 1.2 and will be removed in 1.4.\n",
      "  warnings.warn(\n",
      "c:\\Users\\krzys\\anaconda3\\Lib\\site-packages\\sklearn\\ensemble\\_base.py:166: FutureWarning: `base_estimator` was renamed to `estimator` in version 1.2 and will be removed in 1.4.\n",
      "  warnings.warn(\n",
      "c:\\Users\\krzys\\anaconda3\\Lib\\site-packages\\sklearn\\ensemble\\_base.py:166: FutureWarning: `base_estimator` was renamed to `estimator` in version 1.2 and will be removed in 1.4.\n",
      "  warnings.warn(\n",
      "c:\\Users\\krzys\\anaconda3\\Lib\\site-packages\\sklearn\\ensemble\\_base.py:166: FutureWarning: `base_estimator` was renamed to `estimator` in version 1.2 and will be removed in 1.4.\n",
      "  warnings.warn(\n",
      "c:\\Users\\krzys\\anaconda3\\Lib\\site-packages\\sklearn\\ensemble\\_base.py:166: FutureWarning: `base_estimator` was renamed to `estimator` in version 1.2 and will be removed in 1.4.\n",
      "  warnings.warn(\n",
      "c:\\Users\\krzys\\anaconda3\\Lib\\site-packages\\sklearn\\ensemble\\_base.py:166: FutureWarning: `base_estimator` was renamed to `estimator` in version 1.2 and will be removed in 1.4.\n",
      "  warnings.warn(\n",
      "c:\\Users\\krzys\\anaconda3\\Lib\\site-packages\\sklearn\\ensemble\\_base.py:166: FutureWarning: `base_estimator` was renamed to `estimator` in version 1.2 and will be removed in 1.4.\n",
      "  warnings.warn(\n",
      "c:\\Users\\krzys\\anaconda3\\Lib\\site-packages\\sklearn\\ensemble\\_base.py:166: FutureWarning: `base_estimator` was renamed to `estimator` in version 1.2 and will be removed in 1.4.\n",
      "  warnings.warn(\n",
      "c:\\Users\\krzys\\anaconda3\\Lib\\site-packages\\sklearn\\ensemble\\_base.py:166: FutureWarning: `base_estimator` was renamed to `estimator` in version 1.2 and will be removed in 1.4.\n",
      "  warnings.warn(\n",
      "c:\\Users\\krzys\\anaconda3\\Lib\\site-packages\\sklearn\\ensemble\\_base.py:166: FutureWarning: `base_estimator` was renamed to `estimator` in version 1.2 and will be removed in 1.4.\n",
      "  warnings.warn(\n",
      "c:\\Users\\krzys\\anaconda3\\Lib\\site-packages\\sklearn\\ensemble\\_base.py:166: FutureWarning: `base_estimator` was renamed to `estimator` in version 1.2 and will be removed in 1.4.\n",
      "  warnings.warn(\n",
      "c:\\Users\\krzys\\anaconda3\\Lib\\site-packages\\sklearn\\ensemble\\_base.py:166: FutureWarning: `base_estimator` was renamed to `estimator` in version 1.2 and will be removed in 1.4.\n",
      "  warnings.warn(\n",
      "c:\\Users\\krzys\\anaconda3\\Lib\\site-packages\\sklearn\\ensemble\\_base.py:166: FutureWarning: `base_estimator` was renamed to `estimator` in version 1.2 and will be removed in 1.4.\n",
      "  warnings.warn(\n",
      "c:\\Users\\krzys\\anaconda3\\Lib\\site-packages\\sklearn\\ensemble\\_base.py:166: FutureWarning: `base_estimator` was renamed to `estimator` in version 1.2 and will be removed in 1.4.\n",
      "  warnings.warn(\n",
      "c:\\Users\\krzys\\anaconda3\\Lib\\site-packages\\sklearn\\ensemble\\_base.py:166: FutureWarning: `base_estimator` was renamed to `estimator` in version 1.2 and will be removed in 1.4.\n",
      "  warnings.warn(\n",
      "c:\\Users\\krzys\\anaconda3\\Lib\\site-packages\\sklearn\\ensemble\\_base.py:166: FutureWarning: `base_estimator` was renamed to `estimator` in version 1.2 and will be removed in 1.4.\n",
      "  warnings.warn(\n",
      "c:\\Users\\krzys\\anaconda3\\Lib\\site-packages\\sklearn\\ensemble\\_base.py:166: FutureWarning: `base_estimator` was renamed to `estimator` in version 1.2 and will be removed in 1.4.\n",
      "  warnings.warn(\n",
      "c:\\Users\\krzys\\anaconda3\\Lib\\site-packages\\sklearn\\ensemble\\_base.py:166: FutureWarning: `base_estimator` was renamed to `estimator` in version 1.2 and will be removed in 1.4.\n",
      "  warnings.warn(\n",
      "c:\\Users\\krzys\\anaconda3\\Lib\\site-packages\\sklearn\\ensemble\\_base.py:166: FutureWarning: `base_estimator` was renamed to `estimator` in version 1.2 and will be removed in 1.4.\n",
      "  warnings.warn(\n",
      "c:\\Users\\krzys\\anaconda3\\Lib\\site-packages\\sklearn\\ensemble\\_base.py:166: FutureWarning: `base_estimator` was renamed to `estimator` in version 1.2 and will be removed in 1.4.\n",
      "  warnings.warn(\n",
      "c:\\Users\\krzys\\anaconda3\\Lib\\site-packages\\sklearn\\ensemble\\_base.py:166: FutureWarning: `base_estimator` was renamed to `estimator` in version 1.2 and will be removed in 1.4.\n",
      "  warnings.warn(\n",
      "c:\\Users\\krzys\\anaconda3\\Lib\\site-packages\\sklearn\\ensemble\\_base.py:166: FutureWarning: `base_estimator` was renamed to `estimator` in version 1.2 and will be removed in 1.4.\n",
      "  warnings.warn(\n",
      "c:\\Users\\krzys\\anaconda3\\Lib\\site-packages\\sklearn\\ensemble\\_base.py:166: FutureWarning: `base_estimator` was renamed to `estimator` in version 1.2 and will be removed in 1.4.\n",
      "  warnings.warn(\n",
      "c:\\Users\\krzys\\anaconda3\\Lib\\site-packages\\sklearn\\ensemble\\_base.py:166: FutureWarning: `base_estimator` was renamed to `estimator` in version 1.2 and will be removed in 1.4.\n",
      "  warnings.warn(\n",
      "c:\\Users\\krzys\\anaconda3\\Lib\\site-packages\\sklearn\\ensemble\\_base.py:166: FutureWarning: `base_estimator` was renamed to `estimator` in version 1.2 and will be removed in 1.4.\n",
      "  warnings.warn(\n",
      "c:\\Users\\krzys\\anaconda3\\Lib\\site-packages\\sklearn\\ensemble\\_base.py:166: FutureWarning: `base_estimator` was renamed to `estimator` in version 1.2 and will be removed in 1.4.\n",
      "  warnings.warn(\n",
      "c:\\Users\\krzys\\anaconda3\\Lib\\site-packages\\sklearn\\ensemble\\_base.py:166: FutureWarning: `base_estimator` was renamed to `estimator` in version 1.2 and will be removed in 1.4.\n",
      "  warnings.warn(\n",
      "c:\\Users\\krzys\\anaconda3\\Lib\\site-packages\\sklearn\\ensemble\\_base.py:166: FutureWarning: `base_estimator` was renamed to `estimator` in version 1.2 and will be removed in 1.4.\n",
      "  warnings.warn(\n",
      "c:\\Users\\krzys\\anaconda3\\Lib\\site-packages\\sklearn\\ensemble\\_base.py:166: FutureWarning: `base_estimator` was renamed to `estimator` in version 1.2 and will be removed in 1.4.\n",
      "  warnings.warn(\n"
     ]
    },
    {
     "name": "stdout",
     "output_type": "stream",
     "text": [
      "[CV 6/10; 11/24] END model__base_estimator__max_depth=0.1, model__n_estimators=75, preprocessor__numeric_preprocessing__fill_missing__strategy=mean;, score=nan total time=   0.0s\n",
      "[CV 7/10; 11/24] START model__base_estimator__max_depth=0.1, model__n_estimators=75, preprocessor__numeric_preprocessing__fill_missing__strategy=mean\n",
      "[CV 7/10; 11/24] END model__base_estimator__max_depth=0.1, model__n_estimators=75, preprocessor__numeric_preprocessing__fill_missing__strategy=mean;, score=nan total time=   0.0s\n",
      "[CV 8/10; 11/24] START model__base_estimator__max_depth=0.1, model__n_estimators=75, preprocessor__numeric_preprocessing__fill_missing__strategy=mean\n",
      "[CV 8/10; 11/24] END model__base_estimator__max_depth=0.1, model__n_estimators=75, preprocessor__numeric_preprocessing__fill_missing__strategy=mean;, score=nan total time=   0.0s\n",
      "[CV 9/10; 11/24] START model__base_estimator__max_depth=0.1, model__n_estimators=75, preprocessor__numeric_preprocessing__fill_missing__strategy=mean\n",
      "[CV 9/10; 11/24] END model__base_estimator__max_depth=0.1, model__n_estimators=75, preprocessor__numeric_preprocessing__fill_missing__strategy=mean;, score=nan total time=   0.0s\n",
      "[CV 10/10; 11/24] START model__base_estimator__max_depth=0.1, model__n_estimators=75, preprocessor__numeric_preprocessing__fill_missing__strategy=mean\n",
      "[CV 10/10; 11/24] END model__base_estimator__max_depth=0.1, model__n_estimators=75, preprocessor__numeric_preprocessing__fill_missing__strategy=mean;, score=nan total time=   0.0s\n",
      "[CV 1/10; 12/24] START model__base_estimator__max_depth=0.1, model__n_estimators=75, preprocessor__numeric_preprocessing__fill_missing__strategy=median\n",
      "[CV 1/10; 12/24] END model__base_estimator__max_depth=0.1, model__n_estimators=75, preprocessor__numeric_preprocessing__fill_missing__strategy=median;, score=nan total time=   0.0s\n",
      "[CV 2/10; 12/24] START model__base_estimator__max_depth=0.1, model__n_estimators=75, preprocessor__numeric_preprocessing__fill_missing__strategy=median\n",
      "[CV 2/10; 12/24] END model__base_estimator__max_depth=0.1, model__n_estimators=75, preprocessor__numeric_preprocessing__fill_missing__strategy=median;, score=nan total time=   0.0s\n",
      "[CV 3/10; 12/24] START model__base_estimator__max_depth=0.1, model__n_estimators=75, preprocessor__numeric_preprocessing__fill_missing__strategy=median\n",
      "[CV 3/10; 12/24] END model__base_estimator__max_depth=0.1, model__n_estimators=75, preprocessor__numeric_preprocessing__fill_missing__strategy=median;, score=nan total time=   0.0s\n",
      "[CV 4/10; 12/24] START model__base_estimator__max_depth=0.1, model__n_estimators=75, preprocessor__numeric_preprocessing__fill_missing__strategy=median\n",
      "[CV 4/10; 12/24] END model__base_estimator__max_depth=0.1, model__n_estimators=75, preprocessor__numeric_preprocessing__fill_missing__strategy=median;, score=nan total time=   0.0s\n",
      "[CV 5/10; 12/24] START model__base_estimator__max_depth=0.1, model__n_estimators=75, preprocessor__numeric_preprocessing__fill_missing__strategy=median\n",
      "[CV 5/10; 12/24] END model__base_estimator__max_depth=0.1, model__n_estimators=75, preprocessor__numeric_preprocessing__fill_missing__strategy=median;, score=nan total time=   0.0s\n",
      "[CV 6/10; 12/24] START model__base_estimator__max_depth=0.1, model__n_estimators=75, preprocessor__numeric_preprocessing__fill_missing__strategy=median\n",
      "[CV 6/10; 12/24] END model__base_estimator__max_depth=0.1, model__n_estimators=75, preprocessor__numeric_preprocessing__fill_missing__strategy=median;, score=nan total time=   0.0s\n",
      "[CV 7/10; 12/24] START model__base_estimator__max_depth=0.1, model__n_estimators=75, preprocessor__numeric_preprocessing__fill_missing__strategy=median\n",
      "[CV 7/10; 12/24] END model__base_estimator__max_depth=0.1, model__n_estimators=75, preprocessor__numeric_preprocessing__fill_missing__strategy=median;, score=nan total time=   0.0s\n",
      "[CV 8/10; 12/24] START model__base_estimator__max_depth=0.1, model__n_estimators=75, preprocessor__numeric_preprocessing__fill_missing__strategy=median\n",
      "[CV 8/10; 12/24] END model__base_estimator__max_depth=0.1, model__n_estimators=75, preprocessor__numeric_preprocessing__fill_missing__strategy=median;, score=nan total time=   0.0s\n",
      "[CV 9/10; 12/24] START model__base_estimator__max_depth=0.1, model__n_estimators=75, preprocessor__numeric_preprocessing__fill_missing__strategy=median\n",
      "[CV 9/10; 12/24] END model__base_estimator__max_depth=0.1, model__n_estimators=75, preprocessor__numeric_preprocessing__fill_missing__strategy=median;, score=nan total time=   0.0s\n",
      "[CV 10/10; 12/24] START model__base_estimator__max_depth=0.1, model__n_estimators=75, preprocessor__numeric_preprocessing__fill_missing__strategy=median\n",
      "[CV 10/10; 12/24] END model__base_estimator__max_depth=0.1, model__n_estimators=75, preprocessor__numeric_preprocessing__fill_missing__strategy=median;, score=nan total time=   0.0s\n",
      "[CV 1/10; 13/24] START model__base_estimator__max_depth=1, model__n_estimators=25, preprocessor__numeric_preprocessing__fill_missing__strategy=mean\n",
      "[CV 1/10; 13/24] END model__base_estimator__max_depth=1, model__n_estimators=25, preprocessor__numeric_preprocessing__fill_missing__strategy=mean;, score=0.692 total time=   0.0s\n",
      "[CV 2/10; 13/24] START model__base_estimator__max_depth=1, model__n_estimators=25, preprocessor__numeric_preprocessing__fill_missing__strategy=mean\n",
      "[CV 2/10; 13/24] END model__base_estimator__max_depth=1, model__n_estimators=25, preprocessor__numeric_preprocessing__fill_missing__strategy=mean;, score=0.750 total time=   0.0s\n",
      "[CV 3/10; 13/24] START model__base_estimator__max_depth=1, model__n_estimators=25, preprocessor__numeric_preprocessing__fill_missing__strategy=mean\n",
      "[CV 3/10; 13/24] END model__base_estimator__max_depth=1, model__n_estimators=25, preprocessor__numeric_preprocessing__fill_missing__strategy=mean;, score=0.750 total time=   0.0s\n",
      "[CV 4/10; 13/24] START model__base_estimator__max_depth=1, model__n_estimators=25, preprocessor__numeric_preprocessing__fill_missing__strategy=mean\n"
     ]
    },
    {
     "name": "stderr",
     "output_type": "stream",
     "text": [
      "c:\\Users\\krzys\\anaconda3\\Lib\\site-packages\\sklearn\\ensemble\\_base.py:166: FutureWarning: `base_estimator` was renamed to `estimator` in version 1.2 and will be removed in 1.4.\n",
      "  warnings.warn(\n",
      "c:\\Users\\krzys\\anaconda3\\Lib\\site-packages\\sklearn\\ensemble\\_base.py:166: FutureWarning: `base_estimator` was renamed to `estimator` in version 1.2 and will be removed in 1.4.\n",
      "  warnings.warn(\n",
      "c:\\Users\\krzys\\anaconda3\\Lib\\site-packages\\sklearn\\ensemble\\_base.py:166: FutureWarning: `base_estimator` was renamed to `estimator` in version 1.2 and will be removed in 1.4.\n",
      "  warnings.warn(\n",
      "c:\\Users\\krzys\\anaconda3\\Lib\\site-packages\\sklearn\\ensemble\\_base.py:166: FutureWarning: `base_estimator` was renamed to `estimator` in version 1.2 and will be removed in 1.4.\n",
      "  warnings.warn(\n",
      "c:\\Users\\krzys\\anaconda3\\Lib\\site-packages\\sklearn\\ensemble\\_base.py:166: FutureWarning: `base_estimator` was renamed to `estimator` in version 1.2 and will be removed in 1.4.\n",
      "  warnings.warn(\n",
      "c:\\Users\\krzys\\anaconda3\\Lib\\site-packages\\sklearn\\ensemble\\_base.py:166: FutureWarning: `base_estimator` was renamed to `estimator` in version 1.2 and will be removed in 1.4.\n",
      "  warnings.warn(\n",
      "c:\\Users\\krzys\\anaconda3\\Lib\\site-packages\\sklearn\\ensemble\\_base.py:166: FutureWarning: `base_estimator` was renamed to `estimator` in version 1.2 and will be removed in 1.4.\n",
      "  warnings.warn(\n",
      "c:\\Users\\krzys\\anaconda3\\Lib\\site-packages\\sklearn\\ensemble\\_base.py:166: FutureWarning: `base_estimator` was renamed to `estimator` in version 1.2 and will be removed in 1.4.\n",
      "  warnings.warn(\n"
     ]
    },
    {
     "name": "stdout",
     "output_type": "stream",
     "text": [
      "[CV 4/10; 13/24] END model__base_estimator__max_depth=1, model__n_estimators=25, preprocessor__numeric_preprocessing__fill_missing__strategy=mean;, score=0.578 total time=   0.0s\n",
      "[CV 5/10; 13/24] START model__base_estimator__max_depth=1, model__n_estimators=25, preprocessor__numeric_preprocessing__fill_missing__strategy=mean\n",
      "[CV 5/10; 13/24] END model__base_estimator__max_depth=1, model__n_estimators=25, preprocessor__numeric_preprocessing__fill_missing__strategy=mean;, score=0.918 total time=   0.0s\n",
      "[CV 6/10; 13/24] START model__base_estimator__max_depth=1, model__n_estimators=25, preprocessor__numeric_preprocessing__fill_missing__strategy=mean\n",
      "[CV 6/10; 13/24] END model__base_estimator__max_depth=1, model__n_estimators=25, preprocessor__numeric_preprocessing__fill_missing__strategy=mean;, score=1.000 total time=   0.0s\n",
      "[CV 7/10; 13/24] START model__base_estimator__max_depth=1, model__n_estimators=25, preprocessor__numeric_preprocessing__fill_missing__strategy=mean\n",
      "[CV 7/10; 13/24] END model__base_estimator__max_depth=1, model__n_estimators=25, preprocessor__numeric_preprocessing__fill_missing__strategy=mean;, score=0.838 total time=   0.0s\n",
      "[CV 8/10; 13/24] START model__base_estimator__max_depth=1, model__n_estimators=25, preprocessor__numeric_preprocessing__fill_missing__strategy=mean\n",
      "[CV 8/10; 13/24] END model__base_estimator__max_depth=1, model__n_estimators=25, preprocessor__numeric_preprocessing__fill_missing__strategy=mean;, score=0.634 total time=   0.0s\n",
      "[CV 9/10; 13/24] START model__base_estimator__max_depth=1, model__n_estimators=25, preprocessor__numeric_preprocessing__fill_missing__strategy=mean\n",
      "[CV 9/10; 13/24] END model__base_estimator__max_depth=1, model__n_estimators=25, preprocessor__numeric_preprocessing__fill_missing__strategy=mean;, score=0.831 total time=   0.0s\n",
      "[CV 10/10; 13/24] START model__base_estimator__max_depth=1, model__n_estimators=25, preprocessor__numeric_preprocessing__fill_missing__strategy=mean\n",
      "[CV 10/10; 13/24] END model__base_estimator__max_depth=1, model__n_estimators=25, preprocessor__numeric_preprocessing__fill_missing__strategy=mean;, score=0.791 total time=   0.0s\n",
      "[CV 1/10; 14/24] START model__base_estimator__max_depth=1, model__n_estimators=25, preprocessor__numeric_preprocessing__fill_missing__strategy=median\n"
     ]
    },
    {
     "name": "stderr",
     "output_type": "stream",
     "text": [
      "c:\\Users\\krzys\\anaconda3\\Lib\\site-packages\\sklearn\\ensemble\\_base.py:166: FutureWarning: `base_estimator` was renamed to `estimator` in version 1.2 and will be removed in 1.4.\n",
      "  warnings.warn(\n",
      "c:\\Users\\krzys\\anaconda3\\Lib\\site-packages\\sklearn\\ensemble\\_base.py:166: FutureWarning: `base_estimator` was renamed to `estimator` in version 1.2 and will be removed in 1.4.\n",
      "  warnings.warn(\n",
      "c:\\Users\\krzys\\anaconda3\\Lib\\site-packages\\sklearn\\ensemble\\_base.py:166: FutureWarning: `base_estimator` was renamed to `estimator` in version 1.2 and will be removed in 1.4.\n",
      "  warnings.warn(\n",
      "c:\\Users\\krzys\\anaconda3\\Lib\\site-packages\\sklearn\\ensemble\\_base.py:166: FutureWarning: `base_estimator` was renamed to `estimator` in version 1.2 and will be removed in 1.4.\n",
      "  warnings.warn(\n",
      "c:\\Users\\krzys\\anaconda3\\Lib\\site-packages\\sklearn\\ensemble\\_base.py:166: FutureWarning: `base_estimator` was renamed to `estimator` in version 1.2 and will be removed in 1.4.\n",
      "  warnings.warn(\n",
      "c:\\Users\\krzys\\anaconda3\\Lib\\site-packages\\sklearn\\ensemble\\_base.py:166: FutureWarning: `base_estimator` was renamed to `estimator` in version 1.2 and will be removed in 1.4.\n",
      "  warnings.warn(\n",
      "c:\\Users\\krzys\\anaconda3\\Lib\\site-packages\\sklearn\\ensemble\\_base.py:166: FutureWarning: `base_estimator` was renamed to `estimator` in version 1.2 and will be removed in 1.4.\n",
      "  warnings.warn(\n"
     ]
    },
    {
     "name": "stdout",
     "output_type": "stream",
     "text": [
      "[CV 1/10; 14/24] END model__base_estimator__max_depth=1, model__n_estimators=25, preprocessor__numeric_preprocessing__fill_missing__strategy=median;, score=0.843 total time=   0.0s\n",
      "[CV 2/10; 14/24] START model__base_estimator__max_depth=1, model__n_estimators=25, preprocessor__numeric_preprocessing__fill_missing__strategy=median\n",
      "[CV 2/10; 14/24] END model__base_estimator__max_depth=1, model__n_estimators=25, preprocessor__numeric_preprocessing__fill_missing__strategy=median;, score=0.791 total time=   0.0s\n",
      "[CV 3/10; 14/24] START model__base_estimator__max_depth=1, model__n_estimators=25, preprocessor__numeric_preprocessing__fill_missing__strategy=median\n",
      "[CV 3/10; 14/24] END model__base_estimator__max_depth=1, model__n_estimators=25, preprocessor__numeric_preprocessing__fill_missing__strategy=median;, score=0.707 total time=   0.0s\n",
      "[CV 4/10; 14/24] START model__base_estimator__max_depth=1, model__n_estimators=25, preprocessor__numeric_preprocessing__fill_missing__strategy=median\n",
      "[CV 4/10; 14/24] END model__base_estimator__max_depth=1, model__n_estimators=25, preprocessor__numeric_preprocessing__fill_missing__strategy=median;, score=0.578 total time=   0.0s\n",
      "[CV 5/10; 14/24] START model__base_estimator__max_depth=1, model__n_estimators=25, preprocessor__numeric_preprocessing__fill_missing__strategy=median\n",
      "[CV 5/10; 14/24] END model__base_estimator__max_depth=1, model__n_estimators=25, preprocessor__numeric_preprocessing__fill_missing__strategy=median;, score=0.935 total time=   0.0s\n",
      "[CV 6/10; 14/24] START model__base_estimator__max_depth=1, model__n_estimators=25, preprocessor__numeric_preprocessing__fill_missing__strategy=median\n",
      "[CV 6/10; 14/24] END model__base_estimator__max_depth=1, model__n_estimators=25, preprocessor__numeric_preprocessing__fill_missing__strategy=median;, score=0.742 total time=   0.0s\n",
      "[CV 7/10; 14/24] START model__base_estimator__max_depth=1, model__n_estimators=25, preprocessor__numeric_preprocessing__fill_missing__strategy=median\n",
      "[CV 7/10; 14/24] END model__base_estimator__max_depth=1, model__n_estimators=25, preprocessor__numeric_preprocessing__fill_missing__strategy=median;, score=0.838 total time=   0.0s\n",
      "[CV 8/10; 14/24] START model__base_estimator__max_depth=1, model__n_estimators=25, preprocessor__numeric_preprocessing__fill_missing__strategy=median\n"
     ]
    },
    {
     "name": "stderr",
     "output_type": "stream",
     "text": [
      "c:\\Users\\krzys\\anaconda3\\Lib\\site-packages\\sklearn\\ensemble\\_base.py:166: FutureWarning: `base_estimator` was renamed to `estimator` in version 1.2 and will be removed in 1.4.\n",
      "  warnings.warn(\n",
      "c:\\Users\\krzys\\anaconda3\\Lib\\site-packages\\sklearn\\ensemble\\_base.py:166: FutureWarning: `base_estimator` was renamed to `estimator` in version 1.2 and will be removed in 1.4.\n",
      "  warnings.warn(\n",
      "c:\\Users\\krzys\\anaconda3\\Lib\\site-packages\\sklearn\\ensemble\\_base.py:166: FutureWarning: `base_estimator` was renamed to `estimator` in version 1.2 and will be removed in 1.4.\n",
      "  warnings.warn(\n",
      "c:\\Users\\krzys\\anaconda3\\Lib\\site-packages\\sklearn\\ensemble\\_base.py:166: FutureWarning: `base_estimator` was renamed to `estimator` in version 1.2 and will be removed in 1.4.\n",
      "  warnings.warn(\n",
      "c:\\Users\\krzys\\anaconda3\\Lib\\site-packages\\sklearn\\ensemble\\_base.py:166: FutureWarning: `base_estimator` was renamed to `estimator` in version 1.2 and will be removed in 1.4.\n",
      "  warnings.warn(\n"
     ]
    },
    {
     "name": "stdout",
     "output_type": "stream",
     "text": [
      "[CV 8/10; 14/24] END model__base_estimator__max_depth=1, model__n_estimators=25, preprocessor__numeric_preprocessing__fill_missing__strategy=median;, score=0.801 total time=   0.0s\n",
      "[CV 9/10; 14/24] START model__base_estimator__max_depth=1, model__n_estimators=25, preprocessor__numeric_preprocessing__fill_missing__strategy=median\n",
      "[CV 9/10; 14/24] END model__base_estimator__max_depth=1, model__n_estimators=25, preprocessor__numeric_preprocessing__fill_missing__strategy=median;, score=0.806 total time=   0.0s\n",
      "[CV 10/10; 14/24] START model__base_estimator__max_depth=1, model__n_estimators=25, preprocessor__numeric_preprocessing__fill_missing__strategy=median\n",
      "[CV 10/10; 14/24] END model__base_estimator__max_depth=1, model__n_estimators=25, preprocessor__numeric_preprocessing__fill_missing__strategy=median;, score=0.845 total time=   0.0s\n",
      "[CV 1/10; 15/24] START model__base_estimator__max_depth=1, model__n_estimators=50, preprocessor__numeric_preprocessing__fill_missing__strategy=mean\n",
      "[CV 1/10; 15/24] END model__base_estimator__max_depth=1, model__n_estimators=50, preprocessor__numeric_preprocessing__fill_missing__strategy=mean;, score=0.692 total time=   0.0s\n",
      "[CV 2/10; 15/24] START model__base_estimator__max_depth=1, model__n_estimators=50, preprocessor__numeric_preprocessing__fill_missing__strategy=mean\n",
      "[CV 2/10; 15/24] END model__base_estimator__max_depth=1, model__n_estimators=50, preprocessor__numeric_preprocessing__fill_missing__strategy=mean;, score=0.707 total time=   0.0s\n",
      "[CV 3/10; 15/24] START model__base_estimator__max_depth=1, model__n_estimators=50, preprocessor__numeric_preprocessing__fill_missing__strategy=mean\n"
     ]
    },
    {
     "name": "stderr",
     "output_type": "stream",
     "text": [
      "c:\\Users\\krzys\\anaconda3\\Lib\\site-packages\\sklearn\\ensemble\\_base.py:166: FutureWarning: `base_estimator` was renamed to `estimator` in version 1.2 and will be removed in 1.4.\n",
      "  warnings.warn(\n",
      "c:\\Users\\krzys\\anaconda3\\Lib\\site-packages\\sklearn\\ensemble\\_base.py:166: FutureWarning: `base_estimator` was renamed to `estimator` in version 1.2 and will be removed in 1.4.\n",
      "  warnings.warn(\n",
      "c:\\Users\\krzys\\anaconda3\\Lib\\site-packages\\sklearn\\ensemble\\_base.py:166: FutureWarning: `base_estimator` was renamed to `estimator` in version 1.2 and will be removed in 1.4.\n",
      "  warnings.warn(\n"
     ]
    },
    {
     "name": "stdout",
     "output_type": "stream",
     "text": [
      "[CV 3/10; 15/24] END model__base_estimator__max_depth=1, model__n_estimators=50, preprocessor__numeric_preprocessing__fill_missing__strategy=mean;, score=0.831 total time=   0.0s\n",
      "[CV 4/10; 15/24] START model__base_estimator__max_depth=1, model__n_estimators=50, preprocessor__numeric_preprocessing__fill_missing__strategy=mean\n",
      "[CV 4/10; 15/24] END model__base_estimator__max_depth=1, model__n_estimators=50, preprocessor__numeric_preprocessing__fill_missing__strategy=mean;, score=0.578 total time=   0.0s\n",
      "[CV 5/10; 15/24] START model__base_estimator__max_depth=1, model__n_estimators=50, preprocessor__numeric_preprocessing__fill_missing__strategy=mean\n",
      "[CV 5/10; 15/24] END model__base_estimator__max_depth=1, model__n_estimators=50, preprocessor__numeric_preprocessing__fill_missing__strategy=mean;, score=0.877 total time=   0.0s\n",
      "[CV 6/10; 15/24] START model__base_estimator__max_depth=1, model__n_estimators=50, preprocessor__numeric_preprocessing__fill_missing__strategy=mean\n"
     ]
    },
    {
     "name": "stderr",
     "output_type": "stream",
     "text": [
      "c:\\Users\\krzys\\anaconda3\\Lib\\site-packages\\sklearn\\ensemble\\_base.py:166: FutureWarning: `base_estimator` was renamed to `estimator` in version 1.2 and will be removed in 1.4.\n",
      "  warnings.warn(\n",
      "c:\\Users\\krzys\\anaconda3\\Lib\\site-packages\\sklearn\\ensemble\\_base.py:166: FutureWarning: `base_estimator` was renamed to `estimator` in version 1.2 and will be removed in 1.4.\n",
      "  warnings.warn(\n",
      "c:\\Users\\krzys\\anaconda3\\Lib\\site-packages\\sklearn\\ensemble\\_base.py:166: FutureWarning: `base_estimator` was renamed to `estimator` in version 1.2 and will be removed in 1.4.\n",
      "  warnings.warn(\n"
     ]
    },
    {
     "name": "stdout",
     "output_type": "stream",
     "text": [
      "[CV 6/10; 15/24] END model__base_estimator__max_depth=1, model__n_estimators=50, preprocessor__numeric_preprocessing__fill_missing__strategy=mean;, score=0.801 total time=   0.0s\n",
      "[CV 7/10; 15/24] START model__base_estimator__max_depth=1, model__n_estimators=50, preprocessor__numeric_preprocessing__fill_missing__strategy=mean\n",
      "[CV 7/10; 15/24] END model__base_estimator__max_depth=1, model__n_estimators=50, preprocessor__numeric_preprocessing__fill_missing__strategy=mean;, score=0.838 total time=   0.0s\n",
      "[CV 8/10; 15/24] START model__base_estimator__max_depth=1, model__n_estimators=50, preprocessor__numeric_preprocessing__fill_missing__strategy=mean\n",
      "[CV 8/10; 15/24] END model__base_estimator__max_depth=1, model__n_estimators=50, preprocessor__numeric_preprocessing__fill_missing__strategy=mean;, score=0.685 total time=   0.0s\n",
      "[CV 9/10; 15/24] START model__base_estimator__max_depth=1, model__n_estimators=50, preprocessor__numeric_preprocessing__fill_missing__strategy=mean\n",
      "[CV 9/10; 15/24] END model__base_estimator__max_depth=1, model__n_estimators=50, preprocessor__numeric_preprocessing__fill_missing__strategy=mean;, score=0.769 total time=   0.0s\n",
      "[CV 10/10; 15/24] START model__base_estimator__max_depth=1, model__n_estimators=50, preprocessor__numeric_preprocessing__fill_missing__strategy=mean\n"
     ]
    },
    {
     "name": "stderr",
     "output_type": "stream",
     "text": [
      "c:\\Users\\krzys\\anaconda3\\Lib\\site-packages\\sklearn\\ensemble\\_base.py:166: FutureWarning: `base_estimator` was renamed to `estimator` in version 1.2 and will be removed in 1.4.\n",
      "  warnings.warn(\n",
      "c:\\Users\\krzys\\anaconda3\\Lib\\site-packages\\sklearn\\ensemble\\_base.py:166: FutureWarning: `base_estimator` was renamed to `estimator` in version 1.2 and will be removed in 1.4.\n",
      "  warnings.warn(\n",
      "c:\\Users\\krzys\\anaconda3\\Lib\\site-packages\\sklearn\\ensemble\\_base.py:166: FutureWarning: `base_estimator` was renamed to `estimator` in version 1.2 and will be removed in 1.4.\n",
      "  warnings.warn(\n",
      "c:\\Users\\krzys\\anaconda3\\Lib\\site-packages\\sklearn\\ensemble\\_base.py:166: FutureWarning: `base_estimator` was renamed to `estimator` in version 1.2 and will be removed in 1.4.\n",
      "  warnings.warn(\n"
     ]
    },
    {
     "name": "stdout",
     "output_type": "stream",
     "text": [
      "[CV 10/10; 15/24] END model__base_estimator__max_depth=1, model__n_estimators=50, preprocessor__numeric_preprocessing__fill_missing__strategy=mean;, score=0.742 total time=   0.0s\n",
      "[CV 1/10; 16/24] START model__base_estimator__max_depth=1, model__n_estimators=50, preprocessor__numeric_preprocessing__fill_missing__strategy=median\n",
      "[CV 1/10; 16/24] END model__base_estimator__max_depth=1, model__n_estimators=50, preprocessor__numeric_preprocessing__fill_missing__strategy=median;, score=0.834 total time=   0.0s\n",
      "[CV 2/10; 16/24] START model__base_estimator__max_depth=1, model__n_estimators=50, preprocessor__numeric_preprocessing__fill_missing__strategy=median\n",
      "[CV 2/10; 16/24] END model__base_estimator__max_depth=1, model__n_estimators=50, preprocessor__numeric_preprocessing__fill_missing__strategy=median;, score=0.746 total time=   0.0s\n",
      "[CV 3/10; 16/24] START model__base_estimator__max_depth=1, model__n_estimators=50, preprocessor__numeric_preprocessing__fill_missing__strategy=median\n"
     ]
    },
    {
     "name": "stderr",
     "output_type": "stream",
     "text": [
      "c:\\Users\\krzys\\anaconda3\\Lib\\site-packages\\sklearn\\ensemble\\_base.py:166: FutureWarning: `base_estimator` was renamed to `estimator` in version 1.2 and will be removed in 1.4.\n",
      "  warnings.warn(\n",
      "c:\\Users\\krzys\\anaconda3\\Lib\\site-packages\\sklearn\\ensemble\\_base.py:166: FutureWarning: `base_estimator` was renamed to `estimator` in version 1.2 and will be removed in 1.4.\n",
      "  warnings.warn(\n",
      "c:\\Users\\krzys\\anaconda3\\Lib\\site-packages\\sklearn\\ensemble\\_base.py:166: FutureWarning: `base_estimator` was renamed to `estimator` in version 1.2 and will be removed in 1.4.\n",
      "  warnings.warn(\n"
     ]
    },
    {
     "name": "stdout",
     "output_type": "stream",
     "text": [
      "[CV 3/10; 16/24] END model__base_estimator__max_depth=1, model__n_estimators=50, preprocessor__numeric_preprocessing__fill_missing__strategy=median;, score=0.612 total time=   0.0s\n",
      "[CV 4/10; 16/24] START model__base_estimator__max_depth=1, model__n_estimators=50, preprocessor__numeric_preprocessing__fill_missing__strategy=median\n",
      "[CV 4/10; 16/24] END model__base_estimator__max_depth=1, model__n_estimators=50, preprocessor__numeric_preprocessing__fill_missing__strategy=median;, score=0.578 total time=   0.0s\n",
      "[CV 5/10; 16/24] START model__base_estimator__max_depth=1, model__n_estimators=50, preprocessor__numeric_preprocessing__fill_missing__strategy=median\n",
      "[CV 5/10; 16/24] END model__base_estimator__max_depth=1, model__n_estimators=50, preprocessor__numeric_preprocessing__fill_missing__strategy=median;, score=0.968 total time=   0.0s\n",
      "[CV 6/10; 16/24] START model__base_estimator__max_depth=1, model__n_estimators=50, preprocessor__numeric_preprocessing__fill_missing__strategy=median\n"
     ]
    },
    {
     "name": "stderr",
     "output_type": "stream",
     "text": [
      "c:\\Users\\krzys\\anaconda3\\Lib\\site-packages\\sklearn\\ensemble\\_base.py:166: FutureWarning: `base_estimator` was renamed to `estimator` in version 1.2 and will be removed in 1.4.\n",
      "  warnings.warn(\n",
      "c:\\Users\\krzys\\anaconda3\\Lib\\site-packages\\sklearn\\ensemble\\_base.py:166: FutureWarning: `base_estimator` was renamed to `estimator` in version 1.2 and will be removed in 1.4.\n",
      "  warnings.warn(\n",
      "c:\\Users\\krzys\\anaconda3\\Lib\\site-packages\\sklearn\\ensemble\\_base.py:166: FutureWarning: `base_estimator` was renamed to `estimator` in version 1.2 and will be removed in 1.4.\n",
      "  warnings.warn(\n",
      "c:\\Users\\krzys\\anaconda3\\Lib\\site-packages\\sklearn\\ensemble\\_base.py:166: FutureWarning: `base_estimator` was renamed to `estimator` in version 1.2 and will be removed in 1.4.\n",
      "  warnings.warn(\n"
     ]
    },
    {
     "name": "stdout",
     "output_type": "stream",
     "text": [
      "[CV 6/10; 16/24] END model__base_estimator__max_depth=1, model__n_estimators=50, preprocessor__numeric_preprocessing__fill_missing__strategy=median;, score=0.776 total time=   0.0s\n",
      "[CV 7/10; 16/24] START model__base_estimator__max_depth=1, model__n_estimators=50, preprocessor__numeric_preprocessing__fill_missing__strategy=median\n",
      "[CV 7/10; 16/24] END model__base_estimator__max_depth=1, model__n_estimators=50, preprocessor__numeric_preprocessing__fill_missing__strategy=median;, score=0.838 total time=   0.0s\n",
      "[CV 8/10; 16/24] START model__base_estimator__max_depth=1, model__n_estimators=50, preprocessor__numeric_preprocessing__fill_missing__strategy=median\n",
      "[CV 8/10; 16/24] END model__base_estimator__max_depth=1, model__n_estimators=50, preprocessor__numeric_preprocessing__fill_missing__strategy=median;, score=0.891 total time=   0.0s\n",
      "[CV 9/10; 16/24] START model__base_estimator__max_depth=1, model__n_estimators=50, preprocessor__numeric_preprocessing__fill_missing__strategy=median\n"
     ]
    },
    {
     "name": "stderr",
     "output_type": "stream",
     "text": [
      "c:\\Users\\krzys\\anaconda3\\Lib\\site-packages\\sklearn\\ensemble\\_base.py:166: FutureWarning: `base_estimator` was renamed to `estimator` in version 1.2 and will be removed in 1.4.\n",
      "  warnings.warn(\n",
      "c:\\Users\\krzys\\anaconda3\\Lib\\site-packages\\sklearn\\ensemble\\_base.py:166: FutureWarning: `base_estimator` was renamed to `estimator` in version 1.2 and will be removed in 1.4.\n",
      "  warnings.warn(\n",
      "c:\\Users\\krzys\\anaconda3\\Lib\\site-packages\\sklearn\\ensemble\\_base.py:166: FutureWarning: `base_estimator` was renamed to `estimator` in version 1.2 and will be removed in 1.4.\n",
      "  warnings.warn(\n"
     ]
    },
    {
     "name": "stdout",
     "output_type": "stream",
     "text": [
      "[CV 9/10; 16/24] END model__base_estimator__max_depth=1, model__n_estimators=50, preprocessor__numeric_preprocessing__fill_missing__strategy=median;, score=0.861 total time=   0.0s\n",
      "[CV 10/10; 16/24] START model__base_estimator__max_depth=1, model__n_estimators=50, preprocessor__numeric_preprocessing__fill_missing__strategy=median\n",
      "[CV 10/10; 16/24] END model__base_estimator__max_depth=1, model__n_estimators=50, preprocessor__numeric_preprocessing__fill_missing__strategy=median;, score=0.845 total time=   0.0s\n",
      "[CV 1/10; 17/24] START model__base_estimator__max_depth=1, model__n_estimators=75, preprocessor__numeric_preprocessing__fill_missing__strategy=mean\n",
      "[CV 1/10; 17/24] END model__base_estimator__max_depth=1, model__n_estimators=75, preprocessor__numeric_preprocessing__fill_missing__strategy=mean;, score=0.692 total time=   0.0s\n",
      "[CV 2/10; 17/24] START model__base_estimator__max_depth=1, model__n_estimators=75, preprocessor__numeric_preprocessing__fill_missing__strategy=mean\n"
     ]
    },
    {
     "name": "stderr",
     "output_type": "stream",
     "text": [
      "c:\\Users\\krzys\\anaconda3\\Lib\\site-packages\\sklearn\\ensemble\\_base.py:166: FutureWarning: `base_estimator` was renamed to `estimator` in version 1.2 and will be removed in 1.4.\n",
      "  warnings.warn(\n",
      "c:\\Users\\krzys\\anaconda3\\Lib\\site-packages\\sklearn\\ensemble\\_base.py:166: FutureWarning: `base_estimator` was renamed to `estimator` in version 1.2 and will be removed in 1.4.\n",
      "  warnings.warn(\n",
      "c:\\Users\\krzys\\anaconda3\\Lib\\site-packages\\sklearn\\ensemble\\_base.py:166: FutureWarning: `base_estimator` was renamed to `estimator` in version 1.2 and will be removed in 1.4.\n",
      "  warnings.warn(\n"
     ]
    },
    {
     "name": "stdout",
     "output_type": "stream",
     "text": [
      "[CV 2/10; 17/24] END model__base_estimator__max_depth=1, model__n_estimators=75, preprocessor__numeric_preprocessing__fill_missing__strategy=mean;, score=0.750 total time=   0.0s\n",
      "[CV 3/10; 17/24] START model__base_estimator__max_depth=1, model__n_estimators=75, preprocessor__numeric_preprocessing__fill_missing__strategy=mean\n",
      "[CV 3/10; 17/24] END model__base_estimator__max_depth=1, model__n_estimators=75, preprocessor__numeric_preprocessing__fill_missing__strategy=mean;, score=0.750 total time=   0.0s\n",
      "[CV 4/10; 17/24] START model__base_estimator__max_depth=1, model__n_estimators=75, preprocessor__numeric_preprocessing__fill_missing__strategy=mean\n",
      "[CV 4/10; 17/24] END model__base_estimator__max_depth=1, model__n_estimators=75, preprocessor__numeric_preprocessing__fill_missing__strategy=mean;, score=0.578 total time=   0.0s\n",
      "[CV 5/10; 17/24] START model__base_estimator__max_depth=1, model__n_estimators=75, preprocessor__numeric_preprocessing__fill_missing__strategy=mean\n",
      "[CV 5/10; 17/24] END model__base_estimator__max_depth=1, model__n_estimators=75, preprocessor__numeric_preprocessing__fill_missing__strategy=mean;, score=0.918 total time=   0.0s\n",
      "[CV 6/10; 17/24] START model__base_estimator__max_depth=1, model__n_estimators=75, preprocessor__numeric_preprocessing__fill_missing__strategy=mean\n"
     ]
    },
    {
     "name": "stderr",
     "output_type": "stream",
     "text": [
      "c:\\Users\\krzys\\anaconda3\\Lib\\site-packages\\sklearn\\ensemble\\_base.py:166: FutureWarning: `base_estimator` was renamed to `estimator` in version 1.2 and will be removed in 1.4.\n",
      "  warnings.warn(\n",
      "c:\\Users\\krzys\\anaconda3\\Lib\\site-packages\\sklearn\\ensemble\\_base.py:166: FutureWarning: `base_estimator` was renamed to `estimator` in version 1.2 and will be removed in 1.4.\n",
      "  warnings.warn(\n"
     ]
    },
    {
     "name": "stdout",
     "output_type": "stream",
     "text": [
      "[CV 6/10; 17/24] END model__base_estimator__max_depth=1, model__n_estimators=75, preprocessor__numeric_preprocessing__fill_missing__strategy=mean;, score=0.838 total time=   0.0s\n",
      "[CV 7/10; 17/24] START model__base_estimator__max_depth=1, model__n_estimators=75, preprocessor__numeric_preprocessing__fill_missing__strategy=mean\n",
      "[CV 7/10; 17/24] END model__base_estimator__max_depth=1, model__n_estimators=75, preprocessor__numeric_preprocessing__fill_missing__strategy=mean;, score=0.838 total time=   0.0s\n",
      "[CV 8/10; 17/24] START model__base_estimator__max_depth=1, model__n_estimators=75, preprocessor__numeric_preprocessing__fill_missing__strategy=mean\n",
      "[CV 8/10; 17/24] END model__base_estimator__max_depth=1, model__n_estimators=75, preprocessor__numeric_preprocessing__fill_missing__strategy=mean;, score=0.685 total time=   0.0s\n",
      "[CV 9/10; 17/24] START model__base_estimator__max_depth=1, model__n_estimators=75, preprocessor__numeric_preprocessing__fill_missing__strategy=mean\n"
     ]
    },
    {
     "name": "stderr",
     "output_type": "stream",
     "text": [
      "c:\\Users\\krzys\\anaconda3\\Lib\\site-packages\\sklearn\\ensemble\\_base.py:166: FutureWarning: `base_estimator` was renamed to `estimator` in version 1.2 and will be removed in 1.4.\n",
      "  warnings.warn(\n",
      "c:\\Users\\krzys\\anaconda3\\Lib\\site-packages\\sklearn\\ensemble\\_base.py:166: FutureWarning: `base_estimator` was renamed to `estimator` in version 1.2 and will be removed in 1.4.\n",
      "  warnings.warn(\n",
      "c:\\Users\\krzys\\anaconda3\\Lib\\site-packages\\sklearn\\ensemble\\_base.py:166: FutureWarning: `base_estimator` was renamed to `estimator` in version 1.2 and will be removed in 1.4.\n",
      "  warnings.warn(\n"
     ]
    },
    {
     "name": "stdout",
     "output_type": "stream",
     "text": [
      "[CV 9/10; 17/24] END model__base_estimator__max_depth=1, model__n_estimators=75, preprocessor__numeric_preprocessing__fill_missing__strategy=mean;, score=0.831 total time=   0.0s\n",
      "[CV 10/10; 17/24] START model__base_estimator__max_depth=1, model__n_estimators=75, preprocessor__numeric_preprocessing__fill_missing__strategy=mean\n",
      "[CV 10/10; 17/24] END model__base_estimator__max_depth=1, model__n_estimators=75, preprocessor__numeric_preprocessing__fill_missing__strategy=mean;, score=0.689 total time=   0.0s\n",
      "[CV 1/10; 18/24] START model__base_estimator__max_depth=1, model__n_estimators=75, preprocessor__numeric_preprocessing__fill_missing__strategy=median\n",
      "[CV 1/10; 18/24] END model__base_estimator__max_depth=1, model__n_estimators=75, preprocessor__numeric_preprocessing__fill_missing__strategy=median;, score=0.843 total time=   0.0s\n",
      "[CV 2/10; 18/24] START model__base_estimator__max_depth=1, model__n_estimators=75, preprocessor__numeric_preprocessing__fill_missing__strategy=median\n"
     ]
    },
    {
     "name": "stderr",
     "output_type": "stream",
     "text": [
      "c:\\Users\\krzys\\anaconda3\\Lib\\site-packages\\sklearn\\ensemble\\_base.py:166: FutureWarning: `base_estimator` was renamed to `estimator` in version 1.2 and will be removed in 1.4.\n",
      "  warnings.warn(\n",
      "c:\\Users\\krzys\\anaconda3\\Lib\\site-packages\\sklearn\\ensemble\\_base.py:166: FutureWarning: `base_estimator` was renamed to `estimator` in version 1.2 and will be removed in 1.4.\n",
      "  warnings.warn(\n",
      "c:\\Users\\krzys\\anaconda3\\Lib\\site-packages\\sklearn\\ensemble\\_base.py:166: FutureWarning: `base_estimator` was renamed to `estimator` in version 1.2 and will be removed in 1.4.\n",
      "  warnings.warn(\n"
     ]
    },
    {
     "name": "stdout",
     "output_type": "stream",
     "text": [
      "[CV 2/10; 18/24] END model__base_estimator__max_depth=1, model__n_estimators=75, preprocessor__numeric_preprocessing__fill_missing__strategy=median;, score=0.791 total time=   0.0s\n",
      "[CV 3/10; 18/24] START model__base_estimator__max_depth=1, model__n_estimators=75, preprocessor__numeric_preprocessing__fill_missing__strategy=median\n",
      "[CV 3/10; 18/24] END model__base_estimator__max_depth=1, model__n_estimators=75, preprocessor__numeric_preprocessing__fill_missing__strategy=median;, score=0.707 total time=   0.0s\n",
      "[CV 4/10; 18/24] START model__base_estimator__max_depth=1, model__n_estimators=75, preprocessor__numeric_preprocessing__fill_missing__strategy=median\n",
      "[CV 4/10; 18/24] END model__base_estimator__max_depth=1, model__n_estimators=75, preprocessor__numeric_preprocessing__fill_missing__strategy=median;, score=0.578 total time=   0.0s\n",
      "[CV 5/10; 18/24] START model__base_estimator__max_depth=1, model__n_estimators=75, preprocessor__numeric_preprocessing__fill_missing__strategy=median\n"
     ]
    },
    {
     "name": "stderr",
     "output_type": "stream",
     "text": [
      "c:\\Users\\krzys\\anaconda3\\Lib\\site-packages\\sklearn\\ensemble\\_base.py:166: FutureWarning: `base_estimator` was renamed to `estimator` in version 1.2 and will be removed in 1.4.\n",
      "  warnings.warn(\n",
      "c:\\Users\\krzys\\anaconda3\\Lib\\site-packages\\sklearn\\ensemble\\_base.py:166: FutureWarning: `base_estimator` was renamed to `estimator` in version 1.2 and will be removed in 1.4.\n",
      "  warnings.warn(\n",
      "c:\\Users\\krzys\\anaconda3\\Lib\\site-packages\\sklearn\\ensemble\\_base.py:166: FutureWarning: `base_estimator` was renamed to `estimator` in version 1.2 and will be removed in 1.4.\n",
      "  warnings.warn(\n"
     ]
    },
    {
     "name": "stdout",
     "output_type": "stream",
     "text": [
      "[CV 5/10; 18/24] END model__base_estimator__max_depth=1, model__n_estimators=75, preprocessor__numeric_preprocessing__fill_missing__strategy=median;, score=0.968 total time=   0.0s\n",
      "[CV 6/10; 18/24] START model__base_estimator__max_depth=1, model__n_estimators=75, preprocessor__numeric_preprocessing__fill_missing__strategy=median\n",
      "[CV 6/10; 18/24] END model__base_estimator__max_depth=1, model__n_estimators=75, preprocessor__numeric_preprocessing__fill_missing__strategy=median;, score=0.742 total time=   0.0s\n",
      "[CV 7/10; 18/24] START model__base_estimator__max_depth=1, model__n_estimators=75, preprocessor__numeric_preprocessing__fill_missing__strategy=median\n",
      "[CV 7/10; 18/24] END model__base_estimator__max_depth=1, model__n_estimators=75, preprocessor__numeric_preprocessing__fill_missing__strategy=median;, score=0.838 total time=   0.0s\n",
      "[CV 8/10; 18/24] START model__base_estimator__max_depth=1, model__n_estimators=75, preprocessor__numeric_preprocessing__fill_missing__strategy=median\n"
     ]
    },
    {
     "name": "stderr",
     "output_type": "stream",
     "text": [
      "c:\\Users\\krzys\\anaconda3\\Lib\\site-packages\\sklearn\\ensemble\\_base.py:166: FutureWarning: `base_estimator` was renamed to `estimator` in version 1.2 and will be removed in 1.4.\n",
      "  warnings.warn(\n",
      "c:\\Users\\krzys\\anaconda3\\Lib\\site-packages\\sklearn\\ensemble\\_base.py:166: FutureWarning: `base_estimator` was renamed to `estimator` in version 1.2 and will be removed in 1.4.\n",
      "  warnings.warn(\n",
      "c:\\Users\\krzys\\anaconda3\\Lib\\site-packages\\sklearn\\ensemble\\_base.py:166: FutureWarning: `base_estimator` was renamed to `estimator` in version 1.2 and will be removed in 1.4.\n",
      "  warnings.warn(\n"
     ]
    },
    {
     "name": "stdout",
     "output_type": "stream",
     "text": [
      "[CV 8/10; 18/24] END model__base_estimator__max_depth=1, model__n_estimators=75, preprocessor__numeric_preprocessing__fill_missing__strategy=median;, score=0.801 total time=   0.0s\n",
      "[CV 9/10; 18/24] START model__base_estimator__max_depth=1, model__n_estimators=75, preprocessor__numeric_preprocessing__fill_missing__strategy=median\n",
      "[CV 9/10; 18/24] END model__base_estimator__max_depth=1, model__n_estimators=75, preprocessor__numeric_preprocessing__fill_missing__strategy=median;, score=0.806 total time=   0.0s\n",
      "[CV 10/10; 18/24] START model__base_estimator__max_depth=1, model__n_estimators=75, preprocessor__numeric_preprocessing__fill_missing__strategy=median\n",
      "[CV 10/10; 18/24] END model__base_estimator__max_depth=1, model__n_estimators=75, preprocessor__numeric_preprocessing__fill_missing__strategy=median;, score=0.845 total time=   0.0s\n",
      "[CV 1/10; 19/24] START model__base_estimator__max_depth=10, model__n_estimators=25, preprocessor__numeric_preprocessing__fill_missing__strategy=mean\n"
     ]
    },
    {
     "name": "stderr",
     "output_type": "stream",
     "text": [
      "c:\\Users\\krzys\\anaconda3\\Lib\\site-packages\\sklearn\\ensemble\\_base.py:166: FutureWarning: `base_estimator` was renamed to `estimator` in version 1.2 and will be removed in 1.4.\n",
      "  warnings.warn(\n",
      "c:\\Users\\krzys\\anaconda3\\Lib\\site-packages\\sklearn\\ensemble\\_base.py:166: FutureWarning: `base_estimator` was renamed to `estimator` in version 1.2 and will be removed in 1.4.\n",
      "  warnings.warn(\n",
      "c:\\Users\\krzys\\anaconda3\\Lib\\site-packages\\sklearn\\ensemble\\_base.py:166: FutureWarning: `base_estimator` was renamed to `estimator` in version 1.2 and will be removed in 1.4.\n",
      "  warnings.warn(\n"
     ]
    },
    {
     "name": "stdout",
     "output_type": "stream",
     "text": [
      "[CV 1/10; 19/24] END model__base_estimator__max_depth=10, model__n_estimators=25, preprocessor__numeric_preprocessing__fill_missing__strategy=mean;, score=0.922 total time=   0.0s\n",
      "[CV 2/10; 19/24] START model__base_estimator__max_depth=10, model__n_estimators=25, preprocessor__numeric_preprocessing__fill_missing__strategy=mean\n",
      "[CV 2/10; 19/24] END model__base_estimator__max_depth=10, model__n_estimators=25, preprocessor__numeric_preprocessing__fill_missing__strategy=mean;, score=1.000 total time=   0.0s\n",
      "[CV 3/10; 19/24] START model__base_estimator__max_depth=10, model__n_estimators=25, preprocessor__numeric_preprocessing__fill_missing__strategy=mean\n",
      "[CV 3/10; 19/24] END model__base_estimator__max_depth=10, model__n_estimators=25, preprocessor__numeric_preprocessing__fill_missing__strategy=mean;, score=0.948 total time=   0.0s\n",
      "[CV 4/10; 19/24] START model__base_estimator__max_depth=10, model__n_estimators=25, preprocessor__numeric_preprocessing__fill_missing__strategy=mean\n",
      "[CV 4/10; 19/24] END model__base_estimator__max_depth=10, model__n_estimators=25, preprocessor__numeric_preprocessing__fill_missing__strategy=mean;, score=0.918 total time=   0.0s\n",
      "[CV 5/10; 19/24] START model__base_estimator__max_depth=10, model__n_estimators=25, preprocessor__numeric_preprocessing__fill_missing__strategy=mean\n",
      "[CV 5/10; 19/24] END model__base_estimator__max_depth=10, model__n_estimators=25, preprocessor__numeric_preprocessing__fill_missing__strategy=mean;, score=0.968 total time=   0.0s\n",
      "[CV 6/10; 19/24] START model__base_estimator__max_depth=10, model__n_estimators=25, preprocessor__numeric_preprocessing__fill_missing__strategy=mean\n",
      "[CV 6/10; 19/24] END model__base_estimator__max_depth=10, model__n_estimators=25, preprocessor__numeric_preprocessing__fill_missing__strategy=mean;, score=1.000 total time=   0.0s\n",
      "[CV 7/10; 19/24] START model__base_estimator__max_depth=10, model__n_estimators=25, preprocessor__numeric_preprocessing__fill_missing__strategy=mean\n",
      "[CV 7/10; 19/24] END model__base_estimator__max_depth=10, model__n_estimators=25, preprocessor__numeric_preprocessing__fill_missing__strategy=mean;, score=1.000 total time=   0.0s\n",
      "[CV 8/10; 19/24] START model__base_estimator__max_depth=10, model__n_estimators=25, preprocessor__numeric_preprocessing__fill_missing__strategy=mean\n"
     ]
    },
    {
     "name": "stderr",
     "output_type": "stream",
     "text": [
      "c:\\Users\\krzys\\anaconda3\\Lib\\site-packages\\sklearn\\ensemble\\_base.py:166: FutureWarning: `base_estimator` was renamed to `estimator` in version 1.2 and will be removed in 1.4.\n",
      "  warnings.warn(\n",
      "c:\\Users\\krzys\\anaconda3\\Lib\\site-packages\\sklearn\\ensemble\\_base.py:166: FutureWarning: `base_estimator` was renamed to `estimator` in version 1.2 and will be removed in 1.4.\n",
      "  warnings.warn(\n",
      "c:\\Users\\krzys\\anaconda3\\Lib\\site-packages\\sklearn\\ensemble\\_base.py:166: FutureWarning: `base_estimator` was renamed to `estimator` in version 1.2 and will be removed in 1.4.\n",
      "  warnings.warn(\n",
      "c:\\Users\\krzys\\anaconda3\\Lib\\site-packages\\sklearn\\ensemble\\_base.py:166: FutureWarning: `base_estimator` was renamed to `estimator` in version 1.2 and will be removed in 1.4.\n",
      "  warnings.warn(\n",
      "c:\\Users\\krzys\\anaconda3\\Lib\\site-packages\\sklearn\\ensemble\\_base.py:166: FutureWarning: `base_estimator` was renamed to `estimator` in version 1.2 and will be removed in 1.4.\n",
      "  warnings.warn(\n",
      "c:\\Users\\krzys\\anaconda3\\Lib\\site-packages\\sklearn\\ensemble\\_base.py:166: FutureWarning: `base_estimator` was renamed to `estimator` in version 1.2 and will be removed in 1.4.\n",
      "  warnings.warn(\n",
      "c:\\Users\\krzys\\anaconda3\\Lib\\site-packages\\sklearn\\ensemble\\_base.py:166: FutureWarning: `base_estimator` was renamed to `estimator` in version 1.2 and will be removed in 1.4.\n",
      "  warnings.warn(\n"
     ]
    },
    {
     "name": "stdout",
     "output_type": "stream",
     "text": [
      "[CV 8/10; 19/24] END model__base_estimator__max_depth=10, model__n_estimators=25, preprocessor__numeric_preprocessing__fill_missing__strategy=mean;, score=1.000 total time=   0.0s\n",
      "[CV 9/10; 19/24] START model__base_estimator__max_depth=10, model__n_estimators=25, preprocessor__numeric_preprocessing__fill_missing__strategy=mean\n",
      "[CV 9/10; 19/24] END model__base_estimator__max_depth=10, model__n_estimators=25, preprocessor__numeric_preprocessing__fill_missing__strategy=mean;, score=1.000 total time=   0.0s\n",
      "[CV 10/10; 19/24] START model__base_estimator__max_depth=10, model__n_estimators=25, preprocessor__numeric_preprocessing__fill_missing__strategy=mean\n",
      "[CV 10/10; 19/24] END model__base_estimator__max_depth=10, model__n_estimators=25, preprocessor__numeric_preprocessing__fill_missing__strategy=mean;, score=0.948 total time=   0.0s\n",
      "[CV 1/10; 20/24] START model__base_estimator__max_depth=10, model__n_estimators=25, preprocessor__numeric_preprocessing__fill_missing__strategy=median\n",
      "[CV 1/10; 20/24] END model__base_estimator__max_depth=10, model__n_estimators=25, preprocessor__numeric_preprocessing__fill_missing__strategy=median;, score=0.875 total time=   0.0s\n",
      "[CV 2/10; 20/24] START model__base_estimator__max_depth=10, model__n_estimators=25, preprocessor__numeric_preprocessing__fill_missing__strategy=median\n",
      "[CV 2/10; 20/24] END model__base_estimator__max_depth=10, model__n_estimators=25, preprocessor__numeric_preprocessing__fill_missing__strategy=median;, score=1.000 total time=   0.0s\n",
      "[CV 3/10; 20/24] START model__base_estimator__max_depth=10, model__n_estimators=25, preprocessor__numeric_preprocessing__fill_missing__strategy=median\n"
     ]
    },
    {
     "name": "stderr",
     "output_type": "stream",
     "text": [
      "c:\\Users\\krzys\\anaconda3\\Lib\\site-packages\\sklearn\\ensemble\\_base.py:166: FutureWarning: `base_estimator` was renamed to `estimator` in version 1.2 and will be removed in 1.4.\n",
      "  warnings.warn(\n",
      "c:\\Users\\krzys\\anaconda3\\Lib\\site-packages\\sklearn\\ensemble\\_base.py:166: FutureWarning: `base_estimator` was renamed to `estimator` in version 1.2 and will be removed in 1.4.\n",
      "  warnings.warn(\n",
      "c:\\Users\\krzys\\anaconda3\\Lib\\site-packages\\sklearn\\ensemble\\_base.py:166: FutureWarning: `base_estimator` was renamed to `estimator` in version 1.2 and will be removed in 1.4.\n",
      "  warnings.warn(\n",
      "c:\\Users\\krzys\\anaconda3\\Lib\\site-packages\\sklearn\\ensemble\\_base.py:166: FutureWarning: `base_estimator` was renamed to `estimator` in version 1.2 and will be removed in 1.4.\n",
      "  warnings.warn(\n",
      "c:\\Users\\krzys\\anaconda3\\Lib\\site-packages\\sklearn\\ensemble\\_base.py:166: FutureWarning: `base_estimator` was renamed to `estimator` in version 1.2 and will be removed in 1.4.\n",
      "  warnings.warn(\n"
     ]
    },
    {
     "name": "stdout",
     "output_type": "stream",
     "text": [
      "[CV 3/10; 20/24] END model__base_estimator__max_depth=10, model__n_estimators=25, preprocessor__numeric_preprocessing__fill_missing__strategy=median;, score=1.000 total time=   0.0s\n",
      "[CV 4/10; 20/24] START model__base_estimator__max_depth=10, model__n_estimators=25, preprocessor__numeric_preprocessing__fill_missing__strategy=median\n",
      "[CV 4/10; 20/24] END model__base_estimator__max_depth=10, model__n_estimators=25, preprocessor__numeric_preprocessing__fill_missing__strategy=median;, score=0.918 total time=   0.0s\n",
      "[CV 5/10; 20/24] START model__base_estimator__max_depth=10, model__n_estimators=25, preprocessor__numeric_preprocessing__fill_missing__strategy=median\n",
      "[CV 5/10; 20/24] END model__base_estimator__max_depth=10, model__n_estimators=25, preprocessor__numeric_preprocessing__fill_missing__strategy=median;, score=0.968 total time=   0.0s\n",
      "[CV 6/10; 20/24] START model__base_estimator__max_depth=10, model__n_estimators=25, preprocessor__numeric_preprocessing__fill_missing__strategy=median\n",
      "[CV 6/10; 20/24] END model__base_estimator__max_depth=10, model__n_estimators=25, preprocessor__numeric_preprocessing__fill_missing__strategy=median;, score=1.000 total time=   0.0s\n",
      "[CV 7/10; 20/24] START model__base_estimator__max_depth=10, model__n_estimators=25, preprocessor__numeric_preprocessing__fill_missing__strategy=median\n",
      "[CV 7/10; 20/24] END model__base_estimator__max_depth=10, model__n_estimators=25, preprocessor__numeric_preprocessing__fill_missing__strategy=median;, score=0.914 total time=   0.0s\n",
      "[CV 8/10; 20/24] START model__base_estimator__max_depth=10, model__n_estimators=25, preprocessor__numeric_preprocessing__fill_missing__strategy=median\n",
      "[CV 8/10; 20/24] END model__base_estimator__max_depth=10, model__n_estimators=25, preprocessor__numeric_preprocessing__fill_missing__strategy=median;, score=1.000 total time=   0.0s\n",
      "[CV 9/10; 20/24] START model__base_estimator__max_depth=10, model__n_estimators=25, preprocessor__numeric_preprocessing__fill_missing__strategy=median\n",
      "[CV 9/10; 20/24] END model__base_estimator__max_depth=10, model__n_estimators=25, preprocessor__numeric_preprocessing__fill_missing__strategy=median;, score=1.000 total time=   0.0s\n",
      "[CV 10/10; 20/24] START model__base_estimator__max_depth=10, model__n_estimators=25, preprocessor__numeric_preprocessing__fill_missing__strategy=median\n"
     ]
    },
    {
     "name": "stderr",
     "output_type": "stream",
     "text": [
      "c:\\Users\\krzys\\anaconda3\\Lib\\site-packages\\sklearn\\ensemble\\_base.py:166: FutureWarning: `base_estimator` was renamed to `estimator` in version 1.2 and will be removed in 1.4.\n",
      "  warnings.warn(\n",
      "c:\\Users\\krzys\\anaconda3\\Lib\\site-packages\\sklearn\\ensemble\\_base.py:166: FutureWarning: `base_estimator` was renamed to `estimator` in version 1.2 and will be removed in 1.4.\n",
      "  warnings.warn(\n",
      "c:\\Users\\krzys\\anaconda3\\Lib\\site-packages\\sklearn\\ensemble\\_base.py:166: FutureWarning: `base_estimator` was renamed to `estimator` in version 1.2 and will be removed in 1.4.\n",
      "  warnings.warn(\n",
      "c:\\Users\\krzys\\anaconda3\\Lib\\site-packages\\sklearn\\ensemble\\_base.py:166: FutureWarning: `base_estimator` was renamed to `estimator` in version 1.2 and will be removed in 1.4.\n",
      "  warnings.warn(\n",
      "c:\\Users\\krzys\\anaconda3\\Lib\\site-packages\\sklearn\\ensemble\\_base.py:166: FutureWarning: `base_estimator` was renamed to `estimator` in version 1.2 and will be removed in 1.4.\n",
      "  warnings.warn(\n",
      "c:\\Users\\krzys\\anaconda3\\Lib\\site-packages\\sklearn\\ensemble\\_base.py:166: FutureWarning: `base_estimator` was renamed to `estimator` in version 1.2 and will be removed in 1.4.\n",
      "  warnings.warn(\n",
      "c:\\Users\\krzys\\anaconda3\\Lib\\site-packages\\sklearn\\ensemble\\_base.py:166: FutureWarning: `base_estimator` was renamed to `estimator` in version 1.2 and will be removed in 1.4.\n",
      "  warnings.warn(\n"
     ]
    },
    {
     "name": "stdout",
     "output_type": "stream",
     "text": [
      "[CV 10/10; 20/24] END model__base_estimator__max_depth=10, model__n_estimators=25, preprocessor__numeric_preprocessing__fill_missing__strategy=median;, score=1.000 total time=   0.0s\n",
      "[CV 1/10; 21/24] START model__base_estimator__max_depth=10, model__n_estimators=50, preprocessor__numeric_preprocessing__fill_missing__strategy=mean\n",
      "[CV 1/10; 21/24] END model__base_estimator__max_depth=10, model__n_estimators=50, preprocessor__numeric_preprocessing__fill_missing__strategy=mean;, score=0.922 total time=   0.0s\n",
      "[CV 2/10; 21/24] START model__base_estimator__max_depth=10, model__n_estimators=50, preprocessor__numeric_preprocessing__fill_missing__strategy=mean\n",
      "[CV 2/10; 21/24] END model__base_estimator__max_depth=10, model__n_estimators=50, preprocessor__numeric_preprocessing__fill_missing__strategy=mean;, score=1.000 total time=   0.0s\n",
      "[CV 3/10; 21/24] START model__base_estimator__max_depth=10, model__n_estimators=50, preprocessor__numeric_preprocessing__fill_missing__strategy=mean\n"
     ]
    },
    {
     "name": "stderr",
     "output_type": "stream",
     "text": [
      "c:\\Users\\krzys\\anaconda3\\Lib\\site-packages\\sklearn\\ensemble\\_base.py:166: FutureWarning: `base_estimator` was renamed to `estimator` in version 1.2 and will be removed in 1.4.\n",
      "  warnings.warn(\n",
      "c:\\Users\\krzys\\anaconda3\\Lib\\site-packages\\sklearn\\ensemble\\_base.py:166: FutureWarning: `base_estimator` was renamed to `estimator` in version 1.2 and will be removed in 1.4.\n",
      "  warnings.warn(\n",
      "c:\\Users\\krzys\\anaconda3\\Lib\\site-packages\\sklearn\\ensemble\\_base.py:166: FutureWarning: `base_estimator` was renamed to `estimator` in version 1.2 and will be removed in 1.4.\n",
      "  warnings.warn(\n"
     ]
    },
    {
     "name": "stdout",
     "output_type": "stream",
     "text": [
      "[CV 3/10; 21/24] END model__base_estimator__max_depth=10, model__n_estimators=50, preprocessor__numeric_preprocessing__fill_missing__strategy=mean;, score=0.948 total time=   0.0s\n",
      "[CV 4/10; 21/24] START model__base_estimator__max_depth=10, model__n_estimators=50, preprocessor__numeric_preprocessing__fill_missing__strategy=mean\n",
      "[CV 4/10; 21/24] END model__base_estimator__max_depth=10, model__n_estimators=50, preprocessor__numeric_preprocessing__fill_missing__strategy=mean;, score=0.918 total time=   0.0s\n",
      "[CV 5/10; 21/24] START model__base_estimator__max_depth=10, model__n_estimators=50, preprocessor__numeric_preprocessing__fill_missing__strategy=mean\n",
      "[CV 5/10; 21/24] END model__base_estimator__max_depth=10, model__n_estimators=50, preprocessor__numeric_preprocessing__fill_missing__strategy=mean;, score=0.968 total time=   0.0s\n",
      "[CV 6/10; 21/24] START model__base_estimator__max_depth=10, model__n_estimators=50, preprocessor__numeric_preprocessing__fill_missing__strategy=mean\n",
      "[CV 6/10; 21/24] END model__base_estimator__max_depth=10, model__n_estimators=50, preprocessor__numeric_preprocessing__fill_missing__strategy=mean;, score=0.955 total time=   0.0s\n",
      "[CV 7/10; 21/24] START model__base_estimator__max_depth=10, model__n_estimators=50, preprocessor__numeric_preprocessing__fill_missing__strategy=mean\n",
      "[CV 7/10; 21/24] END model__base_estimator__max_depth=10, model__n_estimators=50, preprocessor__numeric_preprocessing__fill_missing__strategy=mean;, score=1.000 total time=   0.0s\n",
      "[CV 8/10; 21/24] START model__base_estimator__max_depth=10, model__n_estimators=50, preprocessor__numeric_preprocessing__fill_missing__strategy=mean\n"
     ]
    },
    {
     "name": "stderr",
     "output_type": "stream",
     "text": [
      "c:\\Users\\krzys\\anaconda3\\Lib\\site-packages\\sklearn\\ensemble\\_base.py:166: FutureWarning: `base_estimator` was renamed to `estimator` in version 1.2 and will be removed in 1.4.\n",
      "  warnings.warn(\n",
      "c:\\Users\\krzys\\anaconda3\\Lib\\site-packages\\sklearn\\ensemble\\_base.py:166: FutureWarning: `base_estimator` was renamed to `estimator` in version 1.2 and will be removed in 1.4.\n",
      "  warnings.warn(\n",
      "c:\\Users\\krzys\\anaconda3\\Lib\\site-packages\\sklearn\\ensemble\\_base.py:166: FutureWarning: `base_estimator` was renamed to `estimator` in version 1.2 and will be removed in 1.4.\n",
      "  warnings.warn(\n",
      "c:\\Users\\krzys\\anaconda3\\Lib\\site-packages\\sklearn\\ensemble\\_base.py:166: FutureWarning: `base_estimator` was renamed to `estimator` in version 1.2 and will be removed in 1.4.\n",
      "  warnings.warn(\n",
      "c:\\Users\\krzys\\anaconda3\\Lib\\site-packages\\sklearn\\ensemble\\_base.py:166: FutureWarning: `base_estimator` was renamed to `estimator` in version 1.2 and will be removed in 1.4.\n",
      "  warnings.warn(\n"
     ]
    },
    {
     "name": "stdout",
     "output_type": "stream",
     "text": [
      "[CV 8/10; 21/24] END model__base_estimator__max_depth=10, model__n_estimators=50, preprocessor__numeric_preprocessing__fill_missing__strategy=mean;, score=0.955 total time=   0.0s\n",
      "[CV 9/10; 21/24] START model__base_estimator__max_depth=10, model__n_estimators=50, preprocessor__numeric_preprocessing__fill_missing__strategy=mean\n",
      "[CV 9/10; 21/24] END model__base_estimator__max_depth=10, model__n_estimators=50, preprocessor__numeric_preprocessing__fill_missing__strategy=mean;, score=1.000 total time=   0.0s\n",
      "[CV 10/10; 21/24] START model__base_estimator__max_depth=10, model__n_estimators=50, preprocessor__numeric_preprocessing__fill_missing__strategy=mean\n",
      "[CV 10/10; 21/24] END model__base_estimator__max_depth=10, model__n_estimators=50, preprocessor__numeric_preprocessing__fill_missing__strategy=mean;, score=0.948 total time=   0.0s\n",
      "[CV 1/10; 22/24] START model__base_estimator__max_depth=10, model__n_estimators=50, preprocessor__numeric_preprocessing__fill_missing__strategy=median\n"
     ]
    },
    {
     "name": "stderr",
     "output_type": "stream",
     "text": [
      "c:\\Users\\krzys\\anaconda3\\Lib\\site-packages\\sklearn\\ensemble\\_base.py:166: FutureWarning: `base_estimator` was renamed to `estimator` in version 1.2 and will be removed in 1.4.\n",
      "  warnings.warn(\n",
      "c:\\Users\\krzys\\anaconda3\\Lib\\site-packages\\sklearn\\ensemble\\_base.py:166: FutureWarning: `base_estimator` was renamed to `estimator` in version 1.2 and will be removed in 1.4.\n",
      "  warnings.warn(\n",
      "c:\\Users\\krzys\\anaconda3\\Lib\\site-packages\\sklearn\\ensemble\\_base.py:166: FutureWarning: `base_estimator` was renamed to `estimator` in version 1.2 and will be removed in 1.4.\n",
      "  warnings.warn(\n"
     ]
    },
    {
     "name": "stdout",
     "output_type": "stream",
     "text": [
      "[CV 1/10; 22/24] END model__base_estimator__max_depth=10, model__n_estimators=50, preprocessor__numeric_preprocessing__fill_missing__strategy=median;, score=0.875 total time=   0.0s\n",
      "[CV 2/10; 22/24] START model__base_estimator__max_depth=10, model__n_estimators=50, preprocessor__numeric_preprocessing__fill_missing__strategy=median\n",
      "[CV 2/10; 22/24] END model__base_estimator__max_depth=10, model__n_estimators=50, preprocessor__numeric_preprocessing__fill_missing__strategy=median;, score=1.000 total time=   0.0s\n",
      "[CV 3/10; 22/24] START model__base_estimator__max_depth=10, model__n_estimators=50, preprocessor__numeric_preprocessing__fill_missing__strategy=median\n",
      "[CV 3/10; 22/24] END model__base_estimator__max_depth=10, model__n_estimators=50, preprocessor__numeric_preprocessing__fill_missing__strategy=median;, score=1.000 total time=   0.0s\n",
      "[CV 4/10; 22/24] START model__base_estimator__max_depth=10, model__n_estimators=50, preprocessor__numeric_preprocessing__fill_missing__strategy=median\n",
      "[CV 4/10; 22/24] END model__base_estimator__max_depth=10, model__n_estimators=50, preprocessor__numeric_preprocessing__fill_missing__strategy=median;, score=0.918 total time=   0.0s\n",
      "[CV 5/10; 22/24] START model__base_estimator__max_depth=10, model__n_estimators=50, preprocessor__numeric_preprocessing__fill_missing__strategy=median\n",
      "[CV 5/10; 22/24] END model__base_estimator__max_depth=10, model__n_estimators=50, preprocessor__numeric_preprocessing__fill_missing__strategy=median;, score=0.968 total time=   0.0s\n",
      "[CV 6/10; 22/24] START model__base_estimator__max_depth=10, model__n_estimators=50, preprocessor__numeric_preprocessing__fill_missing__strategy=median\n"
     ]
    },
    {
     "name": "stderr",
     "output_type": "stream",
     "text": [
      "c:\\Users\\krzys\\anaconda3\\Lib\\site-packages\\sklearn\\ensemble\\_base.py:166: FutureWarning: `base_estimator` was renamed to `estimator` in version 1.2 and will be removed in 1.4.\n",
      "  warnings.warn(\n",
      "c:\\Users\\krzys\\anaconda3\\Lib\\site-packages\\sklearn\\ensemble\\_base.py:166: FutureWarning: `base_estimator` was renamed to `estimator` in version 1.2 and will be removed in 1.4.\n",
      "  warnings.warn(\n",
      "c:\\Users\\krzys\\anaconda3\\Lib\\site-packages\\sklearn\\ensemble\\_base.py:166: FutureWarning: `base_estimator` was renamed to `estimator` in version 1.2 and will be removed in 1.4.\n",
      "  warnings.warn(\n",
      "c:\\Users\\krzys\\anaconda3\\Lib\\site-packages\\sklearn\\ensemble\\_base.py:166: FutureWarning: `base_estimator` was renamed to `estimator` in version 1.2 and will be removed in 1.4.\n",
      "  warnings.warn(\n",
      "c:\\Users\\krzys\\anaconda3\\Lib\\site-packages\\sklearn\\ensemble\\_base.py:166: FutureWarning: `base_estimator` was renamed to `estimator` in version 1.2 and will be removed in 1.4.\n",
      "  warnings.warn(\n"
     ]
    },
    {
     "name": "stdout",
     "output_type": "stream",
     "text": [
      "[CV 6/10; 22/24] END model__base_estimator__max_depth=10, model__n_estimators=50, preprocessor__numeric_preprocessing__fill_missing__strategy=median;, score=0.955 total time=   0.0s\n",
      "[CV 7/10; 22/24] START model__base_estimator__max_depth=10, model__n_estimators=50, preprocessor__numeric_preprocessing__fill_missing__strategy=median\n",
      "[CV 7/10; 22/24] END model__base_estimator__max_depth=10, model__n_estimators=50, preprocessor__numeric_preprocessing__fill_missing__strategy=median;, score=0.914 total time=   0.0s\n",
      "[CV 8/10; 22/24] START model__base_estimator__max_depth=10, model__n_estimators=50, preprocessor__numeric_preprocessing__fill_missing__strategy=median\n",
      "[CV 8/10; 22/24] END model__base_estimator__max_depth=10, model__n_estimators=50, preprocessor__numeric_preprocessing__fill_missing__strategy=median;, score=1.000 total time=   0.0s\n",
      "[CV 9/10; 22/24] START model__base_estimator__max_depth=10, model__n_estimators=50, preprocessor__numeric_preprocessing__fill_missing__strategy=median\n"
     ]
    },
    {
     "name": "stderr",
     "output_type": "stream",
     "text": [
      "c:\\Users\\krzys\\anaconda3\\Lib\\site-packages\\sklearn\\ensemble\\_base.py:166: FutureWarning: `base_estimator` was renamed to `estimator` in version 1.2 and will be removed in 1.4.\n",
      "  warnings.warn(\n",
      "c:\\Users\\krzys\\anaconda3\\Lib\\site-packages\\sklearn\\ensemble\\_base.py:166: FutureWarning: `base_estimator` was renamed to `estimator` in version 1.2 and will be removed in 1.4.\n",
      "  warnings.warn(\n",
      "c:\\Users\\krzys\\anaconda3\\Lib\\site-packages\\sklearn\\ensemble\\_base.py:166: FutureWarning: `base_estimator` was renamed to `estimator` in version 1.2 and will be removed in 1.4.\n",
      "  warnings.warn(\n"
     ]
    },
    {
     "name": "stdout",
     "output_type": "stream",
     "text": [
      "[CV 9/10; 22/24] END model__base_estimator__max_depth=10, model__n_estimators=50, preprocessor__numeric_preprocessing__fill_missing__strategy=median;, score=1.000 total time=   0.0s\n",
      "[CV 10/10; 22/24] START model__base_estimator__max_depth=10, model__n_estimators=50, preprocessor__numeric_preprocessing__fill_missing__strategy=median\n",
      "[CV 10/10; 22/24] END model__base_estimator__max_depth=10, model__n_estimators=50, preprocessor__numeric_preprocessing__fill_missing__strategy=median;, score=1.000 total time=   0.0s\n",
      "[CV 1/10; 23/24] START model__base_estimator__max_depth=10, model__n_estimators=75, preprocessor__numeric_preprocessing__fill_missing__strategy=mean\n"
     ]
    },
    {
     "name": "stderr",
     "output_type": "stream",
     "text": [
      "c:\\Users\\krzys\\anaconda3\\Lib\\site-packages\\sklearn\\ensemble\\_base.py:166: FutureWarning: `base_estimator` was renamed to `estimator` in version 1.2 and will be removed in 1.4.\n",
      "  warnings.warn(\n",
      "c:\\Users\\krzys\\anaconda3\\Lib\\site-packages\\sklearn\\ensemble\\_base.py:166: FutureWarning: `base_estimator` was renamed to `estimator` in version 1.2 and will be removed in 1.4.\n",
      "  warnings.warn(\n"
     ]
    },
    {
     "name": "stdout",
     "output_type": "stream",
     "text": [
      "[CV 1/10; 23/24] END model__base_estimator__max_depth=10, model__n_estimators=75, preprocessor__numeric_preprocessing__fill_missing__strategy=mean;, score=0.922 total time=   0.0s\n",
      "[CV 2/10; 23/24] START model__base_estimator__max_depth=10, model__n_estimators=75, preprocessor__numeric_preprocessing__fill_missing__strategy=mean\n",
      "[CV 2/10; 23/24] END model__base_estimator__max_depth=10, model__n_estimators=75, preprocessor__numeric_preprocessing__fill_missing__strategy=mean;, score=1.000 total time=   0.0s\n",
      "[CV 3/10; 23/24] START model__base_estimator__max_depth=10, model__n_estimators=75, preprocessor__numeric_preprocessing__fill_missing__strategy=mean\n"
     ]
    },
    {
     "name": "stderr",
     "output_type": "stream",
     "text": [
      "c:\\Users\\krzys\\anaconda3\\Lib\\site-packages\\sklearn\\ensemble\\_base.py:166: FutureWarning: `base_estimator` was renamed to `estimator` in version 1.2 and will be removed in 1.4.\n",
      "  warnings.warn(\n",
      "c:\\Users\\krzys\\anaconda3\\Lib\\site-packages\\sklearn\\ensemble\\_base.py:166: FutureWarning: `base_estimator` was renamed to `estimator` in version 1.2 and will be removed in 1.4.\n",
      "  warnings.warn(\n"
     ]
    },
    {
     "name": "stdout",
     "output_type": "stream",
     "text": [
      "[CV 3/10; 23/24] END model__base_estimator__max_depth=10, model__n_estimators=75, preprocessor__numeric_preprocessing__fill_missing__strategy=mean;, score=0.948 total time=   0.0s\n",
      "[CV 4/10; 23/24] START model__base_estimator__max_depth=10, model__n_estimators=75, preprocessor__numeric_preprocessing__fill_missing__strategy=mean\n",
      "[CV 4/10; 23/24] END model__base_estimator__max_depth=10, model__n_estimators=75, preprocessor__numeric_preprocessing__fill_missing__strategy=mean;, score=0.918 total time=   0.0s\n",
      "[CV 5/10; 23/24] START model__base_estimator__max_depth=10, model__n_estimators=75, preprocessor__numeric_preprocessing__fill_missing__strategy=mean\n",
      "[CV 5/10; 23/24] END model__base_estimator__max_depth=10, model__n_estimators=75, preprocessor__numeric_preprocessing__fill_missing__strategy=mean;, score=0.968 total time=   0.0s\n",
      "[CV 6/10; 23/24] START model__base_estimator__max_depth=10, model__n_estimators=75, preprocessor__numeric_preprocessing__fill_missing__strategy=mean\n",
      "[CV 6/10; 23/24] END model__base_estimator__max_depth=10, model__n_estimators=75, preprocessor__numeric_preprocessing__fill_missing__strategy=mean;, score=1.000 total time=   0.0s\n",
      "[CV 7/10; 23/24] START model__base_estimator__max_depth=10, model__n_estimators=75, preprocessor__numeric_preprocessing__fill_missing__strategy=mean\n"
     ]
    },
    {
     "name": "stderr",
     "output_type": "stream",
     "text": [
      "c:\\Users\\krzys\\anaconda3\\Lib\\site-packages\\sklearn\\ensemble\\_base.py:166: FutureWarning: `base_estimator` was renamed to `estimator` in version 1.2 and will be removed in 1.4.\n",
      "  warnings.warn(\n",
      "c:\\Users\\krzys\\anaconda3\\Lib\\site-packages\\sklearn\\ensemble\\_base.py:166: FutureWarning: `base_estimator` was renamed to `estimator` in version 1.2 and will be removed in 1.4.\n",
      "  warnings.warn(\n",
      "c:\\Users\\krzys\\anaconda3\\Lib\\site-packages\\sklearn\\ensemble\\_base.py:166: FutureWarning: `base_estimator` was renamed to `estimator` in version 1.2 and will be removed in 1.4.\n",
      "  warnings.warn(\n",
      "c:\\Users\\krzys\\anaconda3\\Lib\\site-packages\\sklearn\\ensemble\\_base.py:166: FutureWarning: `base_estimator` was renamed to `estimator` in version 1.2 and will be removed in 1.4.\n",
      "  warnings.warn(\n"
     ]
    },
    {
     "name": "stdout",
     "output_type": "stream",
     "text": [
      "[CV 7/10; 23/24] END model__base_estimator__max_depth=10, model__n_estimators=75, preprocessor__numeric_preprocessing__fill_missing__strategy=mean;, score=1.000 total time=   0.0s\n",
      "[CV 8/10; 23/24] START model__base_estimator__max_depth=10, model__n_estimators=75, preprocessor__numeric_preprocessing__fill_missing__strategy=mean\n",
      "[CV 8/10; 23/24] END model__base_estimator__max_depth=10, model__n_estimators=75, preprocessor__numeric_preprocessing__fill_missing__strategy=mean;, score=1.000 total time=   0.0s\n",
      "[CV 9/10; 23/24] START model__base_estimator__max_depth=10, model__n_estimators=75, preprocessor__numeric_preprocessing__fill_missing__strategy=mean\n"
     ]
    },
    {
     "name": "stderr",
     "output_type": "stream",
     "text": [
      "c:\\Users\\krzys\\anaconda3\\Lib\\site-packages\\sklearn\\ensemble\\_base.py:166: FutureWarning: `base_estimator` was renamed to `estimator` in version 1.2 and will be removed in 1.4.\n",
      "  warnings.warn(\n",
      "c:\\Users\\krzys\\anaconda3\\Lib\\site-packages\\sklearn\\ensemble\\_base.py:166: FutureWarning: `base_estimator` was renamed to `estimator` in version 1.2 and will be removed in 1.4.\n",
      "  warnings.warn(\n"
     ]
    },
    {
     "name": "stdout",
     "output_type": "stream",
     "text": [
      "[CV 9/10; 23/24] END model__base_estimator__max_depth=10, model__n_estimators=75, preprocessor__numeric_preprocessing__fill_missing__strategy=mean;, score=1.000 total time=   0.0s\n",
      "[CV 10/10; 23/24] START model__base_estimator__max_depth=10, model__n_estimators=75, preprocessor__numeric_preprocessing__fill_missing__strategy=mean\n",
      "[CV 10/10; 23/24] END model__base_estimator__max_depth=10, model__n_estimators=75, preprocessor__numeric_preprocessing__fill_missing__strategy=mean;, score=0.948 total time=   0.0s\n",
      "[CV 1/10; 24/24] START model__base_estimator__max_depth=10, model__n_estimators=75, preprocessor__numeric_preprocessing__fill_missing__strategy=median\n"
     ]
    },
    {
     "name": "stderr",
     "output_type": "stream",
     "text": [
      "c:\\Users\\krzys\\anaconda3\\Lib\\site-packages\\sklearn\\ensemble\\_base.py:166: FutureWarning: `base_estimator` was renamed to `estimator` in version 1.2 and will be removed in 1.4.\n",
      "  warnings.warn(\n",
      "c:\\Users\\krzys\\anaconda3\\Lib\\site-packages\\sklearn\\ensemble\\_base.py:166: FutureWarning: `base_estimator` was renamed to `estimator` in version 1.2 and will be removed in 1.4.\n",
      "  warnings.warn(\n"
     ]
    },
    {
     "name": "stdout",
     "output_type": "stream",
     "text": [
      "[CV 1/10; 24/24] END model__base_estimator__max_depth=10, model__n_estimators=75, preprocessor__numeric_preprocessing__fill_missing__strategy=median;, score=0.875 total time=   0.0s\n",
      "[CV 2/10; 24/24] START model__base_estimator__max_depth=10, model__n_estimators=75, preprocessor__numeric_preprocessing__fill_missing__strategy=median\n",
      "[CV 2/10; 24/24] END model__base_estimator__max_depth=10, model__n_estimators=75, preprocessor__numeric_preprocessing__fill_missing__strategy=median;, score=1.000 total time=   0.0s\n",
      "[CV 3/10; 24/24] START model__base_estimator__max_depth=10, model__n_estimators=75, preprocessor__numeric_preprocessing__fill_missing__strategy=median\n"
     ]
    },
    {
     "name": "stderr",
     "output_type": "stream",
     "text": [
      "c:\\Users\\krzys\\anaconda3\\Lib\\site-packages\\sklearn\\ensemble\\_base.py:166: FutureWarning: `base_estimator` was renamed to `estimator` in version 1.2 and will be removed in 1.4.\n",
      "  warnings.warn(\n",
      "c:\\Users\\krzys\\anaconda3\\Lib\\site-packages\\sklearn\\ensemble\\_base.py:166: FutureWarning: `base_estimator` was renamed to `estimator` in version 1.2 and will be removed in 1.4.\n",
      "  warnings.warn(\n"
     ]
    },
    {
     "name": "stdout",
     "output_type": "stream",
     "text": [
      "[CV 3/10; 24/24] END model__base_estimator__max_depth=10, model__n_estimators=75, preprocessor__numeric_preprocessing__fill_missing__strategy=median;, score=1.000 total time=   0.1s\n",
      "[CV 4/10; 24/24] START model__base_estimator__max_depth=10, model__n_estimators=75, preprocessor__numeric_preprocessing__fill_missing__strategy=median\n",
      "[CV 4/10; 24/24] END model__base_estimator__max_depth=10, model__n_estimators=75, preprocessor__numeric_preprocessing__fill_missing__strategy=median;, score=0.918 total time=   0.0s\n",
      "[CV 5/10; 24/24] START model__base_estimator__max_depth=10, model__n_estimators=75, preprocessor__numeric_preprocessing__fill_missing__strategy=median\n",
      "[CV 5/10; 24/24] END model__base_estimator__max_depth=10, model__n_estimators=75, preprocessor__numeric_preprocessing__fill_missing__strategy=median;, score=0.968 total time=   0.0s\n",
      "[CV 6/10; 24/24] START model__base_estimator__max_depth=10, model__n_estimators=75, preprocessor__numeric_preprocessing__fill_missing__strategy=median\n",
      "[CV 6/10; 24/24] END model__base_estimator__max_depth=10, model__n_estimators=75, preprocessor__numeric_preprocessing__fill_missing__strategy=median;, score=1.000 total time=   0.0s\n",
      "[CV 7/10; 24/24] START model__base_estimator__max_depth=10, model__n_estimators=75, preprocessor__numeric_preprocessing__fill_missing__strategy=median\n"
     ]
    },
    {
     "name": "stderr",
     "output_type": "stream",
     "text": [
      "c:\\Users\\krzys\\anaconda3\\Lib\\site-packages\\sklearn\\ensemble\\_base.py:166: FutureWarning: `base_estimator` was renamed to `estimator` in version 1.2 and will be removed in 1.4.\n",
      "  warnings.warn(\n",
      "c:\\Users\\krzys\\anaconda3\\Lib\\site-packages\\sklearn\\ensemble\\_base.py:166: FutureWarning: `base_estimator` was renamed to `estimator` in version 1.2 and will be removed in 1.4.\n",
      "  warnings.warn(\n",
      "c:\\Users\\krzys\\anaconda3\\Lib\\site-packages\\sklearn\\ensemble\\_base.py:166: FutureWarning: `base_estimator` was renamed to `estimator` in version 1.2 and will be removed in 1.4.\n",
      "  warnings.warn(\n",
      "c:\\Users\\krzys\\anaconda3\\Lib\\site-packages\\sklearn\\ensemble\\_base.py:166: FutureWarning: `base_estimator` was renamed to `estimator` in version 1.2 and will be removed in 1.4.\n",
      "  warnings.warn(\n"
     ]
    },
    {
     "name": "stdout",
     "output_type": "stream",
     "text": [
      "[CV 7/10; 24/24] END model__base_estimator__max_depth=10, model__n_estimators=75, preprocessor__numeric_preprocessing__fill_missing__strategy=median;, score=0.914 total time=   0.1s\n",
      "[CV 8/10; 24/24] START model__base_estimator__max_depth=10, model__n_estimators=75, preprocessor__numeric_preprocessing__fill_missing__strategy=median\n",
      "[CV 8/10; 24/24] END model__base_estimator__max_depth=10, model__n_estimators=75, preprocessor__numeric_preprocessing__fill_missing__strategy=median;, score=1.000 total time=   0.0s\n",
      "[CV 9/10; 24/24] START model__base_estimator__max_depth=10, model__n_estimators=75, preprocessor__numeric_preprocessing__fill_missing__strategy=median\n"
     ]
    },
    {
     "name": "stderr",
     "output_type": "stream",
     "text": [
      "c:\\Users\\krzys\\anaconda3\\Lib\\site-packages\\sklearn\\ensemble\\_base.py:166: FutureWarning: `base_estimator` was renamed to `estimator` in version 1.2 and will be removed in 1.4.\n",
      "  warnings.warn(\n",
      "c:\\Users\\krzys\\anaconda3\\Lib\\site-packages\\sklearn\\ensemble\\_base.py:166: FutureWarning: `base_estimator` was renamed to `estimator` in version 1.2 and will be removed in 1.4.\n",
      "  warnings.warn(\n"
     ]
    },
    {
     "name": "stdout",
     "output_type": "stream",
     "text": [
      "[CV 9/10; 24/24] END model__base_estimator__max_depth=10, model__n_estimators=75, preprocessor__numeric_preprocessing__fill_missing__strategy=median;, score=1.000 total time=   0.0s\n",
      "[CV 10/10; 24/24] START model__base_estimator__max_depth=10, model__n_estimators=75, preprocessor__numeric_preprocessing__fill_missing__strategy=median\n",
      "[CV 10/10; 24/24] END model__base_estimator__max_depth=10, model__n_estimators=75, preprocessor__numeric_preprocessing__fill_missing__strategy=median;, score=1.000 total time=   0.0s\n",
      "wybrane parametry {'model__base_estimator__max_depth': 10, 'model__n_estimators': 25, 'preprocessor__numeric_preprocessing__fill_missing__strategy': 'mean'}\n"
     ]
    },
    {
     "name": "stderr",
     "output_type": "stream",
     "text": [
      "c:\\Users\\krzys\\anaconda3\\Lib\\site-packages\\sklearn\\ensemble\\_base.py:166: FutureWarning: `base_estimator` was renamed to `estimator` in version 1.2 and will be removed in 1.4.\n",
      "  warnings.warn(\n",
      "c:\\Users\\krzys\\anaconda3\\Lib\\site-packages\\sklearn\\model_selection\\_validation.py:378: FitFailedWarning: \n",
      "120 fits failed out of a total of 240.\n",
      "The score on these train-test partitions for these parameters will be set to nan.\n",
      "If these failures are not expected, you can try to debug them by setting error_score='raise'.\n",
      "\n",
      "Below are more details about the failures:\n",
      "--------------------------------------------------------------------------------\n",
      "60 fits failed with the following error:\n",
      "Traceback (most recent call last):\n",
      "  File \"c:\\Users\\krzys\\anaconda3\\Lib\\site-packages\\sklearn\\model_selection\\_validation.py\", line 686, in _fit_and_score\n",
      "    estimator.fit(X_train, y_train, **fit_params)\n",
      "  File \"c:\\Users\\krzys\\anaconda3\\Lib\\site-packages\\sklearn\\pipeline.py\", line 405, in fit\n",
      "    self._final_estimator.fit(Xt, y, **fit_params_last_step)\n",
      "  File \"c:\\Users\\krzys\\anaconda3\\Lib\\site-packages\\sklearn\\ensemble\\_weight_boosting.py\", line 162, in fit\n",
      "    sample_weight, estimator_weight, estimator_error = self._boost(\n",
      "                                                       ^^^^^^^^^^^^\n",
      "  File \"c:\\Users\\krzys\\anaconda3\\Lib\\site-packages\\sklearn\\ensemble\\_weight_boosting.py\", line 569, in _boost\n",
      "    return self._boost_real(iboost, X, y, sample_weight, random_state)\n",
      "           ^^^^^^^^^^^^^^^^^^^^^^^^^^^^^^^^^^^^^^^^^^^^^^^^^^^^^^^^^^^\n",
      "  File \"c:\\Users\\krzys\\anaconda3\\Lib\\site-packages\\sklearn\\ensemble\\_weight_boosting.py\", line 578, in _boost_real\n",
      "    estimator.fit(X, y, sample_weight=sample_weight)\n",
      "  File \"c:\\Users\\krzys\\anaconda3\\Lib\\site-packages\\sklearn\\tree\\_classes.py\", line 889, in fit\n",
      "    super().fit(\n",
      "  File \"c:\\Users\\krzys\\anaconda3\\Lib\\site-packages\\sklearn\\tree\\_classes.py\", line 177, in fit\n",
      "    self._validate_params()\n",
      "  File \"c:\\Users\\krzys\\anaconda3\\Lib\\site-packages\\sklearn\\base.py\", line 600, in _validate_params\n",
      "    validate_parameter_constraints(\n",
      "  File \"c:\\Users\\krzys\\anaconda3\\Lib\\site-packages\\sklearn\\utils\\_param_validation.py\", line 97, in validate_parameter_constraints\n",
      "    raise InvalidParameterError(\n",
      "sklearn.utils._param_validation.InvalidParameterError: The 'max_depth' parameter of DecisionTreeClassifier must be an int in the range [1, inf) or None. Got 0.01 instead.\n",
      "\n",
      "--------------------------------------------------------------------------------\n",
      "60 fits failed with the following error:\n",
      "Traceback (most recent call last):\n",
      "  File \"c:\\Users\\krzys\\anaconda3\\Lib\\site-packages\\sklearn\\model_selection\\_validation.py\", line 686, in _fit_and_score\n",
      "    estimator.fit(X_train, y_train, **fit_params)\n",
      "  File \"c:\\Users\\krzys\\anaconda3\\Lib\\site-packages\\sklearn\\pipeline.py\", line 405, in fit\n",
      "    self._final_estimator.fit(Xt, y, **fit_params_last_step)\n",
      "  File \"c:\\Users\\krzys\\anaconda3\\Lib\\site-packages\\sklearn\\ensemble\\_weight_boosting.py\", line 162, in fit\n",
      "    sample_weight, estimator_weight, estimator_error = self._boost(\n",
      "                                                       ^^^^^^^^^^^^\n",
      "  File \"c:\\Users\\krzys\\anaconda3\\Lib\\site-packages\\sklearn\\ensemble\\_weight_boosting.py\", line 569, in _boost\n",
      "    return self._boost_real(iboost, X, y, sample_weight, random_state)\n",
      "           ^^^^^^^^^^^^^^^^^^^^^^^^^^^^^^^^^^^^^^^^^^^^^^^^^^^^^^^^^^^\n",
      "  File \"c:\\Users\\krzys\\anaconda3\\Lib\\site-packages\\sklearn\\ensemble\\_weight_boosting.py\", line 578, in _boost_real\n",
      "    estimator.fit(X, y, sample_weight=sample_weight)\n",
      "  File \"c:\\Users\\krzys\\anaconda3\\Lib\\site-packages\\sklearn\\tree\\_classes.py\", line 889, in fit\n",
      "    super().fit(\n",
      "  File \"c:\\Users\\krzys\\anaconda3\\Lib\\site-packages\\sklearn\\tree\\_classes.py\", line 177, in fit\n",
      "    self._validate_params()\n",
      "  File \"c:\\Users\\krzys\\anaconda3\\Lib\\site-packages\\sklearn\\base.py\", line 600, in _validate_params\n",
      "    validate_parameter_constraints(\n",
      "  File \"c:\\Users\\krzys\\anaconda3\\Lib\\site-packages\\sklearn\\utils\\_param_validation.py\", line 97, in validate_parameter_constraints\n",
      "    raise InvalidParameterError(\n",
      "sklearn.utils._param_validation.InvalidParameterError: The 'max_depth' parameter of DecisionTreeClassifier must be an int in the range [1, inf) or None. Got 0.1 instead.\n",
      "\n",
      "  warnings.warn(some_fits_failed_message, FitFailedWarning)\n",
      "c:\\Users\\krzys\\anaconda3\\Lib\\site-packages\\sklearn\\model_selection\\_search.py:952: UserWarning: One or more of the test scores are non-finite: [       nan        nan        nan        nan        nan        nan\n",
      "        nan        nan        nan        nan        nan        nan\n",
      " 0.77814688 0.7886942  0.75194722 0.79497625 0.75687318 0.79197202\n",
      " 0.97048565 0.96747461 0.96152649 0.96299503 0.97048565 0.96747461]\n",
      "  warnings.warn(\n",
      "c:\\Users\\krzys\\anaconda3\\Lib\\site-packages\\sklearn\\ensemble\\_base.py:166: FutureWarning: `base_estimator` was renamed to `estimator` in version 1.2 and will be removed in 1.4.\n",
      "  warnings.warn(\n"
     ]
    }
   ],
   "source": [
    "params = {\n",
    "    'preprocessor__numeric_preprocessing__fill_missing__strategy': ['mean', 'median'],\n",
    "    'model__n_estimators': [25, 50, 75],\n",
    "    'model__base_estimator__max_depth': [0.01, 0.1, 1, 10]\n",
    "}\n",
    "\n",
    "grid_search = GridSearchCV(model_pipeline, params, cv=10, n_jobs=1, verbose=10, scoring='f1_macro')\n",
    "grid_search.fit(X_train, y_train)\n",
    "print('wybrane parametry', grid_search.best_params_)\n",
    "model = grid_search.best_estimator_"
   ]
  },
  {
   "cell_type": "code",
   "execution_count": 40,
   "metadata": {},
   "outputs": [
    {
     "name": "stdout",
     "output_type": "stream",
     "text": [
      "<class 'pandas.core.frame.DataFrame'>\n",
      "Index: 258 entries, 326 to 140\n",
      "Data columns (total 4 columns):\n",
      " #   Column         Non-Null Count  Dtype  \n",
      "---  ------         --------------  -----  \n",
      " 0   CulmenLength   256 non-null    float64\n",
      " 1   CulmenDepth    256 non-null    float64\n",
      " 2   FlipperLength  256 non-null    float64\n",
      " 3   BodyMass       256 non-null    float64\n",
      "dtypes: float64(4)\n",
      "memory usage: 10.1 KB\n",
      "<class 'pandas.core.series.Series'>\n",
      "Index: 258 entries, 326 to 140\n",
      "Series name: Species\n",
      "Non-Null Count  Dtype\n",
      "--------------  -----\n",
      "258 non-null    int64\n",
      "dtypes: int64(1)\n",
      "memory usage: 4.0 KB\n"
     ]
    }
   ],
   "source": [
    "X_train.info()\n",
    "y_train.info()"
   ]
  },
  {
   "cell_type": "code",
   "execution_count": 41,
   "metadata": {},
   "outputs": [
    {
     "data": {
      "text/html": [
       "<style>#sk-container-id-1 {color: black;background-color: white;}#sk-container-id-1 pre{padding: 0;}#sk-container-id-1 div.sk-toggleable {background-color: white;}#sk-container-id-1 label.sk-toggleable__label {cursor: pointer;display: block;width: 100%;margin-bottom: 0;padding: 0.3em;box-sizing: border-box;text-align: center;}#sk-container-id-1 label.sk-toggleable__label-arrow:before {content: \"▸\";float: left;margin-right: 0.25em;color: #696969;}#sk-container-id-1 label.sk-toggleable__label-arrow:hover:before {color: black;}#sk-container-id-1 div.sk-estimator:hover label.sk-toggleable__label-arrow:before {color: black;}#sk-container-id-1 div.sk-toggleable__content {max-height: 0;max-width: 0;overflow: hidden;text-align: left;background-color: #f0f8ff;}#sk-container-id-1 div.sk-toggleable__content pre {margin: 0.2em;color: black;border-radius: 0.25em;background-color: #f0f8ff;}#sk-container-id-1 input.sk-toggleable__control:checked~div.sk-toggleable__content {max-height: 200px;max-width: 100%;overflow: auto;}#sk-container-id-1 input.sk-toggleable__control:checked~label.sk-toggleable__label-arrow:before {content: \"▾\";}#sk-container-id-1 div.sk-estimator input.sk-toggleable__control:checked~label.sk-toggleable__label {background-color: #d4ebff;}#sk-container-id-1 div.sk-label input.sk-toggleable__control:checked~label.sk-toggleable__label {background-color: #d4ebff;}#sk-container-id-1 input.sk-hidden--visually {border: 0;clip: rect(1px 1px 1px 1px);clip: rect(1px, 1px, 1px, 1px);height: 1px;margin: -1px;overflow: hidden;padding: 0;position: absolute;width: 1px;}#sk-container-id-1 div.sk-estimator {font-family: monospace;background-color: #f0f8ff;border: 1px dotted black;border-radius: 0.25em;box-sizing: border-box;margin-bottom: 0.5em;}#sk-container-id-1 div.sk-estimator:hover {background-color: #d4ebff;}#sk-container-id-1 div.sk-parallel-item::after {content: \"\";width: 100%;border-bottom: 1px solid gray;flex-grow: 1;}#sk-container-id-1 div.sk-label:hover label.sk-toggleable__label {background-color: #d4ebff;}#sk-container-id-1 div.sk-serial::before {content: \"\";position: absolute;border-left: 1px solid gray;box-sizing: border-box;top: 0;bottom: 0;left: 50%;z-index: 0;}#sk-container-id-1 div.sk-serial {display: flex;flex-direction: column;align-items: center;background-color: white;padding-right: 0.2em;padding-left: 0.2em;position: relative;}#sk-container-id-1 div.sk-item {position: relative;z-index: 1;}#sk-container-id-1 div.sk-parallel {display: flex;align-items: stretch;justify-content: center;background-color: white;position: relative;}#sk-container-id-1 div.sk-item::before, #sk-container-id-1 div.sk-parallel-item::before {content: \"\";position: absolute;border-left: 1px solid gray;box-sizing: border-box;top: 0;bottom: 0;left: 50%;z-index: -1;}#sk-container-id-1 div.sk-parallel-item {display: flex;flex-direction: column;z-index: 1;position: relative;background-color: white;}#sk-container-id-1 div.sk-parallel-item:first-child::after {align-self: flex-end;width: 50%;}#sk-container-id-1 div.sk-parallel-item:last-child::after {align-self: flex-start;width: 50%;}#sk-container-id-1 div.sk-parallel-item:only-child::after {width: 0;}#sk-container-id-1 div.sk-dashed-wrapped {border: 1px dashed gray;margin: 0 0.4em 0.5em 0.4em;box-sizing: border-box;padding-bottom: 0.4em;background-color: white;}#sk-container-id-1 div.sk-label label {font-family: monospace;font-weight: bold;display: inline-block;line-height: 1.2em;}#sk-container-id-1 div.sk-label-container {text-align: center;}#sk-container-id-1 div.sk-container {/* jupyter's `normalize.less` sets `[hidden] { display: none; }` but bootstrap.min.css set `[hidden] { display: none !important; }` so we also need the `!important` here to be able to override the default hidden behavior on the sphinx rendered scikit-learn.org. See: https://github.com/scikit-learn/scikit-learn/issues/21755 */display: inline-block !important;position: relative;}#sk-container-id-1 div.sk-text-repr-fallback {display: none;}</style><div id=\"sk-container-id-1\" class=\"sk-top-container\"><div class=\"sk-text-repr-fallback\"><pre>Pipeline(steps=[(&#x27;preprocessor&#x27;,\n",
       "                 ColumnTransformer(transformers=[(&#x27;numeric_preprocessing&#x27;,\n",
       "                                                  Pipeline(steps=[(&#x27;fill_missing&#x27;,\n",
       "                                                                   SimpleImputer())]),\n",
       "                                                  [&#x27;CulmenLength&#x27;,\n",
       "                                                   &#x27;CulmenDepth&#x27;,\n",
       "                                                   &#x27;FlipperLength&#x27;,\n",
       "                                                   &#x27;BodyMass&#x27;])])),\n",
       "                (&#x27;model&#x27;,\n",
       "                 AdaBoostClassifier(base_estimator=DecisionTreeClassifier(max_depth=10),\n",
       "                                    n_estimators=25))])</pre><b>In a Jupyter environment, please rerun this cell to show the HTML representation or trust the notebook. <br />On GitHub, the HTML representation is unable to render, please try loading this page with nbviewer.org.</b></div><div class=\"sk-container\" hidden><div class=\"sk-item sk-dashed-wrapped\"><div class=\"sk-label-container\"><div class=\"sk-label sk-toggleable\"><input class=\"sk-toggleable__control sk-hidden--visually\" id=\"sk-estimator-id-1\" type=\"checkbox\" ><label for=\"sk-estimator-id-1\" class=\"sk-toggleable__label sk-toggleable__label-arrow\">Pipeline</label><div class=\"sk-toggleable__content\"><pre>Pipeline(steps=[(&#x27;preprocessor&#x27;,\n",
       "                 ColumnTransformer(transformers=[(&#x27;numeric_preprocessing&#x27;,\n",
       "                                                  Pipeline(steps=[(&#x27;fill_missing&#x27;,\n",
       "                                                                   SimpleImputer())]),\n",
       "                                                  [&#x27;CulmenLength&#x27;,\n",
       "                                                   &#x27;CulmenDepth&#x27;,\n",
       "                                                   &#x27;FlipperLength&#x27;,\n",
       "                                                   &#x27;BodyMass&#x27;])])),\n",
       "                (&#x27;model&#x27;,\n",
       "                 AdaBoostClassifier(base_estimator=DecisionTreeClassifier(max_depth=10),\n",
       "                                    n_estimators=25))])</pre></div></div></div><div class=\"sk-serial\"><div class=\"sk-item sk-dashed-wrapped\"><div class=\"sk-label-container\"><div class=\"sk-label sk-toggleable\"><input class=\"sk-toggleable__control sk-hidden--visually\" id=\"sk-estimator-id-2\" type=\"checkbox\" ><label for=\"sk-estimator-id-2\" class=\"sk-toggleable__label sk-toggleable__label-arrow\">preprocessor: ColumnTransformer</label><div class=\"sk-toggleable__content\"><pre>ColumnTransformer(transformers=[(&#x27;numeric_preprocessing&#x27;,\n",
       "                                 Pipeline(steps=[(&#x27;fill_missing&#x27;,\n",
       "                                                  SimpleImputer())]),\n",
       "                                 [&#x27;CulmenLength&#x27;, &#x27;CulmenDepth&#x27;,\n",
       "                                  &#x27;FlipperLength&#x27;, &#x27;BodyMass&#x27;])])</pre></div></div></div><div class=\"sk-parallel\"><div class=\"sk-parallel-item\"><div class=\"sk-item\"><div class=\"sk-label-container\"><div class=\"sk-label sk-toggleable\"><input class=\"sk-toggleable__control sk-hidden--visually\" id=\"sk-estimator-id-3\" type=\"checkbox\" ><label for=\"sk-estimator-id-3\" class=\"sk-toggleable__label sk-toggleable__label-arrow\">numeric_preprocessing</label><div class=\"sk-toggleable__content\"><pre>[&#x27;CulmenLength&#x27;, &#x27;CulmenDepth&#x27;, &#x27;FlipperLength&#x27;, &#x27;BodyMass&#x27;]</pre></div></div></div><div class=\"sk-serial\"><div class=\"sk-item\"><div class=\"sk-serial\"><div class=\"sk-item\"><div class=\"sk-estimator sk-toggleable\"><input class=\"sk-toggleable__control sk-hidden--visually\" id=\"sk-estimator-id-4\" type=\"checkbox\" ><label for=\"sk-estimator-id-4\" class=\"sk-toggleable__label sk-toggleable__label-arrow\">SimpleImputer</label><div class=\"sk-toggleable__content\"><pre>SimpleImputer()</pre></div></div></div></div></div></div></div></div></div></div><div class=\"sk-item sk-dashed-wrapped\"><div class=\"sk-label-container\"><div class=\"sk-label sk-toggleable\"><input class=\"sk-toggleable__control sk-hidden--visually\" id=\"sk-estimator-id-5\" type=\"checkbox\" ><label for=\"sk-estimator-id-5\" class=\"sk-toggleable__label sk-toggleable__label-arrow\">model: AdaBoostClassifier</label><div class=\"sk-toggleable__content\"><pre>AdaBoostClassifier(base_estimator=DecisionTreeClassifier(max_depth=10),\n",
       "                   n_estimators=25)</pre></div></div></div><div class=\"sk-parallel\"><div class=\"sk-parallel-item\"><div class=\"sk-item\"><div class=\"sk-label-container\"><div class=\"sk-label sk-toggleable\"><input class=\"sk-toggleable__control sk-hidden--visually\" id=\"sk-estimator-id-6\" type=\"checkbox\" ><label for=\"sk-estimator-id-6\" class=\"sk-toggleable__label sk-toggleable__label-arrow\">base_estimator: DecisionTreeClassifier</label><div class=\"sk-toggleable__content\"><pre>DecisionTreeClassifier(max_depth=10)</pre></div></div></div><div class=\"sk-serial\"><div class=\"sk-item\"><div class=\"sk-estimator sk-toggleable\"><input class=\"sk-toggleable__control sk-hidden--visually\" id=\"sk-estimator-id-7\" type=\"checkbox\" ><label for=\"sk-estimator-id-7\" class=\"sk-toggleable__label sk-toggleable__label-arrow\">DecisionTreeClassifier</label><div class=\"sk-toggleable__content\"><pre>DecisionTreeClassifier(max_depth=10)</pre></div></div></div></div></div></div></div></div></div></div></div></div>"
      ],
      "text/plain": [
       "Pipeline(steps=[('preprocessor',\n",
       "                 ColumnTransformer(transformers=[('numeric_preprocessing',\n",
       "                                                  Pipeline(steps=[('fill_missing',\n",
       "                                                                   SimpleImputer())]),\n",
       "                                                  ['CulmenLength',\n",
       "                                                   'CulmenDepth',\n",
       "                                                   'FlipperLength',\n",
       "                                                   'BodyMass'])])),\n",
       "                ('model',\n",
       "                 AdaBoostClassifier(base_estimator=DecisionTreeClassifier(max_depth=10),\n",
       "                                    n_estimators=25))])"
      ]
     },
     "execution_count": 41,
     "metadata": {},
     "output_type": "execute_result"
    }
   ],
   "source": [
    "model"
   ]
  },
  {
   "cell_type": "code",
   "execution_count": 42,
   "metadata": {},
   "outputs": [
    {
     "data": {
      "text/plain": [
       "{'memory': None,\n",
       " 'steps': [('preprocessor',\n",
       "   ColumnTransformer(transformers=[('numeric_preprocessing',\n",
       "                                    Pipeline(steps=[('fill_missing',\n",
       "                                                     SimpleImputer())]),\n",
       "                                    ['CulmenLength', 'CulmenDepth',\n",
       "                                     'FlipperLength', 'BodyMass'])])),\n",
       "  ('model',\n",
       "   AdaBoostClassifier(base_estimator=DecisionTreeClassifier(max_depth=10),\n",
       "                      n_estimators=25))],\n",
       " 'verbose': False,\n",
       " 'preprocessor': ColumnTransformer(transformers=[('numeric_preprocessing',\n",
       "                                  Pipeline(steps=[('fill_missing',\n",
       "                                                   SimpleImputer())]),\n",
       "                                  ['CulmenLength', 'CulmenDepth',\n",
       "                                   'FlipperLength', 'BodyMass'])]),\n",
       " 'model': AdaBoostClassifier(base_estimator=DecisionTreeClassifier(max_depth=10),\n",
       "                    n_estimators=25),\n",
       " 'preprocessor__n_jobs': None,\n",
       " 'preprocessor__remainder': 'drop',\n",
       " 'preprocessor__sparse_threshold': 0.3,\n",
       " 'preprocessor__transformer_weights': None,\n",
       " 'preprocessor__transformers': [('numeric_preprocessing',\n",
       "   Pipeline(steps=[('fill_missing', SimpleImputer())]),\n",
       "   ['CulmenLength', 'CulmenDepth', 'FlipperLength', 'BodyMass'])],\n",
       " 'preprocessor__verbose': False,\n",
       " 'preprocessor__verbose_feature_names_out': True,\n",
       " 'preprocessor__numeric_preprocessing': Pipeline(steps=[('fill_missing', SimpleImputer())]),\n",
       " 'preprocessor__numeric_preprocessing__memory': None,\n",
       " 'preprocessor__numeric_preprocessing__steps': [('fill_missing',\n",
       "   SimpleImputer())],\n",
       " 'preprocessor__numeric_preprocessing__verbose': False,\n",
       " 'preprocessor__numeric_preprocessing__fill_missing': SimpleImputer(),\n",
       " 'preprocessor__numeric_preprocessing__fill_missing__add_indicator': False,\n",
       " 'preprocessor__numeric_preprocessing__fill_missing__copy': True,\n",
       " 'preprocessor__numeric_preprocessing__fill_missing__fill_value': None,\n",
       " 'preprocessor__numeric_preprocessing__fill_missing__keep_empty_features': False,\n",
       " 'preprocessor__numeric_preprocessing__fill_missing__missing_values': nan,\n",
       " 'preprocessor__numeric_preprocessing__fill_missing__strategy': 'mean',\n",
       " 'preprocessor__numeric_preprocessing__fill_missing__verbose': 'deprecated',\n",
       " 'model__algorithm': 'SAMME.R',\n",
       " 'model__base_estimator__ccp_alpha': 0.0,\n",
       " 'model__base_estimator__class_weight': None,\n",
       " 'model__base_estimator__criterion': 'gini',\n",
       " 'model__base_estimator__max_depth': 10,\n",
       " 'model__base_estimator__max_features': None,\n",
       " 'model__base_estimator__max_leaf_nodes': None,\n",
       " 'model__base_estimator__min_impurity_decrease': 0.0,\n",
       " 'model__base_estimator__min_samples_leaf': 1,\n",
       " 'model__base_estimator__min_samples_split': 2,\n",
       " 'model__base_estimator__min_weight_fraction_leaf': 0.0,\n",
       " 'model__base_estimator__random_state': None,\n",
       " 'model__base_estimator__splitter': 'best',\n",
       " 'model__base_estimator': DecisionTreeClassifier(max_depth=10),\n",
       " 'model__estimator': None,\n",
       " 'model__learning_rate': 1.0,\n",
       " 'model__n_estimators': 25,\n",
       " 'model__random_state': None}"
      ]
     },
     "execution_count": 42,
     "metadata": {},
     "output_type": "execute_result"
    }
   ],
   "source": [
    "model.get_params()"
   ]
  },
  {
   "cell_type": "code",
   "execution_count": null,
   "metadata": {},
   "outputs": [],
   "source": []
  }
 ],
 "metadata": {
  "kernelspec": {
   "display_name": "base",
   "language": "python",
   "name": "python3"
  },
  "language_info": {
   "codemirror_mode": {
    "name": "ipython",
    "version": 3
   },
   "file_extension": ".py",
   "mimetype": "text/x-python",
   "name": "python",
   "nbconvert_exporter": "python",
   "pygments_lexer": "ipython3",
   "version": "3.11.7"
  }
 },
 "nbformat": 4,
 "nbformat_minor": 2
}
