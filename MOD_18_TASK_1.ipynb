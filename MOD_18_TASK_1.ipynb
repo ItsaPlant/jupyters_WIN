{
 "cells": [
  {
   "cell_type": "code",
   "execution_count": 1,
   "metadata": {},
   "outputs": [
    {
     "name": "stdout",
     "output_type": "stream",
     "text": [
      "WARNING:tensorflow:From c:\\Users\\krzys\\anaconda3\\Lib\\site-packages\\keras\\src\\losses.py:2976: The name tf.losses.sparse_softmax_cross_entropy is deprecated. Please use tf.compat.v1.losses.sparse_softmax_cross_entropy instead.\n",
      "\n"
     ]
    },
    {
     "name": "stderr",
     "output_type": "stream",
     "text": [
      "c:\\Users\\krzys\\anaconda3\\Lib\\site-packages\\sklearn\\preprocessing\\_encoders.py:868: FutureWarning: `sparse` was renamed to `sparse_output` in version 1.2 and will be removed in 1.4. `sparse_output` is ignored unless you leave `sparse` to its default value.\n",
      "  warnings.warn(\n"
     ]
    }
   ],
   "source": [
    "import tensorflow as tf\n",
    "from tensorflow.keras.models import Sequential\n",
    "from tensorflow.keras.layers import Dense, Dropout\n",
    "from sklearn.datasets import load_iris\n",
    "from sklearn.model_selection import train_test_split\n",
    "from sklearn.preprocessing import StandardScaler\n",
    "from sklearn.preprocessing import OneHotEncoder\n",
    "\n",
    "# Ładowanie danych\n",
    "iris = load_iris()\n",
    "X = iris.data\n",
    "y = iris.target\n",
    "\n",
    "# One-hot encoding dla etykiet\n",
    "encoder = OneHotEncoder(sparse=False)\n",
    "y = encoder.fit_transform(y.reshape(-1, 1))\n",
    "\n",
    "# Podział danych na zbiory treningowy i testowy\n",
    "X_train, X_test, y_train, y_test = train_test_split(X, y, test_size=0.2, random_state=42)\n",
    "\n",
    "# Skalowanie cech\n",
    "scaler = StandardScaler()\n",
    "X_train = scaler.fit_transform(X_train)\n",
    "X_test = scaler.transform(X_test)\n"
   ]
  },
  {
   "cell_type": "code",
   "execution_count": 2,
   "metadata": {},
   "outputs": [
    {
     "name": "stdout",
     "output_type": "stream",
     "text": [
      "WARNING:tensorflow:From c:\\Users\\krzys\\anaconda3\\Lib\\site-packages\\keras\\src\\backend.py:873: The name tf.get_default_graph is deprecated. Please use tf.compat.v1.get_default_graph instead.\n",
      "\n",
      "WARNING:tensorflow:From c:\\Users\\krzys\\anaconda3\\Lib\\site-packages\\keras\\src\\optimizers\\__init__.py:309: The name tf.train.Optimizer is deprecated. Please use tf.compat.v1.train.Optimizer instead.\n",
      "\n",
      "Model: \"sequential\"\n",
      "_________________________________________________________________\n",
      " Layer (type)                Output Shape              Param #   \n",
      "=================================================================\n",
      " dense (Dense)               (None, 64)                320       \n",
      "                                                                 \n",
      " dropout (Dropout)           (None, 64)                0         \n",
      "                                                                 \n",
      " dense_1 (Dense)             (None, 64)                4160      \n",
      "                                                                 \n",
      " dropout_1 (Dropout)         (None, 64)                0         \n",
      "                                                                 \n",
      " dense_2 (Dense)             (None, 3)                 195       \n",
      "                                                                 \n",
      "=================================================================\n",
      "Total params: 4675 (18.26 KB)\n",
      "Trainable params: 4675 (18.26 KB)\n",
      "Non-trainable params: 0 (0.00 Byte)\n",
      "_________________________________________________________________\n"
     ]
    }
   ],
   "source": [
    "# Deklaracja modelu\n",
    "model = Sequential([\n",
    "    Dense(64, activation='relu', input_shape=(X_train.shape[1],)),\n",
    "    Dropout(0.5),\n",
    "    Dense(64, activation='relu'),\n",
    "    Dropout(0.5),\n",
    "    Dense(3, activation='softmax')  # 3 klasy dla zbioru Iris\n",
    "])\n",
    "\n",
    "# Kompilacja modelu\n",
    "model.compile(\n",
    "    optimizer='adam',\n",
    "    loss='categorical_crossentropy',\n",
    "    metrics=['accuracy']\n",
    ")\n",
    "\n",
    "# Wypisanie podsumowania modelu\n",
    "model.summary()\n"
   ]
  },
  {
   "cell_type": "code",
   "execution_count": 3,
   "metadata": {},
   "outputs": [
    {
     "name": "stdout",
     "output_type": "stream",
     "text": [
      "Epoch 1/50\n",
      "WARNING:tensorflow:From c:\\Users\\krzys\\anaconda3\\Lib\\site-packages\\keras\\src\\utils\\tf_utils.py:492: The name tf.ragged.RaggedTensorValue is deprecated. Please use tf.compat.v1.ragged.RaggedTensorValue instead.\n",
      "\n",
      "WARNING:tensorflow:From c:\\Users\\krzys\\anaconda3\\Lib\\site-packages\\keras\\src\\engine\\base_layer_utils.py:384: The name tf.executing_eagerly_outside_functions is deprecated. Please use tf.compat.v1.executing_eagerly_outside_functions instead.\n",
      "\n",
      "6/6 [==============================] - 3s 96ms/step - loss: 0.9900 - accuracy: 0.4688 - val_loss: 0.8720 - val_accuracy: 0.9167\n",
      "Epoch 2/50\n",
      "6/6 [==============================] - 0s 25ms/step - loss: 0.9098 - accuracy: 0.6562 - val_loss: 0.8020 - val_accuracy: 0.8750\n",
      "Epoch 3/50\n",
      "6/6 [==============================] - 0s 13ms/step - loss: 0.8148 - accuracy: 0.6458 - val_loss: 0.7394 - val_accuracy: 0.8750\n",
      "Epoch 4/50\n",
      "6/6 [==============================] - 0s 16ms/step - loss: 0.7644 - accuracy: 0.7917 - val_loss: 0.6821 - val_accuracy: 0.8750\n",
      "Epoch 5/50\n",
      "6/6 [==============================] - 0s 13ms/step - loss: 0.7212 - accuracy: 0.7396 - val_loss: 0.6296 - val_accuracy: 0.8750\n",
      "Epoch 6/50\n",
      "6/6 [==============================] - 0s 15ms/step - loss: 0.6608 - accuracy: 0.7708 - val_loss: 0.5790 - val_accuracy: 0.8750\n",
      "Epoch 7/50\n",
      "6/6 [==============================] - 0s 12ms/step - loss: 0.5874 - accuracy: 0.7708 - val_loss: 0.5357 - val_accuracy: 0.8750\n",
      "Epoch 8/50\n",
      "6/6 [==============================] - 0s 15ms/step - loss: 0.6079 - accuracy: 0.8229 - val_loss: 0.4997 - val_accuracy: 0.8750\n",
      "Epoch 9/50\n",
      "6/6 [==============================] - 0s 16ms/step - loss: 0.5100 - accuracy: 0.8542 - val_loss: 0.4674 - val_accuracy: 0.8750\n",
      "Epoch 10/50\n",
      "6/6 [==============================] - 0s 12ms/step - loss: 0.5347 - accuracy: 0.7604 - val_loss: 0.4411 - val_accuracy: 0.8750\n",
      "Epoch 11/50\n",
      "6/6 [==============================] - 0s 10ms/step - loss: 0.4730 - accuracy: 0.8333 - val_loss: 0.4213 - val_accuracy: 0.8750\n",
      "Epoch 12/50\n",
      "6/6 [==============================] - 0s 9ms/step - loss: 0.5115 - accuracy: 0.7812 - val_loss: 0.4077 - val_accuracy: 0.9167\n",
      "Epoch 13/50\n",
      "6/6 [==============================] - 0s 13ms/step - loss: 0.4499 - accuracy: 0.8229 - val_loss: 0.3939 - val_accuracy: 0.9167\n",
      "Epoch 14/50\n",
      "6/6 [==============================] - 0s 23ms/step - loss: 0.4343 - accuracy: 0.8125 - val_loss: 0.3806 - val_accuracy: 0.9167\n",
      "Epoch 15/50\n",
      "6/6 [==============================] - 0s 8ms/step - loss: 0.3765 - accuracy: 0.8542 - val_loss: 0.3693 - val_accuracy: 0.9167\n",
      "Epoch 16/50\n",
      "6/6 [==============================] - 0s 10ms/step - loss: 0.4155 - accuracy: 0.8333 - val_loss: 0.3541 - val_accuracy: 0.9167\n",
      "Epoch 17/50\n",
      "6/6 [==============================] - 0s 10ms/step - loss: 0.4348 - accuracy: 0.8125 - val_loss: 0.3422 - val_accuracy: 0.9167\n",
      "Epoch 18/50\n",
      "6/6 [==============================] - 0s 12ms/step - loss: 0.3942 - accuracy: 0.8125 - val_loss: 0.3366 - val_accuracy: 0.9167\n",
      "Epoch 19/50\n",
      "6/6 [==============================] - 0s 10ms/step - loss: 0.3414 - accuracy: 0.8854 - val_loss: 0.3299 - val_accuracy: 0.9167\n",
      "Epoch 20/50\n",
      "6/6 [==============================] - 0s 12ms/step - loss: 0.3631 - accuracy: 0.8438 - val_loss: 0.3284 - val_accuracy: 0.9167\n",
      "Epoch 21/50\n",
      "6/6 [==============================] - 0s 10ms/step - loss: 0.4213 - accuracy: 0.8333 - val_loss: 0.3241 - val_accuracy: 0.9167\n",
      "Epoch 22/50\n",
      "6/6 [==============================] - 0s 10ms/step - loss: 0.4177 - accuracy: 0.7812 - val_loss: 0.3168 - val_accuracy: 0.9167\n",
      "Epoch 23/50\n",
      "6/6 [==============================] - 0s 13ms/step - loss: 0.3627 - accuracy: 0.8333 - val_loss: 0.3025 - val_accuracy: 0.9167\n",
      "Epoch 24/50\n",
      "6/6 [==============================] - 0s 12ms/step - loss: 0.3892 - accuracy: 0.8438 - val_loss: 0.2952 - val_accuracy: 0.9167\n",
      "Epoch 25/50\n",
      "6/6 [==============================] - 0s 9ms/step - loss: 0.3944 - accuracy: 0.8438 - val_loss: 0.2925 - val_accuracy: 0.9167\n",
      "Epoch 26/50\n",
      "6/6 [==============================] - 0s 11ms/step - loss: 0.3075 - accuracy: 0.8854 - val_loss: 0.2907 - val_accuracy: 0.9167\n",
      "Epoch 27/50\n",
      "6/6 [==============================] - 0s 12ms/step - loss: 0.3288 - accuracy: 0.8854 - val_loss: 0.2935 - val_accuracy: 0.9167\n",
      "Epoch 28/50\n",
      "6/6 [==============================] - 0s 13ms/step - loss: 0.3261 - accuracy: 0.9062 - val_loss: 0.2880 - val_accuracy: 0.9167\n",
      "Epoch 29/50\n",
      "6/6 [==============================] - 0s 13ms/step - loss: 0.3291 - accuracy: 0.8646 - val_loss: 0.2840 - val_accuracy: 0.9167\n",
      "Epoch 30/50\n",
      "6/6 [==============================] - 0s 10ms/step - loss: 0.3027 - accuracy: 0.8438 - val_loss: 0.2707 - val_accuracy: 0.9167\n",
      "Epoch 31/50\n",
      "6/6 [==============================] - 0s 12ms/step - loss: 0.2944 - accuracy: 0.8958 - val_loss: 0.2691 - val_accuracy: 0.9167\n",
      "Epoch 32/50\n",
      "6/6 [==============================] - 0s 14ms/step - loss: 0.2749 - accuracy: 0.8542 - val_loss: 0.2690 - val_accuracy: 0.9167\n",
      "Epoch 33/50\n",
      "6/6 [==============================] - 0s 15ms/step - loss: 0.2883 - accuracy: 0.8958 - val_loss: 0.2613 - val_accuracy: 0.9167\n",
      "Epoch 34/50\n",
      "6/6 [==============================] - 0s 14ms/step - loss: 0.2522 - accuracy: 0.8958 - val_loss: 0.2540 - val_accuracy: 0.9167\n",
      "Epoch 35/50\n",
      "6/6 [==============================] - 0s 13ms/step - loss: 0.3148 - accuracy: 0.8750 - val_loss: 0.2500 - val_accuracy: 0.9167\n",
      "Epoch 36/50\n",
      "6/6 [==============================] - 0s 14ms/step - loss: 0.2592 - accuracy: 0.8958 - val_loss: 0.2534 - val_accuracy: 0.9167\n",
      "Epoch 37/50\n",
      "6/6 [==============================] - 0s 15ms/step - loss: 0.3059 - accuracy: 0.8646 - val_loss: 0.2529 - val_accuracy: 0.9583\n",
      "Epoch 38/50\n",
      "6/6 [==============================] - 0s 16ms/step - loss: 0.2648 - accuracy: 0.8958 - val_loss: 0.2459 - val_accuracy: 0.9583\n",
      "Epoch 39/50\n",
      "6/6 [==============================] - 0s 17ms/step - loss: 0.2940 - accuracy: 0.9167 - val_loss: 0.2384 - val_accuracy: 0.9583\n",
      "Epoch 40/50\n",
      "6/6 [==============================] - 0s 13ms/step - loss: 0.2971 - accuracy: 0.8854 - val_loss: 0.2311 - val_accuracy: 0.9167\n",
      "Epoch 41/50\n",
      "6/6 [==============================] - 0s 30ms/step - loss: 0.2627 - accuracy: 0.9062 - val_loss: 0.2250 - val_accuracy: 0.9167\n",
      "Epoch 42/50\n",
      "6/6 [==============================] - 0s 13ms/step - loss: 0.2807 - accuracy: 0.8646 - val_loss: 0.2227 - val_accuracy: 0.9167\n",
      "Epoch 43/50\n",
      "6/6 [==============================] - 0s 13ms/step - loss: 0.2665 - accuracy: 0.9167 - val_loss: 0.2173 - val_accuracy: 0.9167\n",
      "Epoch 44/50\n",
      "6/6 [==============================] - 0s 16ms/step - loss: 0.2213 - accuracy: 0.9375 - val_loss: 0.2198 - val_accuracy: 0.9583\n",
      "Epoch 45/50\n",
      "6/6 [==============================] - 0s 12ms/step - loss: 0.2711 - accuracy: 0.8854 - val_loss: 0.2232 - val_accuracy: 0.9583\n",
      "Epoch 46/50\n",
      "6/6 [==============================] - 0s 14ms/step - loss: 0.2551 - accuracy: 0.8750 - val_loss: 0.2276 - val_accuracy: 0.9583\n",
      "Epoch 47/50\n",
      "6/6 [==============================] - 0s 15ms/step - loss: 0.2677 - accuracy: 0.9062 - val_loss: 0.2277 - val_accuracy: 0.9583\n",
      "Epoch 48/50\n",
      "6/6 [==============================] - 0s 17ms/step - loss: 0.2463 - accuracy: 0.9167 - val_loss: 0.2165 - val_accuracy: 0.9583\n",
      "Epoch 49/50\n",
      "6/6 [==============================] - 0s 15ms/step - loss: 0.2329 - accuracy: 0.9271 - val_loss: 0.2111 - val_accuracy: 0.9583\n",
      "Epoch 50/50\n",
      "6/6 [==============================] - 0s 13ms/step - loss: 0.2394 - accuracy: 0.9271 - val_loss: 0.2067 - val_accuracy: 0.9583\n"
     ]
    }
   ],
   "source": [
    "# Trenowanie modelu\n",
    "history = model.fit(\n",
    "    X_train, y_train,\n",
    "    epochs=50,\n",
    "    batch_size=16,\n",
    "    validation_split=0.2\n",
    ")\n"
   ]
  },
  {
   "cell_type": "code",
   "execution_count": 4,
   "metadata": {},
   "outputs": [
    {
     "name": "stdout",
     "output_type": "stream",
     "text": [
      "1/1 [==============================] - 0s 52ms/step - loss: 0.1254 - accuracy: 1.0000\n",
      "Test accuracy: 1.0\n"
     ]
    }
   ],
   "source": [
    "# Ocena modelu na zbiorze testowym\n",
    "test_loss, test_accuracy = model.evaluate(X_test, y_test)\n",
    "print(f'Test accuracy: {test_accuracy}')\n"
   ]
  },
  {
   "cell_type": "code",
   "execution_count": null,
   "metadata": {},
   "outputs": [],
   "source": []
  }
 ],
 "metadata": {
  "kernelspec": {
   "display_name": "base",
   "language": "python",
   "name": "python3"
  },
  "language_info": {
   "codemirror_mode": {
    "name": "ipython",
    "version": 3
   },
   "file_extension": ".py",
   "mimetype": "text/x-python",
   "name": "python",
   "nbconvert_exporter": "python",
   "pygments_lexer": "ipython3",
   "version": "3.11.7"
  }
 },
 "nbformat": 4,
 "nbformat_minor": 2
}
